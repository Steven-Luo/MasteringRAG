{
 "cells": [
  {
   "metadata": {},
   "cell_type": "code",
   "outputs": [],
   "execution_count": null,
   "source": [
    "%env LLM_BASE_URL=https://dashscope.aliyuncs.com/compatible-mode/v1\n",
    "%env LLM_API_KEY=sk-替换为自己的API Key"
   ],
   "id": "dc3aa90b0852ec00"
  },
  {
   "cell_type": "code",
   "execution_count": 2,
   "id": "af375836-b870-458b-87d1-4e00565977eb",
   "metadata": {
    "execution": {
     "iopub.execute_input": "2025-01-18T03:16:13.084083Z",
     "iopub.status.busy": "2025-01-18T03:16:13.083958Z",
     "iopub.status.idle": "2025-01-18T03:16:13.096596Z",
     "shell.execute_reply": "2025-01-18T03:16:13.096132Z",
     "shell.execute_reply.started": "2025-01-18T03:16:13.084071Z"
    },
    "papermill": {
     "duration": 0.115454,
     "end_time": "2024-11-23T14:29:00.919641",
     "exception": false,
     "start_time": "2024-11-23T14:29:00.804187",
     "status": "completed"
    },
    "tags": []
   },
   "outputs": [],
   "source": [
    "%%capture --no-stderr\n",
    "!pip install -U langchain langchain-community langchain-experimental langchain-openai pypdf sentence_transformers chromadb shutil"
   ]
  },
  {
   "cell_type": "code",
   "execution_count": 3,
   "id": "1e2c72b8-ee12-4130-af88-699998aa230c",
   "metadata": {
    "execution": {
     "iopub.execute_input": "2025-01-18T03:16:13.097201Z",
     "iopub.status.busy": "2025-01-18T03:16:13.097075Z",
     "iopub.status.idle": "2025-01-18T03:16:13.344462Z",
     "shell.execute_reply": "2025-01-18T03:16:13.343981Z",
     "shell.execute_reply.started": "2025-01-18T03:16:13.097189Z"
    },
    "papermill": {
     "duration": 0.319981,
     "end_time": "2024-11-23T14:29:01.380771",
     "exception": false,
     "start_time": "2024-11-23T14:29:01.060790",
     "status": "completed"
    },
    "tags": []
   },
   "outputs": [],
   "source": [
    "import os\n",
    "import pandas as pd\n",
    "import sys"
   ]
  },
  {
   "cell_type": "markdown",
   "id": "c4ffc3f1-ad9f-4859-acd9-5aae0f702df0",
   "metadata": {},
   "source": [
    "将[Meta-Chunking官方仓库](https://github.com/IAAR-Shanghai/Meta-Chunking/tree/main/example)的example文件夹下的`chunk_rag.py`和`perplexity_chunking.py`拷贝到`Meta-Chunking`目录下，加入系统路径，方便后续使用"
   ]
  },
  {
   "cell_type": "code",
   "execution_count": 5,
   "id": "655f9dc5-a5fe-424d-94ed-f096f29cf3f7",
   "metadata": {
    "execution": {
     "iopub.execute_input": "2025-01-18T03:16:13.349026Z",
     "iopub.status.busy": "2025-01-18T03:16:13.348896Z",
     "iopub.status.idle": "2025-01-18T03:16:13.360112Z",
     "shell.execute_reply": "2025-01-18T03:16:13.359557Z",
     "shell.execute_reply.started": "2025-01-18T03:16:13.349013Z"
    }
   },
   "outputs": [],
   "source": [
    "sys.path.append('Meta-Chunking')"
   ]
  },
  {
   "cell_type": "code",
   "execution_count": 6,
   "id": "841d2b02-ad06-40d2-b11f-c7adccec6ca2",
   "metadata": {
    "execution": {
     "iopub.execute_input": "2025-01-18T03:16:13.360744Z",
     "iopub.status.busy": "2025-01-18T03:16:13.360605Z",
     "iopub.status.idle": "2025-01-18T03:16:13.477906Z",
     "shell.execute_reply": "2025-01-18T03:16:13.477415Z",
     "shell.execute_reply.started": "2025-01-18T03:16:13.360731Z"
    },
    "papermill": {
     "duration": 0.121409,
     "end_time": "2024-11-23T14:29:01.638126",
     "exception": false,
     "start_time": "2024-11-23T14:29:01.516717",
     "status": "completed"
    },
    "tags": []
   },
   "outputs": [],
   "source": [
    "expr_version = 'split_04_meta_chunking'\n",
    "\n",
    "preprocess_output_dir = os.path.join(os.path.pardir, 'outputs', 'v1_20240713')\n",
    "qa_df = pd.read_excel(os.path.join(preprocess_output_dir, 'question_answer.xlsx'))\n",
    "expr_dir = os.path.join(os.path.pardir, 'experiments', expr_version)\n",
    "\n",
    "os.makedirs(expr_dir, exist_ok=True)"
   ]
  },
  {
   "cell_type": "markdown",
   "id": "cf7e81e3-4c82-4842-aef5-7592caaf1d39",
   "metadata": {
    "papermill": {
     "duration": 0.100379,
     "end_time": "2024-11-23T14:29:01.862379",
     "exception": false,
     "start_time": "2024-11-23T14:29:01.762000",
     "status": "completed"
    },
    "tags": []
   },
   "source": [
    "# 读取文档"
   ]
  },
  {
   "cell_type": "code",
   "execution_count": 7,
   "id": "e6920e29-bc7d-4635-be06-d151eaf0e100",
   "metadata": {
    "execution": {
     "iopub.execute_input": "2025-01-18T03:16:13.478728Z",
     "iopub.status.busy": "2025-01-18T03:16:13.478512Z",
     "iopub.status.idle": "2025-01-18T03:16:15.210101Z",
     "shell.execute_reply": "2025-01-18T03:16:15.209633Z",
     "shell.execute_reply.started": "2025-01-18T03:16:13.478714Z"
    },
    "papermill": {
     "duration": 2.012298,
     "end_time": "2024-11-23T14:29:03.974974",
     "exception": false,
     "start_time": "2024-11-23T14:29:01.962676",
     "status": "completed"
    },
    "tags": []
   },
   "outputs": [],
   "source": [
    "from langchain_community.document_loaders import PyPDFLoader\n",
    "import re\n",
    "\n",
    "loader = PyPDFLoader(os.path.join(os.path.pardir, 'data', '2024全球经济金融展望报告.pdf'))\n",
    "pdf_documents = loader.load()\n",
    "\n",
    "# 把页眉页脚去掉\n",
    "pattern = r\"^全球经济金融展望报告\\n中国银行研究院 \\d+ 2024年\"\n",
    "# PyPDFLoader解析的文档\n",
    "pdf_document = '\\n\\n'.join(re.sub(pattern, '', doc.page_content) for doc in pdf_documents)\n",
    "# MinerU解析的文档\n",
    "markdown_document = open(os.path.join(os.path.pardir, 'outputs', 'MinerU_parsed_20241204', '2024全球经济金融展望报告.md')).read()"
   ]
  },
  {
   "cell_type": "code",
   "execution_count": 8,
   "id": "575f15d5-8035-4451-9385-9acecac6bdf5",
   "metadata": {
    "execution": {
     "iopub.execute_input": "2025-01-18T03:16:15.210764Z",
     "iopub.status.busy": "2025-01-18T03:16:15.210637Z",
     "iopub.status.idle": "2025-01-18T03:16:15.215134Z",
     "shell.execute_reply": "2025-01-18T03:16:15.214807Z",
     "shell.execute_reply.started": "2025-01-18T03:16:15.210752Z"
    }
   },
   "outputs": [
    {
     "data": {
      "text/plain": [
       "31202"
      ]
     },
     "execution_count": 8,
     "metadata": {},
     "output_type": "execute_result"
    }
   ],
   "source": [
    "len(pdf_document)"
   ]
  },
  {
   "cell_type": "code",
   "execution_count": 9,
   "id": "b77b8fd4-38c3-4c8d-b913-d80926d6fb84",
   "metadata": {
    "execution": {
     "iopub.execute_input": "2025-01-18T03:16:15.215784Z",
     "iopub.status.busy": "2025-01-18T03:16:15.215597Z",
     "iopub.status.idle": "2025-01-18T03:16:15.228558Z",
     "shell.execute_reply": "2025-01-18T03:16:15.228140Z",
     "shell.execute_reply.started": "2025-01-18T03:16:15.215772Z"
    }
   },
   "outputs": [
    {
     "data": {
      "text/plain": [
       "33940"
      ]
     },
     "execution_count": 9,
     "metadata": {},
     "output_type": "execute_result"
    }
   ],
   "source": [
    "len(markdown_document)"
   ]
  },
  {
   "cell_type": "markdown",
   "id": "841ec659-4ad7-4e1f-b1ea-3477bf97fde3",
   "metadata": {
    "papermill": {
     "duration": 0.100297,
     "end_time": "2024-11-23T14:29:04.219302",
     "exception": false,
     "start_time": "2024-11-23T14:29:04.119005",
     "status": "completed"
    },
    "tags": []
   },
   "source": [
    "# 文档切分"
   ]
  },
  {
   "cell_type": "code",
   "execution_count": 10,
   "id": "74fe856a-7c19-4c3c-bb30-7abfa6298f74",
   "metadata": {
    "execution": {
     "iopub.execute_input": "2025-01-18T03:16:15.229134Z",
     "iopub.status.busy": "2025-01-18T03:16:15.229008Z",
     "iopub.status.idle": "2025-01-18T03:16:15.406750Z",
     "shell.execute_reply": "2025-01-18T03:16:15.406264Z",
     "shell.execute_reply.started": "2025-01-18T03:16:15.229121Z"
    },
    "papermill": {
     "duration": 0.109229,
     "end_time": "2024-11-23T14:29:04.429069",
     "exception": false,
     "start_time": "2024-11-23T14:29:04.319840",
     "status": "completed"
    },
    "tags": []
   },
   "outputs": [],
   "source": [
    "import os\n",
    "import pickle\n",
    "import requests\n",
    "from langchain.schema import Document"
   ]
  },
  {
   "cell_type": "markdown",
   "id": "30eb3df7-a746-40d7-8398-e5548486dac5",
   "metadata": {},
   "source": [
    "以下meta_chunking的实现，[Meta-Chunking官方仓库](https://github.com/IAAR-Shanghai/Meta-Chunking/tree/main/example)的example文件夹下`app.py`"
   ]
  },
  {
   "cell_type": "code",
   "execution_count": 11,
   "id": "41c6580c-c01a-4801-ad75-e35eef8ece05",
   "metadata": {
    "execution": {
     "iopub.execute_input": "2025-01-18T03:16:15.407431Z",
     "iopub.status.busy": "2025-01-18T03:16:15.407296Z",
     "iopub.status.idle": "2025-01-18T03:16:22.400005Z",
     "shell.execute_reply": "2025-01-18T03:16:22.399502Z",
     "shell.execute_reply.started": "2025-01-18T03:16:15.407417Z"
    }
   },
   "outputs": [],
   "source": [
    "from transformers import AutoModelForCausalLM, AutoTokenizer\n",
    "import torch\n",
    "import json\n",
    "import torch.nn.functional as F\n",
    "\n",
    "# model_name_or_path= 'Qwen2-1.5B-Instruct'   \n",
    "model_name_or_path= '/DataScience/HuggingFace/Models/Qwen/Qwen2-1.5B-Instruct'   \n",
    "\n",
    "# device_map = \"auto\"\n",
    "# 1080Ti会报显存不足的问题，使用CPU预测\n",
    "device_map = \"cpu\"\n",
    "small_tokenizer = AutoTokenizer.from_pretrained(model_name_or_path,trust_remote_code=True)  \n",
    "small_model = AutoModelForCausalLM.from_pretrained(model_name_or_path, trust_remote_code=True,device_map=device_map) \n",
    "small_model.eval()\n",
    "\n",
    "def get_prob_subtract(model,tokenizer,sentence1,sentence2,language):\n",
    "    if language=='zh':\n",
    "        query='''这是一个文本分块任务.你是一位文本分析专家，请根据提供的句子的逻辑结构和语义内容，从下面两种方案中选择一种分块方式：\n",
    "        1. 将“{}”分割成“{}”与“{}”两部分；\n",
    "        2. 将“{}”不进行分割，保持原形式；\n",
    "        请回答1或2。'''.format(sentence1+sentence2,sentence1,sentence2,sentence1+sentence2)\n",
    "        prompt=\"<|im_start|>system\\nYou are a helpful assistant.<|im_end|>\\n<|im_start|>user\\n{}<|im_end|>\\n<|im_start|>assistant\\n\".format(query)\n",
    "        prompt_ids = tokenizer.encode(prompt, return_tensors='pt').to(model.device)\n",
    "        input_ids=prompt_ids\n",
    "        output_ids = tokenizer.encode(['1','2'], return_tensors='pt').to(model.device)\n",
    "        with torch.no_grad():\n",
    "            outputs = model(input_ids)\n",
    "            next_token_logits = outputs.logits[:, -1, :]\n",
    "            token_probs = F.softmax(next_token_logits, dim=-1)\n",
    "        next_token_id_0 = output_ids[:, 0].unsqueeze(0)\n",
    "        next_token_prob_0 = token_probs[:, next_token_id_0].item()      \n",
    "        next_token_id_1 = output_ids[:, 1].unsqueeze(0)\n",
    "        next_token_prob_1 = token_probs[:, next_token_id_1].item()  \n",
    "        prob_subtract=next_token_prob_1-next_token_prob_0\n",
    "    else:\n",
    "        query='''This is a text chunking task. You are a text analysis expert. Please choose one of the following two options based on the logical structure and semantic content of the provided sentence:\n",
    "        1. Split \"{}\" into \"{}\" and \"{}\" two parts;\n",
    "        2. Keep \"{}\" unsplit in its original form;\n",
    "        Please answer 1 or 2.'''.format(sentence1+' '+sentence2,sentence1,sentence2,sentence1+' '+sentence2)\n",
    "        prompt=\"<|im_start|>system\\nYou are a helpful assistant.<|im_end|>\\n<|im_start|>user\\n{}<|im_end|>\\n<|im_start|>assistant\\n\".format(query)\n",
    "        prompt_ids = tokenizer.encode(prompt, return_tensors='pt').to(model.device)\n",
    "        input_ids=prompt_ids\n",
    "        output_ids = tokenizer.encode(['1','2'], return_tensors='pt').to(model.device)\n",
    "        with torch.no_grad():\n",
    "            outputs = model(input_ids)\n",
    "            next_token_logits = outputs.logits[:, -1, :]\n",
    "            token_probs = F.softmax(next_token_logits, dim=-1)\n",
    "        next_token_id_0 = output_ids[:, 0].unsqueeze(0)\n",
    "        next_token_prob_0 = token_probs[:, next_token_id_0].item()      \n",
    "        next_token_id_1 = output_ids[:, 1].unsqueeze(0)\n",
    "        next_token_prob_1 = token_probs[:, next_token_id_1].item()  \n",
    "        prob_subtract=next_token_prob_1-next_token_prob_0\n",
    "    return prob_subtract\n",
    "\n",
    "from chunk_rag import extract_by_html2text_db_nolist,split_text_by_punctuation\n",
    "def meta_chunking(original_text,base_model,language,ppl_threshold,chunk_length):\n",
    "    chunk_length=int(chunk_length)\n",
    "    if base_model=='PPL Chunking':\n",
    "        final_chunks=extract_by_html2text_db_nolist(original_text,small_model,small_tokenizer,ppl_threshold,language=language)\n",
    "    else:\n",
    "        full_segments = split_text_by_punctuation(original_text,language)\n",
    "        tmp=''\n",
    "        threshold=0\n",
    "        threshold_list=[]\n",
    "        final_chunks=[]\n",
    "        for sentence in full_segments:\n",
    "            if tmp=='':\n",
    "                tmp+=sentence\n",
    "            else:\n",
    "                prob_subtract=get_prob_subtract(small_model,small_tokenizer,tmp,sentence,language)    \n",
    "                threshold_list.append(prob_subtract)\n",
    "                if prob_subtract>threshold:\n",
    "                    tmp+=' '+sentence\n",
    "                else:\n",
    "                    final_chunks.append(tmp)\n",
    "                    tmp=sentence\n",
    "            if len(threshold_list)>=5:\n",
    "                last_ten = threshold_list[-5:]  \n",
    "                avg = sum(last_ten) / len(last_ten)\n",
    "                threshold=avg\n",
    "        if tmp!='':\n",
    "            final_chunks.append(tmp)\n",
    "            \n",
    "    merged_paragraphs = []\n",
    "    current_paragraph = \"\"  \n",
    "    if language=='zh':\n",
    "        for paragraph in final_chunks:  \n",
    "            if len(current_paragraph) + len(paragraph) <= chunk_length:  \n",
    "                current_paragraph +=paragraph  \n",
    "            else:  \n",
    "                merged_paragraphs.append(current_paragraph)  \n",
    "                current_paragraph = paragraph    \n",
    "    else:\n",
    "        for paragraph in final_chunks:  \n",
    "            if len(current_paragraph.split()) + len(paragraph.split()) <= chunk_length:\n",
    "                current_paragraph +=' '+paragraph  \n",
    "            else:  \n",
    "                merged_paragraphs.append(current_paragraph)   \n",
    "                current_paragraph = paragraph \n",
    "    if current_paragraph:  \n",
    "        merged_paragraphs.append(current_paragraph) \n",
    "    # final_text='\\n\\n'.join(merged_paragraphs)\n",
    "    # return final_text\n",
    "    return [Document(page_content=text) for text in merged_paragraphs]"
   ]
  },
  {
   "cell_type": "markdown",
   "id": "34dc4a6a-3057-4d53-9e44-7f3af9e1c933",
   "metadata": {},
   "source": "这一步非常耗时，NVIDIA GTX 1080 Ti 11G显存的GPU上会报CUDA out of memory，全程使用Intel i7 9700K CPU，运行了5个半小时，耗时主要在Margin Sampling Chunking这种切分方式上，每种文档PPL Chunking基本上只耗费5分钟，剩余的大部分时间都花在Margin Sampling Chunking上"
  },
  {
   "cell_type": "code",
   "execution_count": 12,
   "id": "0ce86c32-296c-40ad-9759-02525a075f70",
   "metadata": {
    "execution": {
     "iopub.execute_input": "2025-01-18T03:16:22.400852Z",
     "iopub.status.busy": "2025-01-18T03:16:22.400616Z",
     "iopub.status.idle": "2025-01-18T08:47:09.295046Z",
     "shell.execute_reply": "2025-01-18T08:47:09.294577Z",
     "shell.execute_reply.started": "2025-01-18T03:16:22.400838Z"
    }
   },
   "outputs": [
    {
     "data": {
      "application/vnd.jupyter.widget-view+json": {
       "model_id": "6ca37e93b7ab496791e120085c718999",
       "version_major": 2,
       "version_minor": 0
      },
      "text/plain": [
       "  0%|          | 0/4 [00:00<?, ?it/s]"
      ]
     },
     "metadata": {},
     "output_type": "display_data"
    },
    {
     "name": "stderr",
     "output_type": "stream",
     "text": [
      "Building prefix dict from the default dictionary ...\n",
      "Loading model from cache /tmp/jieba.cache\n",
      "Loading model cost 0.512 seconds.\n",
      "Prefix dict has been built successfully.\n"
     ]
    },
    {
     "name": "stdout",
     "output_type": "stream",
     "text": [
      "111 [[0, 1, 2], [3, 4, 5], [6, 7, 8, 9], [10, 11], [12, 13], [14, 15], [16, 17], [18, 19, 20], [21, 22, 23], [24, 25, 26], [27, 28], [29, 30], [31, 32, 33], [34, 35, 36, 37, 38], [39, 40], [41, 42], [43, 44, 45], [46, 47, 48], [49, 50], [51, 52, 53, 54], [55, 56], [57, 58, 59, 60], [61, 62, 63], [64, 65], [66, 67], [68, 69], [70, 71], [72, 73, 74], [75, 76, 77, 78, 79, 80], [81, 82], [83, 84, 85], [86, 87, 88], [89, 90, 91], [92, 93, 94, 95, 96], [97, 98], [99, 100], [101, 102, 103, 104, 105, 106, 107], [108, 109, 110], [111, 112, 113], [114, 115, 116, 117], [118, 119, 120], [121, 122], [123, 124, 125], [126, 127], [128, 129], [130, 131, 132], [133, 134], [135, 136, 137], [138, 139, 140, 141], [142, 143, 144], [145, 146, 147], [148, 149], [150, 151, 152], [153, 154], [155, 156], [157, 158, 159, 160], [161, 162, 163], [164, 165, 166, 167], [168, 169], [170, 171], [172, 173], [174, 175, 176, 177], [178, 179, 180, 181], [182, 183, 184], [185, 186, 187], [188, 189, 190, 191], [192, 193, 194, 195], [196, 197, 198], [199, 200], [201, 202, 203, 204, 205], [206, 207, 208, 209], [210, 211, 212, 213], [214, 215], [216, 217], [218, 219, 220, 221], [222, 223], [224, 225, 226, 227, 228], [229, 230, 231, 232], [233, 234, 235, 236], [237, 238, 239, 240], [241, 242, 243], [244, 245, 246], [247, 248, 249, 250, 251, 252], [253, 254, 255, 256, 257], [258, 259, 260, 261], [262, 263], [264, 265, 266], [267, 268, 269], [270, 271], [272, 273], [274, 275, 276, 277], [278, 279, 280, 281, 282], [283, 284, 285], [286, 287], [288, 289], [290, 291, 292], [293, 294, 295], [296, 297, 298], [299, 300, 301], [302, 303, 304, 305, 306], [307, 308], [309, 310], [311, 312, 313], [314, 315, 316], [317, 318, 319], [320, 321, 322], [323, 324, 325, 326, 327], [328, 329, 330, 331], [332, 333], [334, 335, 336], [337, 338], [339, 340, 341, 342], [343, 344, 345], [346, 347, 348], [349, 350, 351, 352, 353], [354, 355, 356, 357], [358, 359, 360, 361, 362], [363, 364, 365, 366], [367, 368, 369], [370, 371], [372, 373], [374, 375, 376], [377, 378, 379], [380, 381], [382, 383, 384, 385, 386, 387], [388, 389], [390, 391], [392, 393, 394], [395, 396], [397, 398, 399, 400], [401, 402, 403], [404, 405, 406], [407, 408, 409], [410, 411, 412], [413, 414, 415, 416, 417, 418], [419, 420, 421, 422, 423], [424, 425], [426, 427], [428, 429], [430, 431], [432, 433, 434], [435, 436, 437], [438, 439], [440, 441, 442, 443], [444, 445], [446, 447, 448, 449], [450, 451, 452, 453], [454, 455, 456, 457, 458], [459, 460, 461, 462], [463, 464], [465, 466, 467], [468, 469, 470], [471, 472, 473], [474, 475, 476, 477, 478, 479], [480, 481], [482, 483], [484, 485], [486, 487], [488, 489, 490], [491, 492, 493, 494, 495], [496, 497, 498], [499, 500], [501, 502], [503, 504], [505, 506, 507, 508], [509, 510], [511, 512, 513], [514, 515, 516, 517, 518], [519, 520, 521, 522], [523, 524, 525, 526], [527, 528], [529, 530], [531, 532], [533, 534], [535, 536, 537], [538, 539, 540, 541, 542], [543, 544], [545, 546, 547, 548], [549, 550, 551], [552, 553, 554], [555, 556], [557, 558, 559]]\n",
      "111 [[0, 1, 2, 3, 4, 5], [6, 7, 8, 9], [10, 11, 12, 13], [14, 15], [16, 17], [18, 19, 20], [21, 22, 23], [24, 25, 26], [27, 28], [29, 30], [31, 32, 33], [34, 35, 36, 37], [38, 39, 40], [41, 42], [43, 44, 45], [46, 47, 48], [49, 50], [51, 52, 53], [54, 55], [56, 57, 58, 59], [60, 61, 62, 63], [64, 65], [66, 67], [68, 69], [70, 71], [72, 73, 74], [75, 76, 77, 78, 79, 80], [81, 82], [83, 84], [85, 86, 87, 88], [89, 90, 91], [92, 93, 94, 95], [96, 97, 98, 99, 100], [101, 102, 103, 104, 105, 106, 107], [108, 109, 110], [111, 112, 113], [114, 115, 116, 117], [118, 119, 120], [121, 122], [123, 124, 125], [126, 127], [128, 129], [130, 131, 132], [133, 134, 135, 136], [137, 138], [139, 140, 141], [142, 143, 144], [145, 146, 147], [148, 149, 150, 151, 152, 153, 154, 155], [156, 157, 158, 159], [160, 161, 162], [163, 164, 165, 166], [167, 168], [169, 170], [171, 172], [173, 174, 175], [176, 177, 178, 179], [180, 181, 182, 183], [184, 185], [186, 187, 188, 189], [190, 191, 192], [193, 194, 195, 196], [197, 198, 199], [200, 201, 202, 203], [204, 205, 206, 207], [208, 209, 210, 211], [212, 213], [214, 215], [216, 217, 218, 219], [220, 221], [222, 223, 224, 225, 226], [227, 228, 229, 230], [231, 232, 233, 234], [235, 236, 237, 238], [239, 240, 241], [242, 243, 244], [245, 246, 247], [248, 249], [250, 251], [252, 253, 254, 255], [256, 257, 258], [259, 260, 261], [262, 263, 264], [265, 266], [267, 268, 269], [270, 271], [272, 273, 274, 275], [276, 277, 278, 279, 280], [281, 282], [283, 284, 285], [286, 287], [288, 289, 290, 291, 292], [293, 294, 295, 296], [297, 298, 299], [300, 301, 302, 303, 304], [305, 306], [307, 308], [309, 310, 311], [312, 313, 314], [315, 316, 317], [318, 319, 320], [321, 322, 323], [324, 325], [326, 327, 328, 329], [330, 331], [332, 333, 334], [335, 336], [337, 338, 339, 340], [341, 342, 343], [344, 345, 346], [347, 348, 349, 350, 351], [352, 353, 354, 355, 356], [357, 358, 359, 360], [361, 362, 363, 364], [365, 366, 367], [368, 369], [370, 371], [372, 373, 374], [375, 376, 377], [378, 379], [380, 381, 382], [383, 384, 385], [386, 387], [388, 389], [390, 391, 392], [393, 394], [395, 396], [397, 398, 399], [400, 401, 402, 403, 404], [405, 406, 407], [408, 409, 410], [411, 412, 413, 414], [415, 416], [417, 418, 419, 420, 421], [422, 423], [424, 425], [426, 427], [428, 429], [430, 431, 432, 433], [434, 435], [436, 437], [438, 439, 440, 441], [442, 443], [444, 445, 446, 447], [448, 449, 450, 451, 452], [453, 454, 455, 456], [457, 458, 459, 460], [461, 462], [463, 464, 465], [466, 467, 468], [469, 470, 471, 472], [473, 474, 475, 476, 477], [478, 479], [480, 481], [482, 483], [484, 485], [486, 487, 488], [489, 490, 491, 492, 493], [494, 495, 496], [497, 498, 499], [500, 501], [502, 503, 504, 505], [506, 507], [508, 509, 510, 511], [512, 513, 514, 515], [516, 517, 518, 519], [520, 521, 522, 523], [524, 525], [526, 527], [528, 529], [530, 531], [532, 533, 534], [535, 536, 537, 538, 539], [540, 541], [542, 543, 544, 545], [546, 547, 548], [549, 550, 551], [552, 553], [554, 555, 556]]\n"
     ]
    }
   ],
   "source": [
    "import pickle\n",
    "from tqdm.auto import tqdm\n",
    "\n",
    "# 耗时操作的产出保存一下\n",
    "splitted_docs_dict_ckpt_path = os.path.join(expr_dir, 'splitted_docs_dict.pkl')\n",
    "\n",
    "if os.path.exists(splitted_docs_dict_ckpt_path):\n",
    "    print(f\"found cache, restoring from {splitted_docs_dict_ckpt_path} ...\")\n",
    "    \n",
    "    splitted_docs_dict = pickle.load(open(splitted_docs_dict_ckpt_path, 'rb'))\n",
    "else:\n",
    "    doc_types = ('pdf', 'markdown')\n",
    "    chunk_methods = ('PPL Chunking', 'Margin Sampling Chunking')\n",
    "    \n",
    "    pbar = tqdm(total=len(doc_types) * len(chunk_methods))\n",
    "\n",
    "    splitted_docs_dict = {}\n",
    "    for doc_type, document in zip(doc_types, (pdf_document, markdown_document)):\n",
    "        if doc_type not in splitted_docs_dict:\n",
    "            splitted_docs_dict[doc_type] = {}\n",
    "        for chunk_method in chunk_methods:\n",
    "            pbar.set_description(f\"{doc_type}_{chunk_method}\")\n",
    "            splitted_docs_dict[doc_type][chunk_method] = meta_chunking(document, chunk_method, 'zh', 0, 500)\n",
    "            pbar.update(1)\n",
    "    \n",
    "    pickle.dump(splitted_docs_dict, open(splitted_docs_dict_ckpt_path, 'wb'))"
   ]
  },
  {
   "cell_type": "markdown",
   "id": "1652476c-3957-40fb-99ca-0a998390f094",
   "metadata": {
    "execution": {
     "iopub.execute_input": "2024-12-13T03:00:55.978768Z",
     "iopub.status.busy": "2024-12-13T03:00:55.978064Z",
     "iopub.status.idle": "2024-12-13T03:00:55.987230Z",
     "shell.execute_reply": "2024-12-13T03:00:55.984859Z",
     "shell.execute_reply.started": "2024-12-13T03:00:55.978705Z"
    }
   },
   "source": [
    "## 检查一下切分后的块长度分布"
   ]
  },
  {
   "cell_type": "code",
   "execution_count": 13,
   "id": "2adff9b0-96c9-496d-8c19-20a7232c2f75",
   "metadata": {
    "execution": {
     "iopub.execute_input": "2025-01-18T08:48:13.912429Z",
     "iopub.status.busy": "2025-01-18T08:48:13.912200Z",
     "iopub.status.idle": "2025-01-18T08:48:13.922580Z",
     "shell.execute_reply": "2025-01-18T08:48:13.922126Z",
     "shell.execute_reply.started": "2025-01-18T08:48:13.912416Z"
    }
   },
   "outputs": [
    {
     "name": "stdout",
     "output_type": "stream",
     "text": [
      "=============== pdf PPL Chunking ===============\n",
      "docs count: 74\n",
      "doc length distribution\n",
      "count      74.000000\n",
      "mean      419.094595\n",
      "std       121.162200\n",
      "min       181.000000\n",
      "25%       362.500000\n",
      "50%       410.000000\n",
      "75%       460.750000\n",
      "90%       482.700000\n",
      "97%       581.050000\n",
      "99%       907.510000\n",
      "max      1136.000000\n",
      "dtype: float64\n",
      "=============== pdf Margin Sampling Chunking ===============\n",
      "docs count: 71\n",
      "doc length distribution\n",
      "count      71.000000\n",
      "mean      440.676056\n",
      "std       129.937872\n",
      "min        98.000000\n",
      "25%       423.000000\n",
      "50%       452.000000\n",
      "75%       478.500000\n",
      "90%       491.000000\n",
      "97%       497.800000\n",
      "99%       970.800000\n",
      "max      1052.000000\n",
      "dtype: float64\n",
      "=============== markdown PPL Chunking ===============\n",
      "docs count: 83\n",
      "doc length distribution\n",
      "count     83.000000\n",
      "mean     402.590361\n",
      "std       76.542358\n",
      "min      177.000000\n",
      "25%      364.000000\n",
      "50%      410.000000\n",
      "75%      460.500000\n",
      "90%      489.400000\n",
      "97%      498.000000\n",
      "99%      515.200000\n",
      "max      589.000000\n",
      "dtype: float64\n",
      "=============== markdown Margin Sampling Chunking ===============\n",
      "docs count: 82\n",
      "doc length distribution\n",
      "count     82.000000\n",
      "mean     410.768293\n",
      "std       91.688051\n",
      "min      117.000000\n",
      "25%      395.500000\n",
      "50%      434.500000\n",
      "75%      467.500000\n",
      "90%      488.800000\n",
      "97%      503.130000\n",
      "99%      549.560000\n",
      "max      569.000000\n",
      "dtype: float64\n"
     ]
    }
   ],
   "source": [
    "for doc_type, chunk_method_splitted_docs_dict in splitted_docs_dict.items():\n",
    "    for chunk_method, splitted_docs in chunk_method_splitted_docs_dict.items():\n",
    "        print(f\"=============== {doc_type} {chunk_method} ===============\")\n",
    "        print(f\"docs count: {len(splitted_docs)}\")\n",
    "        print('doc length distribution')\n",
    "        print(pd.Series([len(d.page_content) for d in splitted_docs]).describe([0.25, 0.5, 0.75, 0.9, 0.97, 0.99]))"
   ]
  },
  {
   "cell_type": "markdown",
   "id": "220dbc3a-fceb-4e49-a3f1-01e16660b2a6",
   "metadata": {
    "papermill": {
     "duration": 0.100209,
     "end_time": "2024-11-23T14:29:05.255871",
     "exception": false,
     "start_time": "2024-11-23T14:29:05.155662",
     "status": "completed"
    },
    "tags": []
   },
   "source": [
    "# 检索"
   ]
  },
  {
   "cell_type": "code",
   "execution_count": 14,
   "id": "2cddc9ac-88da-4c23-888d-481dc4a72f4a",
   "metadata": {
    "execution": {
     "iopub.execute_input": "2025-01-18T08:48:17.076787Z",
     "iopub.status.busy": "2025-01-18T08:48:17.076609Z",
     "iopub.status.idle": "2025-01-18T08:50:12.091975Z",
     "shell.execute_reply": "2025-01-18T08:50:12.091518Z",
     "shell.execute_reply.started": "2025-01-18T08:48:17.076773Z"
    }
   },
   "outputs": [
    {
     "name": "stdout",
     "output_type": "stream",
     "text": [
      "device: cuda\n"
     ]
    }
   ],
   "source": [
    "from langchain.embeddings import HuggingFaceBgeEmbeddings\n",
    "from langchain_community.vectorstores import Chroma\n",
    "import torch\n",
    "\n",
    "device = 'cuda' if torch.cuda.is_available() else 'cpu'\n",
    "print(f'device: {device}')\n",
    "\n",
    "def get_embeddings(model_path):\n",
    "    embeddings = HuggingFaceBgeEmbeddings(\n",
    "        model_name=model_path,\n",
    "        model_kwargs={'device': device},\n",
    "        encode_kwargs={'normalize_embeddings': True},\n",
    "        # show_progress=True\n",
    "        query_instruction='为这个句子生成表示以用于检索相关文章：'\n",
    "    )\n",
    "    return embeddings\n",
    "\n",
    "model_path = 'BAAI/bge-large-zh-v1.5'\n",
    "embeddings = get_embeddings(model_path)"
   ]
  },
  {
   "cell_type": "code",
   "execution_count": 15,
   "id": "f6f46c73-7369-448f-a89a-ed3d817cad47",
   "metadata": {
    "execution": {
     "iopub.execute_input": "2025-01-18T08:50:12.093009Z",
     "iopub.status.busy": "2025-01-18T08:50:12.092717Z",
     "iopub.status.idle": "2025-01-18T08:50:12.095932Z",
     "shell.execute_reply": "2025-01-18T08:50:12.095596Z",
     "shell.execute_reply.started": "2025-01-18T08:50:12.092994Z"
    },
    "papermill": {
     "duration": 83.983138,
     "end_time": "2024-11-23T14:35:06.117207",
     "exception": false,
     "start_time": "2024-11-23T14:33:42.134069",
     "status": "completed"
    },
    "tags": []
   },
   "outputs": [],
   "source": [
    "import shutil\n",
    "\n",
    "from tqdm.auto import tqdm\n",
    "from langchain_community.vectorstores import Chroma\n",
    "\n",
    "def get_vector_db(splitted_docs, embeddings, name):\n",
    "    persist_directory = os.path.join(expr_dir, 'chroma', 'bge', name)\n",
    "    shutil.rmtree(persist_directory, ignore_errors=True)\n",
    "    vector_db = Chroma.from_documents(\n",
    "        splitted_docs,\n",
    "        embedding=embeddings,\n",
    "        persist_directory=persist_directory\n",
    "    )\n",
    "    return vector_db"
   ]
  },
  {
   "cell_type": "code",
   "execution_count": 16,
   "id": "11e148bd-7a3f-4bde-a574-21a30f337542",
   "metadata": {
    "execution": {
     "iopub.execute_input": "2025-01-18T08:50:12.096542Z",
     "iopub.status.busy": "2025-01-18T08:50:12.096368Z",
     "iopub.status.idle": "2025-01-18T08:51:22.489306Z",
     "shell.execute_reply": "2025-01-18T08:51:22.488794Z",
     "shell.execute_reply.started": "2025-01-18T08:50:12.096528Z"
    }
   },
   "outputs": [],
   "source": [
    "vector_db_dict = {\n",
    "    doc_type: {\n",
    "        chunk_method: get_vector_db(splitted_docs, embeddings, f\"{doc_type}_{chunk_method}_chroma\") for chunk_method, splitted_docs in chunk_method_splitted_docs_dict.items()\n",
    "    }\n",
    "    for doc_type, chunk_method_splitted_docs_dict in splitted_docs_dict.items()\n",
    "}"
   ]
  },
  {
   "cell_type": "markdown",
   "id": "7925564a-7d30-4914-baaf-4a00abb7686d",
   "metadata": {
    "papermill": {
     "duration": 0.109216,
     "end_time": "2024-11-23T14:35:26.464009",
     "exception": false,
     "start_time": "2024-11-23T14:35:26.354793",
     "status": "completed"
    },
    "tags": []
   },
   "source": [
    "# 生成答案"
   ]
  },
  {
   "cell_type": "code",
   "execution_count": 17,
   "id": "27132c3b-0051-4df6-bf57-fd804acb8d17",
   "metadata": {
    "execution": {
     "iopub.execute_input": "2025-01-18T08:53:45.340706Z",
     "iopub.status.busy": "2025-01-18T08:53:45.340516Z",
     "iopub.status.idle": "2025-01-18T08:53:45.382115Z",
     "shell.execute_reply": "2025-01-18T08:53:45.381627Z",
     "shell.execute_reply.started": "2025-01-18T08:53:45.340690Z"
    },
    "papermill": {
     "duration": 0.199165,
     "end_time": "2024-11-23T14:35:27.323500",
     "exception": false,
     "start_time": "2024-11-23T14:35:27.124335",
     "status": "completed"
    },
    "tags": []
   },
   "outputs": [
    {
     "name": "stderr",
     "output_type": "stream",
     "text": [
      "/tmp/ipykernel_3928439/3342461511.py:3: LangChainDeprecationWarning: The class `Ollama` was deprecated in LangChain 0.3.1 and will be removed in 1.0.0. An updated version of the class exists in the :class:`~langchain-ollama package and should be used instead. To use it run `pip install -U :class:`~langchain-ollama` and import as `from :class:`~langchain_ollama import OllamaLLM``.\n",
      "  ollama_llm = Ollama(\n"
     ]
    }
   ],
   "source": [
    "from langchain.llms import Ollama\n",
    "\n",
    "ollama_llm = Ollama(\n",
    "    model='qwen2:7b-instruct',\n",
    "    base_url='http://localhost:11434',\n",
    "    top_k=1\n",
    ")"
   ]
  },
  {
   "cell_type": "code",
   "execution_count": 18,
   "id": "50404beb-3be0-4aaa-b124-8c7a52b84531",
   "metadata": {
    "editable": true,
    "execution": {
     "iopub.execute_input": "2025-01-18T08:53:51.192265Z",
     "iopub.status.busy": "2025-01-18T08:53:51.192051Z",
     "iopub.status.idle": "2025-01-18T08:53:51.196275Z",
     "shell.execute_reply": "2025-01-18T08:53:51.195810Z",
     "shell.execute_reply.started": "2025-01-18T08:53:51.192252Z"
    },
    "papermill": {
     "duration": 0.159318,
     "end_time": "2024-11-23T14:35:26.768506",
     "exception": false,
     "start_time": "2024-11-23T14:35:26.609188",
     "status": "completed"
    },
    "slideshow": {
     "slide_type": ""
    },
    "tags": []
   },
   "outputs": [],
   "source": [
    "import time\n",
    "\n",
    "def rag(vector_db, llm, query, n_chunks=4):\n",
    "    prompt_tmpl = \"\"\"\n",
    "你是一个金融分析师，擅长根据所获取的信息片段，对问题进行分析和推理。\n",
    "你的任务是根据所获取的信息片段（<<<<context>>><<<</context>>>之间的内容）回答问题。\n",
    "回答保持简洁，不必重复问题，不要添加描述性解释和与答案无关的任何内容。\n",
    "已知信息：\n",
    "<<<<context>>>\n",
    "{{knowledge}}\n",
    "<<<</context>>>\n",
    "\n",
    "问题：{{query}}\n",
    "请回答：\n",
    "\"\"\".strip()\n",
    "    chunks = vector_db.similarity_search(query, k=n_chunks)\n",
    "    prompt = prompt_tmpl.replace('{{knowledge}}', '\\n\\n'.join([doc.page_content for doc in chunks])).replace('{{query}}', query)\n",
    "    retry_count = 3\n",
    "\n",
    "    resp = ''\n",
    "    while retry_count > 0:\n",
    "        try:\n",
    "            resp = llm.invoke(prompt)\n",
    "            break\n",
    "        except Exception as e:\n",
    "            retry_count -= 1\n",
    "            sleeping_seconds = 2 ** (4 - retry_count)\n",
    "            print(f\"query={query}, error={e}, sleeping={sleeping_seconds}, remaining retry count={retry_count}\")\n",
    "            \n",
    "            time.sleep(sleeping_seconds)\n",
    "    \n",
    "    return resp, chunks"
   ]
  },
  {
   "cell_type": "markdown",
   "id": "95e5a804-2dc6-411c-ba71-6ccf765b2b73",
   "metadata": {
    "papermill": {
     "duration": 0.135973,
     "end_time": "2024-11-23T14:35:27.001401",
     "exception": false,
     "start_time": "2024-11-23T14:35:26.865428",
     "status": "completed"
    },
    "tags": []
   },
   "source": [
    "## 预测"
   ]
  },
  {
   "cell_type": "code",
   "execution_count": 19,
   "id": "166392d8-f801-4372-b8ad-3e79aef0b350",
   "metadata": {
    "execution": {
     "iopub.execute_input": "2025-01-18T08:53:52.483391Z",
     "iopub.status.busy": "2025-01-18T08:53:52.483197Z",
     "iopub.status.idle": "2025-01-18T08:53:52.489490Z",
     "shell.execute_reply": "2025-01-18T08:53:52.489060Z",
     "shell.execute_reply.started": "2025-01-18T08:53:52.483376Z"
    },
    "papermill": {
     "duration": 0.141864,
     "end_time": "2024-11-23T14:35:27.564409",
     "exception": false,
     "start_time": "2024-11-23T14:35:27.422545",
     "status": "completed"
    },
    "tags": []
   },
   "outputs": [],
   "source": [
    "prediction_df = qa_df[qa_df['dataset'] == 'test'][['uuid', 'question', 'qa_type', 'answer']].rename(columns={'answer': 'ref_answer'})\n",
    "\n",
    "def predict(vector_db, llm, prediction_df, n_chunks):\n",
    "    prediction_df = prediction_df.copy()\n",
    "    answer_dict = {}\n",
    "\n",
    "    for idx, row in tqdm(prediction_df.iterrows(), total=len(prediction_df)):\n",
    "        uuid = row['uuid']\n",
    "        question = row['question']\n",
    "        answer, chunks = rag(vector_db, llm, question, n_chunks=n_chunks)\n",
    "        assert len(chunks) <= n_chunks\n",
    "        answer_dict[question] = {\n",
    "            'uuid': uuid,\n",
    "            'ref_answer': row['ref_answer'],\n",
    "            'gen_answer': answer,\n",
    "            'chunks': chunks\n",
    "        }\n",
    "\n",
    "    prediction_df.loc[:, 'gen_answer'] = prediction_df['question'].apply(lambda q: answer_dict[q]['gen_answer'])\n",
    "    prediction_df.loc[:, 'chunks'] = prediction_df['question'].apply(lambda q: answer_dict[q]['chunks'])\n",
    "\n",
    "    return prediction_df"
   ]
  },
  {
   "cell_type": "code",
   "execution_count": 20,
   "id": "f881aa9c-bf51-4120-95ca-9108b53e48cb",
   "metadata": {
    "execution": {
     "iopub.execute_input": "2025-01-18T08:53:54.634339Z",
     "iopub.status.busy": "2025-01-18T08:53:54.634164Z",
     "iopub.status.idle": "2025-01-18T08:53:54.637389Z",
     "shell.execute_reply": "2025-01-18T08:53:54.636958Z",
     "shell.execute_reply.started": "2025-01-18T08:53:54.634325Z"
    }
   },
   "outputs": [],
   "source": [
    "save_path = os.path.join(expr_dir, 'preds.pkl')"
   ]
  },
  {
   "cell_type": "code",
   "execution_count": 22,
   "id": "f40b1241-fb9a-43dd-a755-bf9409e90be2",
   "metadata": {
    "execution": {
     "iopub.execute_input": "2025-01-18T08:54:06.129089Z",
     "iopub.status.busy": "2025-01-18T08:54:06.128911Z",
     "iopub.status.idle": "2025-01-18T08:54:06.132337Z",
     "shell.execute_reply": "2025-01-18T08:54:06.131977Z",
     "shell.execute_reply.started": "2025-01-18T08:54:06.129074Z"
    }
   },
   "outputs": [],
   "source": [
    "if os.path.exists(save_path):\n",
    "    print(f'found cache at {save_path}')\n",
    "    pred_dict = pickle.load(open(save_path, 'rb'))\n",
    "else:\n",
    "    pred_dict = {}"
   ]
  },
  {
   "cell_type": "code",
   "execution_count": 23,
   "id": "5b3dff59-03e8-4343-b12f-66c16b4bfa33",
   "metadata": {
    "execution": {
     "iopub.execute_input": "2025-01-18T08:54:08.163197Z",
     "iopub.status.busy": "2025-01-18T08:54:08.163003Z",
     "iopub.status.idle": "2025-01-18T09:05:21.324587Z",
     "shell.execute_reply": "2025-01-18T09:05:21.323455Z",
     "shell.execute_reply.started": "2025-01-18T08:54:08.163183Z"
    }
   },
   "outputs": [
    {
     "name": "stdout",
     "output_type": "stream",
     "text": [
      "prediting for pdf_PPL Chunking ...\n"
     ]
    },
    {
     "data": {
      "application/vnd.jupyter.widget-view+json": {
       "model_id": "b0f43d8d15594f9d95bc98d94ff0af7f",
       "version_major": 2,
       "version_minor": 0
      },
      "text/plain": [
       "  0%|          | 0/100 [00:00<?, ?it/s]"
      ]
     },
     "metadata": {},
     "output_type": "display_data"
    },
    {
     "name": "stdout",
     "output_type": "stream",
     "text": [
      "prediting for pdf_Margin Sampling Chunking ...\n"
     ]
    },
    {
     "data": {
      "application/vnd.jupyter.widget-view+json": {
       "model_id": "315bd880e08549bd91887c675f9ba2e4",
       "version_major": 2,
       "version_minor": 0
      },
      "text/plain": [
       "  0%|          | 0/100 [00:00<?, ?it/s]"
      ]
     },
     "metadata": {},
     "output_type": "display_data"
    },
    {
     "name": "stdout",
     "output_type": "stream",
     "text": [
      "prediting for markdown_PPL Chunking ...\n"
     ]
    },
    {
     "data": {
      "application/vnd.jupyter.widget-view+json": {
       "model_id": "0e5b54b4a2b44e3897443b54915dd1cc",
       "version_major": 2,
       "version_minor": 0
      },
      "text/plain": [
       "  0%|          | 0/100 [00:00<?, ?it/s]"
      ]
     },
     "metadata": {},
     "output_type": "display_data"
    },
    {
     "name": "stdout",
     "output_type": "stream",
     "text": [
      "prediting for markdown_Margin Sampling Chunking ...\n"
     ]
    },
    {
     "data": {
      "application/vnd.jupyter.widget-view+json": {
       "model_id": "afeb7e3baa8b42af88d95388a095117a",
       "version_major": 2,
       "version_minor": 0
      },
      "text/plain": [
       "  0%|          | 0/100 [00:00<?, ?it/s]"
      ]
     },
     "metadata": {},
     "output_type": "display_data"
    }
   ],
   "source": [
    "for doc_type, vector_dbs in vector_db_dict.items():\n",
    "    for chunk_method, vector_db in vector_dbs.items():\n",
    "        key = f\"{doc_type}_{chunk_method}\"\n",
    "        \n",
    "        print(f'prediting for {key} ...')\n",
    "        if key in pred_dict:\n",
    "            continue\n",
    "        pred_df = predict(vector_db, ollama_llm, prediction_df, n_chunks=3)\n",
    "        pred_dict[key] = pred_df\n",
    "        pickle.dump(pred_dict, open(save_path, 'wb'))"
   ]
  },
  {
   "cell_type": "markdown",
   "id": "7d79e974-089f-4c08-ba5e-804f6542e06a",
   "metadata": {
    "papermill": {
     "duration": 0.14423,
     "end_time": "2024-11-23T14:44:03.513124",
     "exception": false,
     "start_time": "2024-11-23T14:44:03.368894",
     "status": "completed"
    },
    "tags": []
   },
   "source": [
    "# 评估"
   ]
  },
  {
   "cell_type": "code",
   "execution_count": 24,
   "id": "217568fe-c0e4-49eb-9a7c-9fdfbc033d8a",
   "metadata": {
    "execution": {
     "iopub.execute_input": "2025-01-18T09:11:00.914059Z",
     "iopub.status.busy": "2025-01-18T09:11:00.913887Z",
     "iopub.status.idle": "2025-01-18T09:11:01.166693Z",
     "shell.execute_reply": "2025-01-18T09:11:01.166199Z",
     "shell.execute_reply.started": "2025-01-18T09:11:00.914045Z"
    },
    "papermill": {
     "duration": 0.369729,
     "end_time": "2024-11-23T14:44:04.017198",
     "exception": false,
     "start_time": "2024-11-23T14:44:03.647469",
     "status": "completed"
    },
    "tags": []
   },
   "outputs": [],
   "source": [
    "from langchain_openai import ChatOpenAI\n",
    "import time\n",
    "\n",
    "judge_llm = ChatOpenAI(\n",
    "    api_key=os.environ['LLM_API_KEY'],\n",
    "    base_url=os.environ['LLM_BASE_URL'],\n",
    "    model_name='qwen2-72b-instruct',\n",
    "    temperature=0\n",
    ")\n",
    "\n",
    "def evaluate(prediction_df):\n",
    "    \"\"\"\n",
    "    对预测结果进行打分\n",
    "    :param prediction_df: 预测结果，需要包含问题，参考答案，生成的答案，列名分别为question, ref_answer, gen_answer\n",
    "    :return 打分模型原始返回结果\n",
    "    \"\"\"\n",
    "    prompt_tmpl = \"\"\"\n",
    "你是一个经济学博士，现在我有一系列问题，有一个助手已经对这些问题进行了回答，你需要参照参考答案，评价这个助手的回答是否正确，仅回复“是”或“否”即可，不要带其他描述性内容或无关信息。\n",
    "问题：\n",
    "<question>\n",
    "{{question}}\n",
    "</question>\n",
    "\n",
    "参考答案：\n",
    "<ref_answer>\n",
    "{{ref_answer}}\n",
    "</ref_answer>\n",
    "\n",
    "助手回答：\n",
    "<gen_answer>\n",
    "{{gen_answer}}\n",
    "</gen_answer>\n",
    "请评价：\n",
    "    \"\"\"\n",
    "    results = []\n",
    "\n",
    "    for _, row in tqdm(prediction_df.iterrows(), total=len(prediction_df)):\n",
    "        question = row['question']\n",
    "        ref_answer = row['ref_answer']\n",
    "        gen_answer = row['gen_answer']\n",
    "\n",
    "        prompt = prompt_tmpl.replace('{{question}}', question).replace('{{ref_answer}}', str(ref_answer)).replace('{{gen_answer}}', gen_answer).strip()\n",
    "        \n",
    "        retry_count = 3\n",
    "        result = ''\n",
    "        \n",
    "        while retry_count > 0:\n",
    "            try:\n",
    "                result = judge_llm.invoke(prompt).content\n",
    "                break\n",
    "            except Exception as e:\n",
    "                retry_count -= 1\n",
    "                sleeping_seconds = 2 ** (4 - retry_count)\n",
    "                print(f\"query={question}, error={e}, sleeping={sleeping_seconds}, remaining retry count={retry_count}\")\n",
    "                \n",
    "                time.sleep(sleeping_seconds)\n",
    "        \n",
    "        results.append(result)\n",
    "\n",
    "        time.sleep(1)\n",
    "    return results"
   ]
  },
  {
   "cell_type": "code",
   "execution_count": 25,
   "id": "fa6420f8-2d67-43bd-8ec6-2f136701e943",
   "metadata": {
    "execution": {
     "iopub.execute_input": "2025-01-18T09:11:01.778382Z",
     "iopub.status.busy": "2025-01-18T09:11:01.778199Z",
     "iopub.status.idle": "2025-01-18T09:11:01.781080Z",
     "shell.execute_reply": "2025-01-18T09:11:01.780671Z",
     "shell.execute_reply.started": "2025-01-18T09:11:01.778368Z"
    }
   },
   "outputs": [],
   "source": [
    "eval_save_path = os.path.join(expr_dir, 'evals.pkl')"
   ]
  },
  {
   "cell_type": "code",
   "execution_count": 26,
   "id": "ed65b04c-0b2a-49ae-9892-199f4ca8ee36",
   "metadata": {
    "execution": {
     "iopub.execute_input": "2025-01-18T09:11:03.247338Z",
     "iopub.status.busy": "2025-01-18T09:11:03.247068Z",
     "iopub.status.idle": "2025-01-18T09:11:03.250418Z",
     "shell.execute_reply": "2025-01-18T09:11:03.250045Z",
     "shell.execute_reply.started": "2025-01-18T09:11:03.247324Z"
    }
   },
   "outputs": [],
   "source": [
    "if os.path.exists(eval_save_path):\n",
    "    print(f\"found cache at {eval_save_path}\")\n",
    "    eval_dict = pickle.load(open(eval_save_path, 'rb'))\n",
    "else:\n",
    "    eval_dict = {}"
   ]
  },
  {
   "cell_type": "code",
   "execution_count": 27,
   "id": "d1e2d6c9-c45f-442b-8181-66c30437a308",
   "metadata": {
    "execution": {
     "iopub.execute_input": "2025-01-18T09:11:04.350177Z",
     "iopub.status.busy": "2025-01-18T09:11:04.349998Z",
     "iopub.status.idle": "2025-01-18T09:21:11.896936Z",
     "shell.execute_reply": "2025-01-18T09:21:11.896073Z",
     "shell.execute_reply.started": "2025-01-18T09:11:04.350162Z"
    }
   },
   "outputs": [
    {
     "name": "stdout",
     "output_type": "stream",
     "text": [
      "evaluating for pdf_PPL Chunking ...\n"
     ]
    },
    {
     "data": {
      "application/vnd.jupyter.widget-view+json": {
       "model_id": "c78a26955313412e90dffbee2bcd7cea",
       "version_major": 2,
       "version_minor": 0
      },
      "text/plain": [
       "  0%|          | 0/100 [00:00<?, ?it/s]"
      ]
     },
     "metadata": {},
     "output_type": "display_data"
    },
    {
     "name": "stdout",
     "output_type": "stream",
     "text": [
      "key=pdf_PPL Chunking raw_score unique: ['是' '否'], accuracy=0.69\n",
      "evaluating for pdf_Margin Sampling Chunking ...\n"
     ]
    },
    {
     "data": {
      "application/vnd.jupyter.widget-view+json": {
       "model_id": "21abab1f45954cf58d9ef193336820ed",
       "version_major": 2,
       "version_minor": 0
      },
      "text/plain": [
       "  0%|          | 0/100 [00:00<?, ?it/s]"
      ]
     },
     "metadata": {},
     "output_type": "display_data"
    },
    {
     "name": "stdout",
     "output_type": "stream",
     "text": [
      "key=pdf_Margin Sampling Chunking raw_score unique: ['是' '否'], accuracy=0.78\n",
      "evaluating for markdown_PPL Chunking ...\n"
     ]
    },
    {
     "data": {
      "application/vnd.jupyter.widget-view+json": {
       "model_id": "a34f5539e35b47a4a418471c9b894735",
       "version_major": 2,
       "version_minor": 0
      },
      "text/plain": [
       "  0%|          | 0/100 [00:00<?, ?it/s]"
      ]
     },
     "metadata": {},
     "output_type": "display_data"
    },
    {
     "name": "stdout",
     "output_type": "stream",
     "text": [
      "key=markdown_PPL Chunking raw_score unique: ['是' '否'\n",
      " '否\\n\\n（注：虽然助手提供了具体数值，但没有明确指出变化幅度，与参考答案中的“大幅下降2.3个百分点”表述不符，因此判断为“否”。但实际上，根据提供的数据，下降了1.1个百分点，这与参考答案也不一致。此处的评价基于题目要求仅对比是否正确提及了“大幅下降2.3个百分点”的信息。）'], accuracy=0.64\n",
      "evaluating for markdown_Margin Sampling Chunking ...\n"
     ]
    },
    {
     "data": {
      "application/vnd.jupyter.widget-view+json": {
       "model_id": "1e25ac34fcf54e2bb8400a257b34779a",
       "version_major": 2,
       "version_minor": 0
      },
      "text/plain": [
       "  0%|          | 0/100 [00:00<?, ?it/s]"
      ]
     },
     "metadata": {},
     "output_type": "display_data"
    },
    {
     "name": "stdout",
     "output_type": "stream",
     "text": [
      "key=markdown_Margin Sampling Chunking raw_score unique: ['是' '否'], accuracy=0.79\n"
     ]
    }
   ],
   "source": [
    "metrics = []\n",
    "\n",
    "for key, pred_df in pred_dict.items():\n",
    "    print(f'evaluating for {key} ...')\n",
    "    doc_type, chunk_method = key.split('_')\n",
    "\n",
    "    if key in eval_dict:\n",
    "        pred_df = eval_dict[key]\n",
    "    else:\n",
    "        pred_df['raw_score'] = evaluate(pred_df)\n",
    "        eval_dict[key] = pred_df\n",
    "        pred_df['score'] = (pred_df['raw_score'] == '是').astype(int)\n",
    "        \n",
    "    print(f\"key={key} raw_score unique: {pred_df['raw_score'].unique()}, accuracy={pred_df['score'].mean()}\")\n",
    "\n",
    "    metrics.append({\n",
    "        'doc_type': doc_type,\n",
    "        'chunk_method': chunk_method,\n",
    "        'accuracy': pred_df['score'].mean()\n",
    "    })\n",
    "    pickle.dump(eval_dict, open(eval_save_path, 'wb'))"
   ]
  },
  {
   "cell_type": "code",
   "execution_count": 28,
   "id": "094615dd-3ce3-4b2b-a9b2-0f0044394891",
   "metadata": {
    "execution": {
     "iopub.execute_input": "2025-01-18T09:23:04.882568Z",
     "iopub.status.busy": "2025-01-18T09:23:04.882366Z",
     "iopub.status.idle": "2025-01-18T09:23:04.885480Z",
     "shell.execute_reply": "2025-01-18T09:23:04.885115Z",
     "shell.execute_reply.started": "2025-01-18T09:23:04.882554Z"
    }
   },
   "outputs": [],
   "source": [
    "metrics_df = pd.DataFrame(metrics)"
   ]
  },
  {
   "cell_type": "code",
   "execution_count": 29,
   "id": "c7702b66-c5da-4a59-95a1-83a377a3323a",
   "metadata": {
    "execution": {
     "iopub.execute_input": "2025-01-18T09:23:05.387589Z",
     "iopub.status.busy": "2025-01-18T09:23:05.387403Z",
     "iopub.status.idle": "2025-01-18T09:23:05.399952Z",
     "shell.execute_reply": "2025-01-18T09:23:05.399569Z",
     "shell.execute_reply.started": "2025-01-18T09:23:05.387574Z"
    }
   },
   "outputs": [
    {
     "data": {
      "text/html": [
       "<div>\n",
       "<style scoped>\n",
       "    .dataframe tbody tr th:only-of-type {\n",
       "        vertical-align: middle;\n",
       "    }\n",
       "\n",
       "    .dataframe tbody tr th {\n",
       "        vertical-align: top;\n",
       "    }\n",
       "\n",
       "    .dataframe thead th {\n",
       "        text-align: right;\n",
       "    }\n",
       "</style>\n",
       "<table border=\"1\" class=\"dataframe\">\n",
       "  <thead>\n",
       "    <tr style=\"text-align: right;\">\n",
       "      <th></th>\n",
       "      <th>doc_type</th>\n",
       "      <th>chunk_method</th>\n",
       "      <th>accuracy</th>\n",
       "    </tr>\n",
       "  </thead>\n",
       "  <tbody>\n",
       "    <tr>\n",
       "      <th>0</th>\n",
       "      <td>pdf</td>\n",
       "      <td>PPL Chunking</td>\n",
       "      <td>0.69</td>\n",
       "    </tr>\n",
       "    <tr>\n",
       "      <th>1</th>\n",
       "      <td>pdf</td>\n",
       "      <td>Margin Sampling Chunking</td>\n",
       "      <td>0.78</td>\n",
       "    </tr>\n",
       "    <tr>\n",
       "      <th>2</th>\n",
       "      <td>markdown</td>\n",
       "      <td>PPL Chunking</td>\n",
       "      <td>0.64</td>\n",
       "    </tr>\n",
       "    <tr>\n",
       "      <th>3</th>\n",
       "      <td>markdown</td>\n",
       "      <td>Margin Sampling Chunking</td>\n",
       "      <td>0.79</td>\n",
       "    </tr>\n",
       "  </tbody>\n",
       "</table>\n",
       "</div>"
      ],
      "text/plain": [
       "   doc_type              chunk_method  accuracy\n",
       "0       pdf              PPL Chunking      0.69\n",
       "1       pdf  Margin Sampling Chunking      0.78\n",
       "2  markdown              PPL Chunking      0.64\n",
       "3  markdown  Margin Sampling Chunking      0.79"
      ]
     },
     "execution_count": 29,
     "metadata": {},
     "output_type": "execute_result"
    }
   ],
   "source": [
    "metrics_df"
   ]
  },
  {
   "cell_type": "code",
   "execution_count": 30,
   "id": "b537c8af-bc72-40be-ba57-a613ebf531f1",
   "metadata": {
    "execution": {
     "iopub.execute_input": "2025-01-18T09:23:05.939010Z",
     "iopub.status.busy": "2025-01-18T09:23:05.938824Z",
     "iopub.status.idle": "2025-01-18T09:23:06.435068Z",
     "shell.execute_reply": "2025-01-18T09:23:06.434661Z",
     "shell.execute_reply.started": "2025-01-18T09:23:05.938997Z"
    }
   },
   "outputs": [
    {
     "data": {
      "text/plain": [
       "<Axes: xlabel='doc_type', ylabel='accuracy'>"
      ]
     },
     "execution_count": 30,
     "metadata": {},
     "output_type": "execute_result"
    },
    {
     "data": {
      "image/png": "[encoded data removed]",
      "text/plain": [
       "<Figure size 640x480 with 1 Axes>"
      ]
     },
     "metadata": {},
     "output_type": "display_data"
    }
   ],
   "source": [
    "import seaborn as sns\n",
    "\n",
    "sns.barplot(x='doc_type', y='accuracy', hue='chunk_method', data=metrics_df)"
   ]
  },
  {
   "cell_type": "code",
   "execution_count": null,
   "id": "9fc0c11c-be15-47dc-88bf-31b0192b4622",
   "metadata": {},
   "outputs": [],
   "source": []
  }
 ],
 "metadata": {
  "kernelspec": {
   "display_name": "Python 3 (ipykernel)",
   "language": "python",
   "name": "python3"
  },
  "language_info": {
   "codemirror_mode": {
    "name": "ipython",
    "version": 3
   },
   "file_extension": ".py",
   "mimetype": "text/x-python",
   "name": "python",
   "nbconvert_exporter": "python",
   "pygments_lexer": "ipython3",
   "version": "3.10.9"
  },
  "papermill": {
   "default_parameters": {},
   "duration": 1058.563616,
   "end_time": "2024-11-23T14:46:37.625874",
   "environment_variables": {},
   "exception": null,
   "input_path": "13_contextual_embeddings.ipynb",
   "output_path": "run_13_contextual_embeddings.ipynb",
   "parameters": {},
   "start_time": "2024-11-23T14:28:59.062258",
   "version": "2.6.0"
  },
  "widgets": {
   "application/vnd.jupyter.widget-state+json": {
    "state": {
     "0cd8c168767249f2a5fa412173f6e751": {
      "model_module": "@jupyter-widgets/controls",
      "model_module_version": "2.0.0",
      "model_name": "FloatProgressModel",
      "state": {
       "_dom_classes": [],
       "_model_module": "@jupyter-widgets/controls",
       "_model_module_version": "2.0.0",
       "_model_name": "FloatProgressModel",
       "_view_count": null,
       "_view_module": "@jupyter-widgets/controls",
       "_view_module_version": "2.0.0",
       "_view_name": "ProgressView",
       "bar_style": "success",
       "description": "",
       "description_allow_html": false,
       "layout": "IPY_MODEL_5ce1d1d9d86c40d9839877ff95734491",
       "max": 100,
       "min": 0,
       "orientation": "horizontal",
       "style": "IPY_MODEL_231702cf4d79477f9d5548665a1b18fe",
       "tabbable": null,
       "tooltip": null,
       "value": 100
      }
     },
     "2133bb8d85d34b8db112b4408ad60320": {
      "model_module": "@jupyter-widgets/controls",
      "model_module_version": "2.0.0",
      "model_name": "HTMLStyleModel",
      "state": {
       "_model_module": "@jupyter-widgets/controls",
       "_model_module_version": "2.0.0",
       "_model_name": "HTMLStyleModel",
       "_view_count": null,
       "_view_module": "@jupyter-widgets/base",
       "_view_module_version": "2.0.0",
       "_view_name": "StyleView",
       "background": null,
       "description_width": "",
       "font_size": null,
       "text_color": null
      }
     },
     "231702cf4d79477f9d5548665a1b18fe": {
      "model_module": "@jupyter-widgets/controls",
      "model_module_version": "2.0.0",
      "model_name": "ProgressStyleModel",
      "state": {
       "_model_module": "@jupyter-widgets/controls",
       "_model_module_version": "2.0.0",
       "_model_name": "ProgressStyleModel",
       "_view_count": null,
       "_view_module": "@jupyter-widgets/base",
       "_view_module_version": "2.0.0",
       "_view_name": "StyleView",
       "bar_color": null,
       "description_width": ""
      }
     },
     "23b1ad9c0f9c46c888da66e85c90eb84": {
      "model_module": "@jupyter-widgets/base",
      "model_module_version": "2.0.0",
      "model_name": "LayoutModel",
      "state": {
       "_model_module": "@jupyter-widgets/base",
       "_model_module_version": "2.0.0",
       "_model_name": "LayoutModel",
       "_view_count": null,
       "_view_module": "@jupyter-widgets/base",
       "_view_module_version": "2.0.0",
       "_view_name": "LayoutView",
       "align_content": null,
       "align_items": null,
       "align_self": null,
       "border_bottom": null,
       "border_left": null,
       "border_right": null,
       "border_top": null,
       "bottom": null,
       "display": null,
       "flex": null,
       "flex_flow": null,
       "grid_area": null,
       "grid_auto_columns": null,
       "grid_auto_flow": null,
       "grid_auto_rows": null,
       "grid_column": null,
       "grid_gap": null,
       "grid_row": null,
       "grid_template_areas": null,
       "grid_template_columns": null,
       "grid_template_rows": null,
       "height": null,
       "justify_content": null,
       "justify_items": null,
       "left": null,
       "margin": null,
       "max_height": null,
       "max_width": null,
       "min_height": null,
       "min_width": null,
       "object_fit": null,
       "object_position": null,
       "order": null,
       "overflow": null,
       "padding": null,
       "right": null,
       "top": null,
       "visibility": null,
       "width": null
      }
     },
     "24e6eadc3dc940ecabf30dd1a3c6d1f3": {
      "model_module": "@jupyter-widgets/controls",
      "model_module_version": "2.0.0",
      "model_name": "FloatProgressModel",
      "state": {
       "_dom_classes": [],
       "_model_module": "@jupyter-widgets/controls",
       "_model_module_version": "2.0.0",
       "_model_name": "FloatProgressModel",
       "_view_count": null,
       "_view_module": "@jupyter-widgets/controls",
       "_view_module_version": "2.0.0",
       "_view_name": "ProgressView",
       "bar_style": "success",
       "description": "",
       "description_allow_html": false,
       "layout": "IPY_MODEL_fa4bddf2c33241b5bf918054518f128f",
       "max": 52,
       "min": 0,
       "orientation": "horizontal",
       "style": "IPY_MODEL_edc33e82be8f41eba6a18a0ef074ab7a",
       "tabbable": null,
       "tooltip": null,
       "value": 52
      }
     },
     "2f60367b1c8941e2bf71661c33969ae8": {
      "model_module": "@jupyter-widgets/base",
      "model_module_version": "2.0.0",
      "model_name": "LayoutModel",
      "state": {
       "_model_module": "@jupyter-widgets/base",
       "_model_module_version": "2.0.0",
       "_model_name": "LayoutModel",
       "_view_count": null,
       "_view_module": "@jupyter-widgets/base",
       "_view_module_version": "2.0.0",
       "_view_name": "LayoutView",
       "align_content": null,
       "align_items": null,
       "align_self": null,
       "border_bottom": null,
       "border_left": null,
       "border_right": null,
       "border_top": null,
       "bottom": null,
       "display": null,
       "flex": null,
       "flex_flow": null,
       "grid_area": null,
       "grid_auto_columns": null,
       "grid_auto_flow": null,
       "grid_auto_rows": null,
       "grid_column": null,
       "grid_gap": null,
       "grid_row": null,
       "grid_template_areas": null,
       "grid_template_columns": null,
       "grid_template_rows": null,
       "height": null,
       "justify_content": null,
       "justify_items": null,
       "left": null,
       "margin": null,
       "max_height": null,
       "max_width": null,
       "min_height": null,
       "min_width": null,
       "object_fit": null,
       "object_position": null,
       "order": null,
       "overflow": null,
       "padding": null,
       "right": null,
       "top": null,
       "visibility": null,
       "width": null
      }
     },
     "3865f25c78aa46f29a25d807205281c3": {
      "model_module": "@jupyter-widgets/base",
      "model_module_version": "2.0.0",
      "model_name": "LayoutModel",
      "state": {
       "_model_module": "@jupyter-widgets/base",
       "_model_module_version": "2.0.0",
       "_model_name": "LayoutModel",
       "_view_count": null,
       "_view_module": "@jupyter-widgets/base",
       "_view_module_version": "2.0.0",
       "_view_name": "LayoutView",
       "align_content": null,
       "align_items": null,
       "align_self": null,
       "border_bottom": null,
       "border_left": null,
       "border_right": null,
       "border_top": null,
       "bottom": null,
       "display": null,
       "flex": null,
       "flex_flow": null,
       "grid_area": null,
       "grid_auto_columns": null,
       "grid_auto_flow": null,
       "grid_auto_rows": null,
       "grid_column": null,
       "grid_gap": null,
       "grid_row": null,
       "grid_template_areas": null,
       "grid_template_columns": null,
       "grid_template_rows": null,
       "height": null,
       "justify_content": null,
       "justify_items": null,
       "left": null,
       "margin": null,
       "max_height": null,
       "max_width": null,
       "min_height": null,
       "min_width": null,
       "object_fit": null,
       "object_position": null,
       "order": null,
       "overflow": null,
       "padding": null,
       "right": null,
       "top": null,
       "visibility": null,
       "width": null
      }
     },
     "3d0b06deaa654b989eece8cde06fa0f8": {
      "model_module": "@jupyter-widgets/controls",
      "model_module_version": "2.0.0",
      "model_name": "HTMLStyleModel",
      "state": {
       "_model_module": "@jupyter-widgets/controls",
       "_model_module_version": "2.0.0",
       "_model_name": "HTMLStyleModel",
       "_view_count": null,
       "_view_module": "@jupyter-widgets/base",
       "_view_module_version": "2.0.0",
       "_view_name": "StyleView",
       "background": null,
       "description_width": "",
       "font_size": null,
       "text_color": null
      }
     },
     "3f8ceda83287475b97608e42f5f6782f": {
      "model_module": "@jupyter-widgets/base",
      "model_module_version": "2.0.0",
      "model_name": "LayoutModel",
      "state": {
       "_model_module": "@jupyter-widgets/base",
       "_model_module_version": "2.0.0",
       "_model_name": "LayoutModel",
       "_view_count": null,
       "_view_module": "@jupyter-widgets/base",
       "_view_module_version": "2.0.0",
       "_view_name": "LayoutView",
       "align_content": null,
       "align_items": null,
       "align_self": null,
       "border_bottom": null,
       "border_left": null,
       "border_right": null,
       "border_top": null,
       "bottom": null,
       "display": null,
       "flex": null,
       "flex_flow": null,
       "grid_area": null,
       "grid_auto_columns": null,
       "grid_auto_flow": null,
       "grid_auto_rows": null,
       "grid_column": null,
       "grid_gap": null,
       "grid_row": null,
       "grid_template_areas": null,
       "grid_template_columns": null,
       "grid_template_rows": null,
       "height": null,
       "justify_content": null,
       "justify_items": null,
       "left": null,
       "margin": null,
       "max_height": null,
       "max_width": null,
       "min_height": null,
       "min_width": null,
       "object_fit": null,
       "object_position": null,
       "order": null,
       "overflow": null,
       "padding": null,
       "right": null,
       "top": null,
       "visibility": null,
       "width": null
      }
     },
     "4881e496f1c84fe29ce9ebebaddfb3c2": {
      "model_module": "@jupyter-widgets/controls",
      "model_module_version": "2.0.0",
      "model_name": "HBoxModel",
      "state": {
       "_dom_classes": [],
       "_model_module": "@jupyter-widgets/controls",
       "_model_module_version": "2.0.0",
       "_model_name": "HBoxModel",
       "_view_count": null,
       "_view_module": "@jupyter-widgets/controls",
       "_view_module_version": "2.0.0",
       "_view_name": "HBoxView",
       "box_style": "",
       "children": [
        "IPY_MODEL_bd096d5d219a467786a85cfe1613fedd",
        "IPY_MODEL_24e6eadc3dc940ecabf30dd1a3c6d1f3",
        "IPY_MODEL_bc2b8104b4244d8cacedeb95e800d91c"
       ],
       "layout": "IPY_MODEL_6b9a8e43c1c342dba500a14e7149b600",
       "tabbable": null,
       "tooltip": null
      }
     },
     "5ce1d1d9d86c40d9839877ff95734491": {
      "model_module": "@jupyter-widgets/base",
      "model_module_version": "2.0.0",
      "model_name": "LayoutModel",
      "state": {
       "_model_module": "@jupyter-widgets/base",
       "_model_module_version": "2.0.0",
       "_model_name": "LayoutModel",
       "_view_count": null,
       "_view_module": "@jupyter-widgets/base",
       "_view_module_version": "2.0.0",
       "_view_name": "LayoutView",
       "align_content": null,
       "align_items": null,
       "align_self": null,
       "border_bottom": null,
       "border_left": null,
       "border_right": null,
       "border_top": null,
       "bottom": null,
       "display": null,
       "flex": null,
       "flex_flow": null,
       "grid_area": null,
       "grid_auto_columns": null,
       "grid_auto_flow": null,
       "grid_auto_rows": null,
       "grid_column": null,
       "grid_gap": null,
       "grid_row": null,
       "grid_template_areas": null,
       "grid_template_columns": null,
       "grid_template_rows": null,
       "height": null,
       "justify_content": null,
       "justify_items": null,
       "left": null,
       "margin": null,
       "max_height": null,
       "max_width": null,
       "min_height": null,
       "min_width": null,
       "object_fit": null,
       "object_position": null,
       "order": null,
       "overflow": null,
       "padding": null,
       "right": null,
       "top": null,
       "visibility": null,
       "width": null
      }
     },
     "5ddb08be5cc64c9ab40a1d62a21763a5": {
      "model_module": "@jupyter-widgets/controls",
      "model_module_version": "2.0.0",
      "model_name": "HTMLModel",
      "state": {
       "_dom_classes": [],
       "_model_module": "@jupyter-widgets/controls",
       "_model_module_version": "2.0.0",
       "_model_name": "HTMLModel",
       "_view_count": null,
       "_view_module": "@jupyter-widgets/controls",
       "_view_module_version": "2.0.0",
       "_view_name": "HTMLView",
       "description": "",
       "description_allow_html": false,
       "layout": "IPY_MODEL_86283159049d48b1adcfb2de2d404d4d",
       "placeholder": "​",
       "style": "IPY_MODEL_2133bb8d85d34b8db112b4408ad60320",
       "tabbable": null,
       "tooltip": null,
       "value": " 100/100 [08:34&lt;00:00, 10.01s/it]"
      }
     },
     "5ef9d83ccad1471f85335900a24a8553": {
      "model_module": "@jupyter-widgets/base",
      "model_module_version": "2.0.0",
      "model_name": "LayoutModel",
      "state": {
       "_model_module": "@jupyter-widgets/base",
       "_model_module_version": "2.0.0",
       "_model_name": "LayoutModel",
       "_view_count": null,
       "_view_module": "@jupyter-widgets/base",
       "_view_module_version": "2.0.0",
       "_view_name": "LayoutView",
       "align_content": null,
       "align_items": null,
       "align_self": null,
       "border_bottom": null,
       "border_left": null,
       "border_right": null,
       "border_top": null,
       "bottom": null,
       "display": null,
       "flex": null,
       "flex_flow": null,
       "grid_area": null,
       "grid_auto_columns": null,
       "grid_auto_flow": null,
       "grid_auto_rows": null,
       "grid_column": null,
       "grid_gap": null,
       "grid_row": null,
       "grid_template_areas": null,
       "grid_template_columns": null,
       "grid_template_rows": null,
       "height": null,
       "justify_content": null,
       "justify_items": null,
       "left": null,
       "margin": null,
       "max_height": null,
       "max_width": null,
       "min_height": null,
       "min_width": null,
       "object_fit": null,
       "object_position": null,
       "order": null,
       "overflow": null,
       "padding": null,
       "right": null,
       "top": null,
       "visibility": null,
       "width": null
      }
     },
     "6b9a8e43c1c342dba500a14e7149b600": {
      "model_module": "@jupyter-widgets/base",
      "model_module_version": "2.0.0",
      "model_name": "LayoutModel",
      "state": {
       "_model_module": "@jupyter-widgets/base",
       "_model_module_version": "2.0.0",
       "_model_name": "LayoutModel",
       "_view_count": null,
       "_view_module": "@jupyter-widgets/base",
       "_view_module_version": "2.0.0",
       "_view_name": "LayoutView",
       "align_content": null,
       "align_items": null,
       "align_self": null,
       "border_bottom": null,
       "border_left": null,
       "border_right": null,
       "border_top": null,
       "bottom": null,
       "display": null,
       "flex": null,
       "flex_flow": null,
       "grid_area": null,
       "grid_auto_columns": null,
       "grid_auto_flow": null,
       "grid_auto_rows": null,
       "grid_column": null,
       "grid_gap": null,
       "grid_row": null,
       "grid_template_areas": null,
       "grid_template_columns": null,
       "grid_template_rows": null,
       "height": null,
       "justify_content": null,
       "justify_items": null,
       "left": null,
       "margin": null,
       "max_height": null,
       "max_width": null,
       "min_height": null,
       "min_width": null,
       "object_fit": null,
       "object_position": null,
       "order": null,
       "overflow": null,
       "padding": null,
       "right": null,
       "top": null,
       "visibility": null,
       "width": null
      }
     },
     "816a079a8c804fbfa9b9a74f941abea8": {
      "model_module": "@jupyter-widgets/controls",
      "model_module_version": "2.0.0",
      "model_name": "HBoxModel",
      "state": {
       "_dom_classes": [],
       "_model_module": "@jupyter-widgets/controls",
       "_model_module_version": "2.0.0",
       "_model_name": "HBoxModel",
       "_view_count": null,
       "_view_module": "@jupyter-widgets/controls",
       "_view_module_version": "2.0.0",
       "_view_name": "HBoxView",
       "box_style": "",
       "children": [
        "IPY_MODEL_bcc69ec5db1b4aab977807284c9290e7",
        "IPY_MODEL_0cd8c168767249f2a5fa412173f6e751",
        "IPY_MODEL_5ddb08be5cc64c9ab40a1d62a21763a5"
       ],
       "layout": "IPY_MODEL_d1178c6858284f788a80b5f2a14fd0b7",
       "tabbable": null,
       "tooltip": null
      }
     },
     "86283159049d48b1adcfb2de2d404d4d": {
      "model_module": "@jupyter-widgets/base",
      "model_module_version": "2.0.0",
      "model_name": "LayoutModel",
      "state": {
       "_model_module": "@jupyter-widgets/base",
       "_model_module_version": "2.0.0",
       "_model_name": "LayoutModel",
       "_view_count": null,
       "_view_module": "@jupyter-widgets/base",
       "_view_module_version": "2.0.0",
       "_view_name": "LayoutView",
       "align_content": null,
       "align_items": null,
       "align_self": null,
       "border_bottom": null,
       "border_left": null,
       "border_right": null,
       "border_top": null,
       "bottom": null,
       "display": null,
       "flex": null,
       "flex_flow": null,
       "grid_area": null,
       "grid_auto_columns": null,
       "grid_auto_flow": null,
       "grid_auto_rows": null,
       "grid_column": null,
       "grid_gap": null,
       "grid_row": null,
       "grid_template_areas": null,
       "grid_template_columns": null,
       "grid_template_rows": null,
       "height": null,
       "justify_content": null,
       "justify_items": null,
       "left": null,
       "margin": null,
       "max_height": null,
       "max_width": null,
       "min_height": null,
       "min_width": null,
       "object_fit": null,
       "object_position": null,
       "order": null,
       "overflow": null,
       "padding": null,
       "right": null,
       "top": null,
       "visibility": null,
       "width": null
      }
     },
     "8ff8262c56604119883f4a5f13bb74ab": {
      "model_module": "@jupyter-widgets/controls",
      "model_module_version": "2.0.0",
      "model_name": "HTMLModel",
      "state": {
       "_dom_classes": [],
       "_model_module": "@jupyter-widgets/controls",
       "_model_module_version": "2.0.0",
       "_model_name": "HTMLModel",
       "_view_count": null,
       "_view_module": "@jupyter-widgets/controls",
       "_view_module_version": "2.0.0",
       "_view_name": "HTMLView",
       "description": "",
       "description_allow_html": false,
       "layout": "IPY_MODEL_5ef9d83ccad1471f85335900a24a8553",
       "placeholder": "​",
       "style": "IPY_MODEL_e89e77133c344fc48c1d62f5a607ec93",
       "tabbable": null,
       "tooltip": null,
       "value": " 8/8 [00:18&lt;00:00,  2.27s/it]"
      }
     },
     "9189a076554543aaa6f5ee04e40dbe1b": {
      "model_module": "@jupyter-widgets/controls",
      "model_module_version": "2.0.0",
      "model_name": "HTMLStyleModel",
      "state": {
       "_model_module": "@jupyter-widgets/controls",
       "_model_module_version": "2.0.0",
       "_model_name": "HTMLStyleModel",
       "_view_count": null,
       "_view_module": "@jupyter-widgets/base",
       "_view_module_version": "2.0.0",
       "_view_name": "StyleView",
       "background": null,
       "description_width": "",
       "font_size": null,
       "text_color": null
      }
     },
     "988e6697a2af486fadeaf0b84347b565": {
      "model_module": "@jupyter-widgets/controls",
      "model_module_version": "2.0.0",
      "model_name": "HBoxModel",
      "state": {
       "_dom_classes": [],
       "_model_module": "@jupyter-widgets/controls",
       "_model_module_version": "2.0.0",
       "_model_name": "HBoxModel",
       "_view_count": null,
       "_view_module": "@jupyter-widgets/controls",
       "_view_module_version": "2.0.0",
       "_view_name": "HBoxView",
       "box_style": "",
       "children": [
        "IPY_MODEL_e1aae4c55cb64f379e74f15357275628",
        "IPY_MODEL_fd9e23198ca1489a9773fda3510bf857",
        "IPY_MODEL_8ff8262c56604119883f4a5f13bb74ab"
       ],
       "layout": "IPY_MODEL_d2ee15001d2244529f7e47d3333c0f8e",
       "tabbable": null,
       "tooltip": null
      }
     },
     "9fc7d91f94a94933bde5ba80e64587de": {
      "model_module": "@jupyter-widgets/controls",
      "model_module_version": "2.0.0",
      "model_name": "HTMLStyleModel",
      "state": {
       "_model_module": "@jupyter-widgets/controls",
       "_model_module_version": "2.0.0",
       "_model_name": "HTMLStyleModel",
       "_view_count": null,
       "_view_module": "@jupyter-widgets/base",
       "_view_module_version": "2.0.0",
       "_view_name": "StyleView",
       "background": null,
       "description_width": "",
       "font_size": null,
       "text_color": null
      }
     },
     "a7d240a289084bdfba4724c0efd5ab07": {
      "model_module": "@jupyter-widgets/controls",
      "model_module_version": "2.0.0",
      "model_name": "ProgressStyleModel",
      "state": {
       "_model_module": "@jupyter-widgets/controls",
       "_model_module_version": "2.0.0",
       "_model_name": "ProgressStyleModel",
       "_view_count": null,
       "_view_module": "@jupyter-widgets/base",
       "_view_module_version": "2.0.0",
       "_view_name": "StyleView",
       "bar_color": null,
       "description_width": ""
      }
     },
     "bc2b8104b4244d8cacedeb95e800d91c": {
      "model_module": "@jupyter-widgets/controls",
      "model_module_version": "2.0.0",
      "model_name": "HTMLModel",
      "state": {
       "_dom_classes": [],
       "_model_module": "@jupyter-widgets/controls",
       "_model_module_version": "2.0.0",
       "_model_name": "HTMLModel",
       "_view_count": null,
       "_view_module": "@jupyter-widgets/controls",
       "_view_module_version": "2.0.0",
       "_view_name": "HTMLView",
       "description": "",
       "description_allow_html": false,
       "layout": "IPY_MODEL_2f60367b1c8941e2bf71661c33969ae8",
       "placeholder": "​",
       "style": "IPY_MODEL_9fc7d91f94a94933bde5ba80e64587de",
       "tabbable": null,
       "tooltip": null,
       "value": " 52/52 [04:26&lt;00:00,  4.22s/it]"
      }
     },
     "bcc69ec5db1b4aab977807284c9290e7": {
      "model_module": "@jupyter-widgets/controls",
      "model_module_version": "2.0.0",
      "model_name": "HTMLModel",
      "state": {
       "_dom_classes": [],
       "_model_module": "@jupyter-widgets/controls",
       "_model_module_version": "2.0.0",
       "_model_name": "HTMLModel",
       "_view_count": null,
       "_view_module": "@jupyter-widgets/controls",
       "_view_module_version": "2.0.0",
       "_view_name": "HTMLView",
       "description": "",
       "description_allow_html": false,
       "layout": "IPY_MODEL_3f8ceda83287475b97608e42f5f6782f",
       "placeholder": "​",
       "style": "IPY_MODEL_3d0b06deaa654b989eece8cde06fa0f8",
       "tabbable": null,
       "tooltip": null,
       "value": "100%"
      }
     },
     "bd096d5d219a467786a85cfe1613fedd": {
      "model_module": "@jupyter-widgets/controls",
      "model_module_version": "2.0.0",
      "model_name": "HTMLModel",
      "state": {
       "_dom_classes": [],
       "_model_module": "@jupyter-widgets/controls",
       "_model_module_version": "2.0.0",
       "_model_name": "HTMLModel",
       "_view_count": null,
       "_view_module": "@jupyter-widgets/controls",
       "_view_module_version": "2.0.0",
       "_view_name": "HTMLView",
       "description": "",
       "description_allow_html": false,
       "layout": "IPY_MODEL_3865f25c78aa46f29a25d807205281c3",
       "placeholder": "​",
       "style": "IPY_MODEL_9189a076554543aaa6f5ee04e40dbe1b",
       "tabbable": null,
       "tooltip": null,
       "value": "100%"
      }
     },
     "cc3ed8dc4a5c43aca7b62d904865b2fa": {
      "model_module": "@jupyter-widgets/base",
      "model_module_version": "2.0.0",
      "model_name": "LayoutModel",
      "state": {
       "_model_module": "@jupyter-widgets/base",
       "_model_module_version": "2.0.0",
       "_model_name": "LayoutModel",
       "_view_count": null,
       "_view_module": "@jupyter-widgets/base",
       "_view_module_version": "2.0.0",
       "_view_name": "LayoutView",
       "align_content": null,
       "align_items": null,
       "align_self": null,
       "border_bottom": null,
       "border_left": null,
       "border_right": null,
       "border_top": null,
       "bottom": null,
       "display": null,
       "flex": null,
       "flex_flow": null,
       "grid_area": null,
       "grid_auto_columns": null,
       "grid_auto_flow": null,
       "grid_auto_rows": null,
       "grid_column": null,
       "grid_gap": null,
       "grid_row": null,
       "grid_template_areas": null,
       "grid_template_columns": null,
       "grid_template_rows": null,
       "height": null,
       "justify_content": null,
       "justify_items": null,
       "left": null,
       "margin": null,
       "max_height": null,
       "max_width": null,
       "min_height": null,
       "min_width": null,
       "object_fit": null,
       "object_position": null,
       "order": null,
       "overflow": null,
       "padding": null,
       "right": null,
       "top": null,
       "visibility": null,
       "width": null
      }
     },
     "cf68b6fe24964ce792aa63827489cb97": {
      "model_module": "@jupyter-widgets/controls",
      "model_module_version": "2.0.0",
      "model_name": "HTMLStyleModel",
      "state": {
       "_model_module": "@jupyter-widgets/controls",
       "_model_module_version": "2.0.0",
       "_model_name": "HTMLStyleModel",
       "_view_count": null,
       "_view_module": "@jupyter-widgets/base",
       "_view_module_version": "2.0.0",
       "_view_name": "StyleView",
       "background": null,
       "description_width": "",
       "font_size": null,
       "text_color": null
      }
     },
     "d1178c6858284f788a80b5f2a14fd0b7": {
      "model_module": "@jupyter-widgets/base",
      "model_module_version": "2.0.0",
      "model_name": "LayoutModel",
      "state": {
       "_model_module": "@jupyter-widgets/base",
       "_model_module_version": "2.0.0",
       "_model_name": "LayoutModel",
       "_view_count": null,
       "_view_module": "@jupyter-widgets/base",
       "_view_module_version": "2.0.0",
       "_view_name": "LayoutView",
       "align_content": null,
       "align_items": null,
       "align_self": null,
       "border_bottom": null,
       "border_left": null,
       "border_right": null,
       "border_top": null,
       "bottom": null,
       "display": null,
       "flex": null,
       "flex_flow": null,
       "grid_area": null,
       "grid_auto_columns": null,
       "grid_auto_flow": null,
       "grid_auto_rows": null,
       "grid_column": null,
       "grid_gap": null,
       "grid_row": null,
       "grid_template_areas": null,
       "grid_template_columns": null,
       "grid_template_rows": null,
       "height": null,
       "justify_content": null,
       "justify_items": null,
       "left": null,
       "margin": null,
       "max_height": null,
       "max_width": null,
       "min_height": null,
       "min_width": null,
       "object_fit": null,
       "object_position": null,
       "order": null,
       "overflow": null,
       "padding": null,
       "right": null,
       "top": null,
       "visibility": null,
       "width": null
      }
     },
     "d2ee15001d2244529f7e47d3333c0f8e": {
      "model_module": "@jupyter-widgets/base",
      "model_module_version": "2.0.0",
      "model_name": "LayoutModel",
      "state": {
       "_model_module": "@jupyter-widgets/base",
       "_model_module_version": "2.0.0",
       "_model_name": "LayoutModel",
       "_view_count": null,
       "_view_module": "@jupyter-widgets/base",
       "_view_module_version": "2.0.0",
       "_view_name": "LayoutView",
       "align_content": null,
       "align_items": null,
       "align_self": null,
       "border_bottom": null,
       "border_left": null,
       "border_right": null,
       "border_top": null,
       "bottom": null,
       "display": null,
       "flex": null,
       "flex_flow": null,
       "grid_area": null,
       "grid_auto_columns": null,
       "grid_auto_flow": null,
       "grid_auto_rows": null,
       "grid_column": null,
       "grid_gap": null,
       "grid_row": null,
       "grid_template_areas": null,
       "grid_template_columns": null,
       "grid_template_rows": null,
       "height": null,
       "justify_content": null,
       "justify_items": null,
       "left": null,
       "margin": null,
       "max_height": null,
       "max_width": null,
       "min_height": null,
       "min_width": null,
       "object_fit": null,
       "object_position": null,
       "order": null,
       "overflow": null,
       "padding": null,
       "right": null,
       "top": null,
       "visibility": null,
       "width": null
      }
     },
     "e1aae4c55cb64f379e74f15357275628": {
      "model_module": "@jupyter-widgets/controls",
      "model_module_version": "2.0.0",
      "model_name": "HTMLModel",
      "state": {
       "_dom_classes": [],
       "_model_module": "@jupyter-widgets/controls",
       "_model_module_version": "2.0.0",
       "_model_name": "HTMLModel",
       "_view_count": null,
       "_view_module": "@jupyter-widgets/controls",
       "_view_module_version": "2.0.0",
       "_view_name": "HTMLView",
       "description": "",
       "description_allow_html": false,
       "layout": "IPY_MODEL_23b1ad9c0f9c46c888da66e85c90eb84",
       "placeholder": "​",
       "style": "IPY_MODEL_cf68b6fe24964ce792aa63827489cb97",
       "tabbable": null,
       "tooltip": null,
       "value": "100%"
      }
     },
     "e89e77133c344fc48c1d62f5a607ec93": {
      "model_module": "@jupyter-widgets/controls",
      "model_module_version": "2.0.0",
      "model_name": "HTMLStyleModel",
      "state": {
       "_model_module": "@jupyter-widgets/controls",
       "_model_module_version": "2.0.0",
       "_model_name": "HTMLStyleModel",
       "_view_count": null,
       "_view_module": "@jupyter-widgets/base",
       "_view_module_version": "2.0.0",
       "_view_name": "StyleView",
       "background": null,
       "description_width": "",
       "font_size": null,
       "text_color": null
      }
     },
     "edc33e82be8f41eba6a18a0ef074ab7a": {
      "model_module": "@jupyter-widgets/controls",
      "model_module_version": "2.0.0",
      "model_name": "ProgressStyleModel",
      "state": {
       "_model_module": "@jupyter-widgets/controls",
       "_model_module_version": "2.0.0",
       "_model_name": "ProgressStyleModel",
       "_view_count": null,
       "_view_module": "@jupyter-widgets/base",
       "_view_module_version": "2.0.0",
       "_view_name": "StyleView",
       "bar_color": null,
       "description_width": ""
      }
     },
     "fa4bddf2c33241b5bf918054518f128f": {
      "model_module": "@jupyter-widgets/base",
      "model_module_version": "2.0.0",
      "model_name": "LayoutModel",
      "state": {
       "_model_module": "@jupyter-widgets/base",
       "_model_module_version": "2.0.0",
       "_model_name": "LayoutModel",
       "_view_count": null,
       "_view_module": "@jupyter-widgets/base",
       "_view_module_version": "2.0.0",
       "_view_name": "LayoutView",
       "align_content": null,
       "align_items": null,
       "align_self": null,
       "border_bottom": null,
       "border_left": null,
       "border_right": null,
       "border_top": null,
       "bottom": null,
       "display": null,
       "flex": null,
       "flex_flow": null,
       "grid_area": null,
       "grid_auto_columns": null,
       "grid_auto_flow": null,
       "grid_auto_rows": null,
       "grid_column": null,
       "grid_gap": null,
       "grid_row": null,
       "grid_template_areas": null,
       "grid_template_columns": null,
       "grid_template_rows": null,
       "height": null,
       "justify_content": null,
       "justify_items": null,
       "left": null,
       "margin": null,
       "max_height": null,
       "max_width": null,
       "min_height": null,
       "min_width": null,
       "object_fit": null,
       "object_position": null,
       "order": null,
       "overflow": null,
       "padding": null,
       "right": null,
       "top": null,
       "visibility": null,
       "width": null
      }
     },
     "fd9e23198ca1489a9773fda3510bf857": {
      "model_module": "@jupyter-widgets/controls",
      "model_module_version": "2.0.0",
      "model_name": "FloatProgressModel",
      "state": {
       "_dom_classes": [],
       "_model_module": "@jupyter-widgets/controls",
       "_model_module_version": "2.0.0",
       "_model_name": "FloatProgressModel",
       "_view_count": null,
       "_view_module": "@jupyter-widgets/controls",
       "_view_module_version": "2.0.0",
       "_view_name": "ProgressView",
       "bar_style": "success",
       "description": "",
       "description_allow_html": false,
       "layout": "IPY_MODEL_cc3ed8dc4a5c43aca7b62d904865b2fa",
       "max": 8,
       "min": 0,
       "orientation": "horizontal",
       "style": "IPY_MODEL_a7d240a289084bdfba4724c0efd5ab07",
       "tabbable": null,
       "tooltip": null,
       "value": 8
      }
     }
    },
    "version_major": 2,
    "version_minor": 0
   }
  }
 },
 "nbformat": 4,
 "nbformat_minor": 5
}
