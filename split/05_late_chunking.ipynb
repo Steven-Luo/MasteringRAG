{
 "cells": [
  {
   "metadata": {},
   "cell_type": "code",
   "outputs": [],
   "execution_count": null,
   "source": [
    "%env LLM_BASE_URL=https://dashscope.aliyuncs.com/compatible-mode/v1\n",
    "%env LLM_API_KEY=sk-替换为自己的key"
   ],
   "id": "8d40ed134ccc30fd"
  },
  {
   "cell_type": "code",
   "execution_count": 2,
   "id": "af375836-b870-458b-87d1-4e00565977eb",
   "metadata": {
    "execution": {
     "iopub.execute_input": "2025-02-27T14:35:54.528066Z",
     "iopub.status.busy": "2025-02-27T14:35:54.527935Z",
     "iopub.status.idle": "2025-02-27T14:35:54.538889Z",
     "shell.execute_reply": "2025-02-27T14:35:54.538462Z",
     "shell.execute_reply.started": "2025-02-27T14:35:54.528053Z"
    },
    "papermill": {
     "duration": 0.115454,
     "end_time": "2024-11-23T14:29:00.919641",
     "exception": false,
     "start_time": "2024-11-23T14:29:00.804187",
     "status": "completed"
    },
    "tags": []
   },
   "outputs": [],
   "source": [
    "%%capture --no-stderr\n",
    "!pip install -U langchain langchain-community langchain-openai langchain_chroma pypdf sentence_transformers shutil openpyxl FlagEmbedding"
   ]
  },
  {
   "cell_type": "code",
   "execution_count": 3,
   "id": "1e2c72b8-ee12-4130-af88-699998aa230c",
   "metadata": {
    "execution": {
     "iopub.execute_input": "2025-02-27T14:35:54.539566Z",
     "iopub.status.busy": "2025-02-27T14:35:54.539443Z",
     "iopub.status.idle": "2025-02-27T14:35:54.747586Z",
     "shell.execute_reply": "2025-02-27T14:35:54.747091Z",
     "shell.execute_reply.started": "2025-02-27T14:35:54.539554Z"
    },
    "papermill": {
     "duration": 0.319981,
     "end_time": "2024-11-23T14:29:01.380771",
     "exception": false,
     "start_time": "2024-11-23T14:29:01.060790",
     "status": "completed"
    },
    "tags": []
   },
   "outputs": [],
   "source": [
    "import os\n",
    "import pandas as pd"
   ]
  },
  {
   "cell_type": "code",
   "execution_count": 4,
   "id": "d29a8d77-bea4-40d5-86cc-6cacdafbe702",
   "metadata": {
    "execution": {
     "iopub.execute_input": "2025-02-27T14:35:54.748285Z",
     "iopub.status.busy": "2025-02-27T14:35:54.748101Z",
     "iopub.status.idle": "2025-02-27T14:35:54.750683Z",
     "shell.execute_reply": "2025-02-27T14:35:54.750362Z",
     "shell.execute_reply.started": "2025-02-27T14:35:54.748272Z"
    }
   },
   "outputs": [],
   "source": [
    "import sys"
   ]
  },
  {
   "cell_type": "code",
   "execution_count": 5,
   "id": "655f9dc5-a5fe-424d-94ed-f096f29cf3f7",
   "metadata": {
    "execution": {
     "iopub.execute_input": "2025-02-27T14:35:54.751293Z",
     "iopub.status.busy": "2025-02-27T14:35:54.751172Z",
     "iopub.status.idle": "2025-02-27T14:35:54.762440Z",
     "shell.execute_reply": "2025-02-27T14:35:54.761900Z",
     "shell.execute_reply.started": "2025-02-27T14:35:54.751281Z"
    }
   },
   "outputs": [],
   "source": [
    "sys.path.append('late-chunking')"
   ]
  },
  {
   "cell_type": "code",
   "execution_count": 6,
   "id": "841d2b02-ad06-40d2-b11f-c7adccec6ca2",
   "metadata": {
    "execution": {
     "iopub.execute_input": "2025-02-27T14:35:54.763088Z",
     "iopub.status.busy": "2025-02-27T14:35:54.762923Z",
     "iopub.status.idle": "2025-02-27T14:35:54.877049Z",
     "shell.execute_reply": "2025-02-27T14:35:54.876582Z",
     "shell.execute_reply.started": "2025-02-27T14:35:54.763077Z"
    },
    "papermill": {
     "duration": 0.121409,
     "end_time": "2024-11-23T14:29:01.638126",
     "exception": false,
     "start_time": "2024-11-23T14:29:01.516717",
     "status": "completed"
    },
    "tags": []
   },
   "outputs": [],
   "source": [
    "expr_version = 'split_05_late_chunking'\n",
    "\n",
    "preprocess_output_dir = os.path.join(os.path.pardir, 'outputs', 'v1_20240713')\n",
    "qa_df = pd.read_excel(os.path.join(preprocess_output_dir, 'question_answer.xlsx'))\n",
    "expr_dir = os.path.join(os.path.pardir, 'experiments', expr_version)\n",
    "\n",
    "os.makedirs(expr_dir, exist_ok=True)"
   ]
  },
  {
   "cell_type": "markdown",
   "id": "cf7e81e3-4c82-4842-aef5-7592caaf1d39",
   "metadata": {
    "papermill": {
     "duration": 0.100379,
     "end_time": "2024-11-23T14:29:01.862379",
     "exception": false,
     "start_time": "2024-11-23T14:29:01.762000",
     "status": "completed"
    },
    "tags": []
   },
   "source": [
    "# 读取文档"
   ]
  },
  {
   "cell_type": "code",
   "execution_count": 7,
   "id": "e6920e29-bc7d-4635-be06-d151eaf0e100",
   "metadata": {
    "execution": {
     "iopub.execute_input": "2025-02-27T14:35:54.878345Z",
     "iopub.status.busy": "2025-02-27T14:35:54.878181Z",
     "iopub.status.idle": "2025-02-27T14:35:56.541683Z",
     "shell.execute_reply": "2025-02-27T14:35:56.541206Z",
     "shell.execute_reply.started": "2025-02-27T14:35:54.878332Z"
    },
    "papermill": {
     "duration": 2.012298,
     "end_time": "2024-11-23T14:29:03.974974",
     "exception": false,
     "start_time": "2024-11-23T14:29:01.962676",
     "status": "completed"
    },
    "tags": []
   },
   "outputs": [],
   "source": [
    "from langchain_community.document_loaders import PyPDFLoader\n",
    "import re\n",
    "\n",
    "loader = PyPDFLoader(os.path.join(os.path.pardir, 'data', '2024全球经济金融展望报告.pdf'))\n",
    "pdf_documents = loader.load()\n",
    "\n",
    "# 把页眉页脚去掉\n",
    "pattern = r\"^全球经济金融展望报告\\n中国银行研究院 \\d+ 2024年\"\n",
    "# PyPDFLoader解析的文档\n",
    "pdf_document = '\\n\\n'.join(re.sub(pattern, '', doc.page_content) for doc in pdf_documents)\n",
    "# MinerU解析的文档\n",
    "markdown_document = open(os.path.join(os.path.pardir, 'outputs', 'MinerU_parsed_20241204', '2024全球经济金融展望报告.md')).read()"
   ]
  },
  {
   "cell_type": "code",
   "execution_count": 8,
   "id": "575f15d5-8035-4451-9385-9acecac6bdf5",
   "metadata": {
    "execution": {
     "iopub.execute_input": "2025-02-27T14:35:56.542340Z",
     "iopub.status.busy": "2025-02-27T14:35:56.542208Z",
     "iopub.status.idle": "2025-02-27T14:35:56.546368Z",
     "shell.execute_reply": "2025-02-27T14:35:56.546061Z",
     "shell.execute_reply.started": "2025-02-27T14:35:56.542327Z"
    }
   },
   "outputs": [
    {
     "data": {
      "text/plain": [
       "31202"
      ]
     },
     "execution_count": 8,
     "metadata": {},
     "output_type": "execute_result"
    }
   ],
   "source": [
    "len(pdf_document)"
   ]
  },
  {
   "cell_type": "code",
   "execution_count": 9,
   "id": "b77b8fd4-38c3-4c8d-b913-d80926d6fb84",
   "metadata": {
    "execution": {
     "iopub.execute_input": "2025-02-27T14:35:56.546905Z",
     "iopub.status.busy": "2025-02-27T14:35:56.546784Z",
     "iopub.status.idle": "2025-02-27T14:35:56.559640Z",
     "shell.execute_reply": "2025-02-27T14:35:56.559336Z",
     "shell.execute_reply.started": "2025-02-27T14:35:56.546894Z"
    }
   },
   "outputs": [
    {
     "data": {
      "text/plain": [
       "33940"
      ]
     },
     "execution_count": 9,
     "metadata": {},
     "output_type": "execute_result"
    }
   ],
   "source": [
    "len(markdown_document)"
   ]
  },
  {
   "cell_type": "markdown",
   "id": "841ec659-4ad7-4e1f-b1ea-3477bf97fde3",
   "metadata": {
    "papermill": {
     "duration": 0.100297,
     "end_time": "2024-11-23T14:29:04.219302",
     "exception": false,
     "start_time": "2024-11-23T14:29:04.119005",
     "status": "completed"
    },
    "tags": []
   },
   "source": [
    "# 文档切分"
   ]
  },
  {
   "cell_type": "code",
   "execution_count": 10,
   "id": "74fe856a-7c19-4c3c-bb30-7abfa6298f74",
   "metadata": {
    "execution": {
     "iopub.execute_input": "2025-02-27T14:35:56.561752Z",
     "iopub.status.busy": "2025-02-27T14:35:56.561471Z",
     "iopub.status.idle": "2025-02-27T14:35:56.724412Z",
     "shell.execute_reply": "2025-02-27T14:35:56.723911Z",
     "shell.execute_reply.started": "2025-02-27T14:35:56.561740Z"
    },
    "papermill": {
     "duration": 0.109229,
     "end_time": "2024-11-23T14:29:04.429069",
     "exception": false,
     "start_time": "2024-11-23T14:29:04.319840",
     "status": "completed"
    },
    "tags": []
   },
   "outputs": [],
   "source": [
    "import os\n",
    "import pickle\n",
    "import requests\n",
    "from langchain.schema import Document"
   ]
  },
  {
   "cell_type": "code",
   "execution_count": 11,
   "id": "2aee1771-7302-43f7-ad65-8f2ecafd06d5",
   "metadata": {
    "execution": {
     "iopub.execute_input": "2025-02-27T14:36:02.466464Z",
     "iopub.status.busy": "2025-02-27T14:36:02.465898Z",
     "iopub.status.idle": "2025-02-27T14:36:02.473856Z",
     "shell.execute_reply": "2025-02-27T14:36:02.471851Z",
     "shell.execute_reply.started": "2025-02-27T14:36:02.466416Z"
    }
   },
   "outputs": [],
   "source": "model_path = 'BAAI/bge-m3'"
  },
  {
   "cell_type": "code",
   "execution_count": 12,
   "id": "41c6580c-c01a-4801-ad75-e35eef8ece05",
   "metadata": {
    "execution": {
     "iopub.execute_input": "2025-02-27T14:36:03.570579Z",
     "iopub.status.busy": "2025-02-27T14:36:03.569765Z",
     "iopub.status.idle": "2025-02-27T14:36:08.312243Z",
     "shell.execute_reply": "2025-02-27T14:36:08.311731Z",
     "shell.execute_reply.started": "2025-02-27T14:36:03.570509Z"
    }
   },
   "outputs": [
    {
     "name": "stdout",
     "output_type": "stream",
     "text": [
      "device: cuda\n"
     ]
    }
   ],
   "source": [
    "from transformers import AutoModel, AutoTokenizer\n",
    "import torch\n",
    "import json\n",
    "import torch.nn.functional as F\n",
    "\n",
    "device = 'cuda' if torch.cuda.is_available() else 'cpu'\n",
    "print(f'device: {device}')\n",
    "\n",
    "# load model and tokenizer\n",
    "tokenizer = AutoTokenizer.from_pretrained(model_path, trust_remote_code=True)\n",
    "model = AutoModel.from_pretrained(model_path, trust_remote_code=True, device_map=device)"
   ]
  },
  {
   "cell_type": "markdown",
   "id": "b14c60e2-9097-488c-8d09-8e88b3016891",
   "metadata": {},
   "source": [
    "- 原文：https://jina.ai/news/late-chunking-in-long-context-embedding-models/\n",
    "- 代码：https://colab.research.google.com/drive/15vNZb6AsU7byjYoaEtXuNu567JWNzXOz?usp=sharing"
   ]
  },
  {
   "cell_type": "code",
   "execution_count": 13,
   "id": "ab1a6e82-908d-40ce-b6a5-3d4923944bf2",
   "metadata": {
    "execution": {
     "iopub.execute_input": "2025-02-27T14:36:10.292023Z",
     "iopub.status.busy": "2025-02-27T14:36:10.291724Z",
     "iopub.status.idle": "2025-02-27T14:36:10.301345Z",
     "shell.execute_reply": "2025-02-27T14:36:10.300966Z",
     "shell.execute_reply.started": "2025-02-27T14:36:10.292008Z"
    }
   },
   "outputs": [],
   "source": [
    "from tqdm.auto import trange\n",
    "import numpy as np\n",
    "\n",
    "# 这个方法来自：https://github.com/weaviate/late-chunking-experiments/blob/main/late_chunking.ipynb\n",
    "def chunk_by_tokens(input_text: str, tokenizer: callable, chunk_size: int = 512):\n",
    "    \"\"\"\n",
    "    Split the input text into chunks of approximately chunk_size tokens\n",
    "    \"\"\"\n",
    "    tokens = tokenizer(input_text, return_offsets_mapping=True, add_special_tokens=False)\n",
    "    token_offsets = tokens['offset_mapping']\n",
    "    \n",
    "    chunks = []\n",
    "    span_annotations = []\n",
    "    \n",
    "    for i in range(0, len(token_offsets), chunk_size):\n",
    "        chunk_end = min(i + chunk_size, len(token_offsets))\n",
    "        if chunk_end - i > 0:\n",
    "            start_offset = token_offsets[i][0]\n",
    "            end_offset = token_offsets[chunk_end - 1][1]\n",
    "            chunks.append(input_text[start_offset:end_offset])\n",
    "            span_annotations.append((i, chunk_end))\n",
    "    \n",
    "    return chunks, span_annotations\n",
    "\n",
    "def chunk_by_sentences(input_text: str, tokenizer: callable):\n",
    "    \"\"\"\n",
    "    Split the input text into sentences using the tokenizer\n",
    "    :param input_text: The text snippet to split into sentences\n",
    "    :param tokenizer: The tokenizer to use\n",
    "    :return: A tuple containing the list of text chunks and their corresponding token spans\n",
    "    \"\"\"\n",
    "    inputs = tokenizer(input_text, return_tensors='pt', return_offsets_mapping=True)\n",
    "    punctuation_mark_ids = [tokenizer.convert_tokens_to_ids(punc) for punc in ('。', '？', '！')]\n",
    "    sep_id = tokenizer.convert_tokens_to_ids('[SEP]')\n",
    "    token_offsets = inputs['offset_mapping'][0]\n",
    "    token_ids = inputs['input_ids'][0]\n",
    "    chunk_positions = [\n",
    "        (i, int(start + 1))\n",
    "        for i, (token_id, (start, end)) in enumerate(zip(token_ids, token_offsets))\n",
    "        if token_id in punctuation_mark_ids\n",
    "        and (\n",
    "            token_offsets[i + 1][0] - token_offsets[i][1] > 0\n",
    "            or token_ids[i + 1] == sep_id\n",
    "        )\n",
    "    ]\n",
    "    chunks = [\n",
    "        input_text[x[1] : y[1]]\n",
    "        for x, y in zip([(1, 0)] + chunk_positions[:-1], chunk_positions)\n",
    "    ]\n",
    "    span_annotations = [\n",
    "        (x[0], y[0]) for (x, y) in zip([(1, 0)] + chunk_positions[:-1], chunk_positions)\n",
    "    ]\n",
    "    return chunks, span_annotations\n",
    "\n",
    "def document_to_token_embeddings(model, tokenizer, document, batch_size=4096):\n",
    "    tokenized_document = tokenizer(document, return_tensors=\"pt\")\n",
    "    tokens = tokenized_document.tokens()\n",
    "\n",
    "    outputs = []\n",
    "    for i in trange(0, len(tokens), batch_size):\n",
    "        \n",
    "        start = i\n",
    "        end   = min(i + batch_size, len(tokens))\n",
    "\n",
    "        batch_inputs = {k: v[:, start:end].to(device) for k, v in tokenized_document.items()}\n",
    "\n",
    "        with torch.no_grad():\n",
    "            model_output = model(**batch_inputs)\n",
    "\n",
    "        outputs.append(model_output.last_hidden_state)\n",
    "\n",
    "    model_output = torch.cat(outputs, dim=1)\n",
    "    return model_output\n",
    "\n",
    "def late_chunking(token_embeddings, span_annotation, max_length=None):\n",
    "    outputs = []\n",
    "    for embeddings, annotations in zip(token_embeddings, span_annotation):\n",
    "        if (max_length is not None):\n",
    "            annotations = [\n",
    "                (start, min(end, max_length - 1))\n",
    "                for (start, end) in annotations\n",
    "                if start < (max_length - 1)\n",
    "            ]\n",
    "        pooled_embeddings = []\n",
    "\n",
    "        for idx, (start, end) in enumerate(annotations):\n",
    "            assert chunks[idx] == tokenizer.decode(doc_input_ids[start: end]), f\"idx={idx}, (start, end)={(start, end)}, chunks[idx]={chunks[idx]}, tokenizer.decode(doc_input_ids[start: end])={tokenizer.decode(doc_input_ids[start: end])}\"\n",
    "            if (end - start) >= 1:\n",
    "                pooled_embeddings.append(\n",
    "                    # embeddings[start:end].sum(dim=0) / (end - start)\n",
    "                    embeddings[start:end].mean(dim=0).cpu().numpy()\n",
    "                )\n",
    "            else:\n",
    "                raise ValueError()\n",
    "                   \n",
    "        pooled_embeddings = [\n",
    "            embedding / np.linalg.norm(embedding) for embedding in pooled_embeddings\n",
    "        ]\n",
    "        outputs.append(pooled_embeddings)\n",
    "    return outputs"
   ]
  },
  {
   "cell_type": "code",
   "execution_count": 17,
   "id": "4f711918-5a3b-49e8-a1a9-be38813a9a34",
   "metadata": {
    "execution": {
     "iopub.execute_input": "2025-02-27T14:37:22.791154Z",
     "iopub.status.busy": "2025-02-27T14:37:22.790355Z",
     "iopub.status.idle": "2025-02-27T14:37:22.799355Z",
     "shell.execute_reply": "2025-02-27T14:37:22.797198Z",
     "shell.execute_reply.started": "2025-02-27T14:37:22.791081Z"
    }
   },
   "outputs": [],
   "source": [
    "# debug begin 由于总体切分逻辑相对复杂，下面对这个过程进行调试，检查切分逻辑"
   ]
  },
  {
   "cell_type": "code",
   "execution_count": 18,
   "id": "afa5936f-5f08-45c7-b361-db909a72c8ab",
   "metadata": {
    "execution": {
     "iopub.execute_input": "2025-02-27T14:37:22.985213Z",
     "iopub.status.busy": "2025-02-27T14:37:22.985038Z",
     "iopub.status.idle": "2025-02-27T14:37:23.068362Z",
     "shell.execute_reply": "2025-02-27T14:37:23.067909Z",
     "shell.execute_reply.started": "2025-02-27T14:37:22.985199Z"
    }
   },
   "outputs": [
    {
     "name": "stderr",
     "output_type": "stream",
     "text": [
      "Token indices sequence length is longer than the specified maximum sequence length for this model (20751 > 8192). Running this sequence through the model will result in indexing errors\n"
     ]
    },
    {
     "data": {
      "text/plain": [
       "40"
      ]
     },
     "execution_count": 18,
     "metadata": {},
     "output_type": "execute_result"
    }
   ],
   "source": [
    "from langchain.text_splitter import RecursiveCharacterTextSplitter\n",
    "\n",
    "splitter = RecursiveCharacterTextSplitter(\n",
    "    chunk_size=1024,\n",
    "    chunk_overlap=0,\n",
    "    separators=['\\n\\n\\n', '\\n\\n']\n",
    ")\n",
    "# chunks = splitter.split_text(pdf_document)\n",
    "chunks = splitter.split_text(markdown_document)\n",
    "chunks = [tokenizer.decode(tokenizer(text.strip(), return_tensors='pt')['input_ids'][0, 1:-1]) for text in chunks]\n",
    "processed_doc = '\\n\\n'.join(chunks)\n",
    "doc_tokens = tokenizer(processed_doc, return_tensors='pt')\n",
    "\n",
    "len(chunks)"
   ]
  },
  {
   "cell_type": "code",
   "execution_count": 19,
   "id": "53e9ac66-0769-4a3a-9c4c-52d1a961c036",
   "metadata": {
    "execution": {
     "iopub.execute_input": "2025-02-27T14:37:23.666081Z",
     "iopub.status.busy": "2025-02-27T14:37:23.665847Z",
     "iopub.status.idle": "2025-02-27T14:37:23.700114Z",
     "shell.execute_reply": "2025-02-27T14:37:23.699694Z",
     "shell.execute_reply.started": "2025-02-27T14:37:23.666065Z"
    }
   },
   "outputs": [],
   "source": [
    "span_annotations = []\n",
    "\n",
    "doc_input_ids = doc_tokens['input_ids'][0]\n",
    "start_pos = 1\n",
    "seperator_len = len(tokenizer('\\n\\n', return_tensors='pt')['input_ids'][0]) - 2\n",
    "\n",
    "for chunk_idx, chunk in enumerate(chunks):\n",
    "    # 1: -1排除首位的<s></s>\n",
    "    chunk_input_ids = tokenizer(chunk, return_tensors='pt')['input_ids'][0][1:-1]\n",
    "    chunk_token_len = len(chunk_input_ids)\n",
    "    # 有时候chunk_input_ids decode开头2位都不是实际文本\n",
    "    if (doc_input_ids[start_pos: start_pos + chunk_token_len] == chunk_input_ids).detach().numpy().mean() != 1:\n",
    "        start_pos += 1\n",
    "    \n",
    "    assert (doc_input_ids[start_pos: start_pos + chunk_token_len] == chunk_input_ids).detach().numpy().mean() == 1, chunk_idx\n",
    "    span_annotations.append((start_pos, start_pos + chunk_token_len))\n",
    "    start_pos += chunk_token_len"
   ]
  },
  {
   "cell_type": "code",
   "execution_count": 20,
   "id": "31bb66fa-8bfe-4c1d-b5b2-13b0f81632aa",
   "metadata": {
    "execution": {
     "iopub.execute_input": "2025-02-27T14:37:25.309460Z",
     "iopub.status.busy": "2025-02-27T14:37:25.309277Z",
     "iopub.status.idle": "2025-02-27T14:37:25.312522Z",
     "shell.execute_reply": "2025-02-27T14:37:25.312132Z",
     "shell.execute_reply.started": "2025-02-27T14:37:25.309445Z"
    }
   },
   "outputs": [
    {
     "data": {
      "text/plain": [
       "40"
      ]
     },
     "execution_count": 20,
     "metadata": {},
     "output_type": "execute_result"
    }
   ],
   "source": [
    "len(span_annotations)"
   ]
  },
  {
   "cell_type": "code",
   "execution_count": 21,
   "id": "bf379ab8-42dc-47ec-9d77-518d2cfb3388",
   "metadata": {
    "execution": {
     "iopub.execute_input": "2025-02-27T14:37:25.788142Z",
     "iopub.status.busy": "2025-02-27T14:37:25.787362Z",
     "iopub.status.idle": "2025-02-27T14:37:25.793154Z",
     "shell.execute_reply": "2025-02-27T14:37:25.792784Z",
     "shell.execute_reply.started": "2025-02-27T14:37:25.788074Z"
    }
   },
   "outputs": [
    {
     "data": {
      "text/plain": [
       "(11849, 12435)"
      ]
     },
     "execution_count": 21,
     "metadata": {},
     "output_type": "execute_result"
    }
   ],
   "source": [
    "span_annotations[23]"
   ]
  },
  {
   "cell_type": "code",
   "execution_count": 22,
   "id": "feb11aa0-4aee-4a44-a4cd-c10bfca1447a",
   "metadata": {
    "execution": {
     "iopub.execute_input": "2025-02-27T14:37:26.301537Z",
     "iopub.status.busy": "2025-02-27T14:37:26.300742Z",
     "iopub.status.idle": "2025-02-27T14:37:26.307626Z",
     "shell.execute_reply": "2025-02-27T14:37:26.307228Z",
     "shell.execute_reply.started": "2025-02-27T14:37:26.301467Z"
    }
   },
   "outputs": [
    {
     "data": {
      "text/plain": [
       "'2024年,跨境资本流动可能将发生趋势性变化,跨境资本回流美国态势会进一步放缓。惠誉、穆迪下调美债信用评级或评级展望将影响跨境资本回流美国的趋势,投资者增持美债的意愿降低。欧元区将延续资本净流出态势,FDI和银行主导的其他投资仍可能成为欧元区资本外流的主要推动力量。随着负利率政策结束,日本跨境资本净流出下降,证券投资和其他投资净流出或将减少。跨境资金流向新兴经济体的节奏有望提速,流向新兴经济体的资金仍将以组合投资、其他投资为主导。 # (三)汇率市场:美元指数高位震荡后走弱,新兴市场货币币值小幅回升 2023年以来,美元指数始终保持高位,在100-105区间波动,7月初开始震荡走高,之后逐渐从高位回落。受美联储货币政策影响,2023年11月15日,美元指数为104.4,较年初上涨 $0.6\\\\%$ (图17)。主要发达经济体货币汇率走势涨跌不一。2023年欧元和英镑兑美元汇率均呈现宽幅震荡态势,与年初相比欧元和英镑分别小幅升值 $1.4\\\\%$ 、 $2.8\\\\%$ ;日元币值持续走低,贬值幅度达 $13.3\\\\%$ ;瑞士法郎在震荡中升值 $4.2\\\\%$ 。美元升值背景下,新兴经济体货币遭受冲击。截至11月15日,俄罗斯卢布、土耳其里拉和阿根廷比索跌幅分别高达 $18.2\\\\%$ 、 $34.8\\\\%$ 、 $49.9\\\\%$,面临较大的汇率波动风险(图18)。![](images/505b072a246f1b79dcd689ed41c1771a377cfbb6b84ce33a9c4e7f7a453f5856.jpg) 图17:2023年美元指数变动趋势 资料来源:Wind,中国银行研究院![](images/39e12dda59e8e920ae43789e542c89192b924c2bc9a807c73786be598affa3cd.jpg) 图18:主要货币兑美元汇率较2023年年初变动 $(\\\\%)$ ) 注:数据截至2023年11月15日。 资料来源:Wind,中国银行研究院展望2024年,全球汇率市场走势主要呈现以下特征。 # 1.美元在保持一段时间强势后走弱,欧元英镑仍维持区间震荡'"
      ]
     },
     "execution_count": 22,
     "metadata": {},
     "output_type": "execute_result"
    }
   ],
   "source": [
    "tokenizer.decode(doc_input_ids[span_annotations[23][0]:span_annotations[23][1]])"
   ]
  },
  {
   "cell_type": "code",
   "execution_count": 23,
   "id": "0c7d231d-bab4-4e1f-8b14-757eb2dca230",
   "metadata": {
    "execution": {
     "iopub.execute_input": "2025-02-27T14:37:26.724618Z",
     "iopub.status.busy": "2025-02-27T14:37:26.723827Z",
     "iopub.status.idle": "2025-02-27T14:37:26.730348Z",
     "shell.execute_reply": "2025-02-27T14:37:26.730029Z",
     "shell.execute_reply.started": "2025-02-27T14:37:26.724548Z"
    }
   },
   "outputs": [
    {
     "data": {
      "text/plain": [
       "'2024年,跨境资本流动可能将发生趋势性变化,跨境资本回流美国态势会进一步放缓。惠誉、穆迪下调美债信用评级或评级展望将影响跨境资本回流美国的趋势,投资者增持美债的意愿降低。欧元区将延续资本净流出态势,FDI和银行主导的其他投资仍可能成为欧元区资本外流的主要推动力量。随着负利率政策结束,日本跨境资本净流出下降,证券投资和其他投资净流出或将减少。跨境资金流向新兴经济体的节奏有望提速,流向新兴经济体的资金仍将以组合投资、其他投资为主导。 # (三)汇率市场:美元指数高位震荡后走弱,新兴市场货币币值小幅回升 2023年以来,美元指数始终保持高位,在100-105区间波动,7月初开始震荡走高,之后逐渐从高位回落。受美联储货币政策影响,2023年11月15日,美元指数为104.4,较年初上涨 $0.6\\\\%$ (图17)。主要发达经济体货币汇率走势涨跌不一。2023年欧元和英镑兑美元汇率均呈现宽幅震荡态势,与年初相比欧元和英镑分别小幅升值 $1.4\\\\%$ 、 $2.8\\\\%$ ;日元币值持续走低,贬值幅度达 $13.3\\\\%$ ;瑞士法郎在震荡中升值 $4.2\\\\%$ 。美元升值背景下,新兴经济体货币遭受冲击。截至11月15日,俄罗斯卢布、土耳其里拉和阿根廷比索跌幅分别高达 $18.2\\\\%$ 、 $34.8\\\\%$ 、 $49.9\\\\%$,面临较大的汇率波动风险(图18)。![](images/505b072a246f1b79dcd689ed41c1771a377cfbb6b84ce33a9c4e7f7a453f5856.jpg) 图17:2023年美元指数变动趋势 资料来源:Wind,中国银行研究院![](images/39e12dda59e8e920ae43789e542c89192b924c2bc9a807c73786be598affa3cd.jpg) 图18:主要货币兑美元汇率较2023年年初变动 $(\\\\%)$ ) 注:数据截至2023年11月15日。 资料来源:Wind,中国银行研究院展望2024年,全球汇率市场走势主要呈现以下特征。 # 1.美元在保持一段时间强势后走弱,欧元英镑仍维持区间震荡'"
      ]
     },
     "execution_count": 23,
     "metadata": {},
     "output_type": "execute_result"
    }
   ],
   "source": [
    "chunks[23]"
   ]
  },
  {
   "cell_type": "code",
   "execution_count": 24,
   "id": "a2b1f3d7-e6d1-495d-a074-b466f5cd06e3",
   "metadata": {
    "execution": {
     "iopub.execute_input": "2025-02-27T14:37:28.166391Z",
     "iopub.status.busy": "2025-02-27T14:37:28.165552Z",
     "iopub.status.idle": "2025-02-27T14:37:28.174459Z",
     "shell.execute_reply": "2025-02-27T14:37:28.172096Z",
     "shell.execute_reply.started": "2025-02-27T14:37:28.166320Z"
    }
   },
   "outputs": [],
   "source": [
    "# debug end"
   ]
  },
  {
   "cell_type": "markdown",
   "id": "dc73a8cb-4eb3-49f8-a33f-16f3d1ea0454",
   "metadata": {},
   "source": [
    "整篇文档的Embedding"
   ]
  },
  {
   "cell_type": "code",
   "execution_count": 25,
   "id": "9d08c9dd-5e86-4005-ab0b-3f560e392637",
   "metadata": {
    "execution": {
     "iopub.execute_input": "2025-02-27T14:37:29.269648Z",
     "iopub.status.busy": "2025-02-27T14:37:29.268848Z",
     "iopub.status.idle": "2025-02-27T14:37:31.750950Z",
     "shell.execute_reply": "2025-02-27T14:37:31.750432Z",
     "shell.execute_reply.started": "2025-02-27T14:37:29.269578Z"
    }
   },
   "outputs": [
    {
     "data": {
      "application/vnd.jupyter.widget-view+json": {
       "model_id": "c350eb27d80a4cc4a929b774447934a8",
       "version_major": 2,
       "version_minor": 0
      },
      "text/plain": [
       "  0%|          | 0/21 [00:00<?, ?it/s]"
      ]
     },
     "metadata": {},
     "output_type": "display_data"
    }
   ],
   "source": [
    "document_embeddings = document_to_token_embeddings(model, tokenizer, processed_doc, batch_size=1024)"
   ]
  },
  {
   "cell_type": "code",
   "execution_count": 26,
   "id": "39ab15ae-2f8b-4b06-9b7e-b3a003852507",
   "metadata": {
    "execution": {
     "iopub.execute_input": "2025-02-27T14:37:44.166838Z",
     "iopub.status.busy": "2025-02-27T14:37:44.166650Z",
     "iopub.status.idle": "2025-02-27T14:37:44.170399Z",
     "shell.execute_reply": "2025-02-27T14:37:44.169872Z",
     "shell.execute_reply.started": "2025-02-27T14:37:44.166824Z"
    }
   },
   "outputs": [
    {
     "data": {
      "text/plain": [
       "20751"
      ]
     },
     "execution_count": 26,
     "metadata": {},
     "output_type": "execute_result"
    }
   ],
   "source": [
    "len(document_embeddings[0])"
   ]
  },
  {
   "cell_type": "code",
   "execution_count": 27,
   "id": "258ab96c-a5a5-4654-bbea-dbe96f349b36",
   "metadata": {
    "execution": {
     "iopub.execute_input": "2025-02-27T14:37:47.067016Z",
     "iopub.status.busy": "2025-02-27T14:37:47.066653Z",
     "iopub.status.idle": "2025-02-27T14:37:47.088021Z",
     "shell.execute_reply": "2025-02-27T14:37:47.087548Z",
     "shell.execute_reply.started": "2025-02-27T14:37:47.066986Z"
    }
   },
   "outputs": [],
   "source": [
    "late_embeddings = late_chunking(document_embeddings, [span_annotations])"
   ]
  },
  {
   "cell_type": "markdown",
   "id": "220dbc3a-fceb-4e49-a3f1-01e16660b2a6",
   "metadata": {
    "papermill": {
     "duration": 0.100209,
     "end_time": "2024-11-23T14:29:05.255871",
     "exception": false,
     "start_time": "2024-11-23T14:29:05.155662",
     "status": "completed"
    },
    "tags": []
   },
   "source": [
    "# 检索"
   ]
  },
  {
   "cell_type": "markdown",
   "id": "d113d1b6-990f-4582-b557-711f9e59b612",
   "metadata": {},
   "source": [
    "此处为了兼容Chroma想粮库逻辑，直接根据片段查找已经Late Chunking好的向量"
   ]
  },
  {
   "cell_type": "code",
   "execution_count": 28,
   "id": "cb1a96ce-8f6b-4f4d-8945-36e9c1863b39",
   "metadata": {
    "execution": {
     "iopub.execute_input": "2025-02-27T14:38:51.465148Z",
     "iopub.status.busy": "2025-02-27T14:38:51.464370Z",
     "iopub.status.idle": "2025-02-27T14:38:51.483587Z",
     "shell.execute_reply": "2025-02-27T14:38:51.481216Z",
     "shell.execute_reply.started": "2025-02-27T14:38:51.465080Z"
    }
   },
   "outputs": [],
   "source": [
    "from langchain_core.embeddings import Embeddings\n",
    "\n",
    "class CustomEmbeddingFn(Embeddings):\n",
    "    def embed_documents(self, texts: list[str]) -> list[list[float]]:\n",
    "        ret = []\n",
    "        for text in texts:\n",
    "            idx = chunks.index(text)\n",
    "            ret.append(late_embeddings[0][idx])\n",
    "            # ret.append(self.embed_query(text))\n",
    "\n",
    "        assert len(ret) == len(texts)\n",
    "        return ret\n",
    "\n",
    "    def embed_query(self, text: str) -> list[float]:\n",
    "        tokenized_document = tokenizer(text, return_tensors=\"pt\").to(device)\n",
    "        with torch.no_grad():\n",
    "            model_output = model(**tokenized_document)\n",
    "        # (bz, seq_len, emb_sz)\n",
    "        hidden_states = model_output.last_hidden_state\n",
    "        hidden_states = hidden_states[0]\n",
    "        emb = hidden_states[1:-1].sum(dim=0) / (len(hidden_states))\n",
    "        emb /= torch.norm(emb)\n",
    "        return emb.cpu().numpy()"
   ]
  },
  {
   "cell_type": "code",
   "execution_count": 29,
   "id": "8e34ea5a-a3e5-46fd-9bdc-ad2fe902ad85",
   "metadata": {
    "execution": {
     "iopub.execute_input": "2025-02-27T14:38:52.882022Z",
     "iopub.status.busy": "2025-02-27T14:38:52.881201Z",
     "iopub.status.idle": "2025-02-27T14:38:52.891054Z",
     "shell.execute_reply": "2025-02-27T14:38:52.888733Z",
     "shell.execute_reply.started": "2025-02-27T14:38:52.881925Z"
    }
   },
   "outputs": [],
   "source": [
    "cust_emb_fn = CustomEmbeddingFn()"
   ]
  },
  {
   "cell_type": "code",
   "execution_count": 30,
   "id": "aa5c716a-e88a-474d-8fc7-dc8fd237deb2",
   "metadata": {
    "execution": {
     "iopub.execute_input": "2025-02-27T14:38:53.124441Z",
     "iopub.status.busy": "2025-02-27T14:38:53.123665Z",
     "iopub.status.idle": "2025-02-27T14:38:53.137186Z",
     "shell.execute_reply": "2025-02-27T14:38:53.135006Z",
     "shell.execute_reply.started": "2025-02-27T14:38:53.124374Z"
    }
   },
   "outputs": [
    {
     "data": {
      "text/plain": [
       "'# 全球经济金融展望报告 2024年年报(总第57期) 报告日期:2023年12月12日 # 要点 ●2023 年全球经济增长动力持续回落,各国复苏分化,发达经济体增速明显放缓,新兴经济体整体表现稳定。全球贸易增长乏力,各国生产景气度逐渐回落,内需对经济的拉动作用减弱。欧美央行货币政策紧缩态势放缓,美元指数高位震荡后走弱,全球股市表现总体好于预期,但区域分化明显。高利率环境抑制债券融资需求,债券违约风险持续上升。 $\\\\bullet$ 展望2024 年,预计全球经济复苏将依旧疲软,主要经济体增长态势和货币政策走势将进一步分化。欧美央行大概率结束本轮紧缩货币周期,美元指数将逐步走弱,流向新兴经济体的跨境资本将增加。国际原油市场短缺格局或延续,新能源发展成为重点。 $\\\\bullet$ 海湾六国经济发展与投资前景、高利率和高债务对美国房地产市场脆弱性的影响等热点问题值得关注。![](images/c7e6ce1606712e84e07a05bcf6016906efa3fc778e40fcd0e91ac4fcb5503b79.jpg) 主要经济体GDP 增速变化趋势(%) 资料来源:IMF,中国银行研究院 # 中国银行研究院全球经济金融研究课题组![](images/a5d0eb181c75231451c8f890ec50fe5822e2306a9beb543ca35a04880abbf639.jpg) 联系人:王有鑫 电话:010-66594127 邮件: wangyouxin_hq@bank-of-china.com # 全球经济复苏疲软,货币政策取向分化 ——中国银行全球经济金融展望报告(2024年)'"
      ]
     },
     "execution_count": 30,
     "metadata": {},
     "output_type": "execute_result"
    }
   ],
   "source": [
    "chunks[0]"
   ]
  },
  {
   "cell_type": "code",
   "execution_count": 31,
   "id": "601f6243-dd4f-451d-be0b-0c4df5436130",
   "metadata": {
    "execution": {
     "iopub.execute_input": "2025-02-27T14:38:54.232594Z",
     "iopub.status.busy": "2025-02-27T14:38:54.231805Z",
     "iopub.status.idle": "2025-02-27T14:38:54.238267Z",
     "shell.execute_reply": "2025-02-27T14:38:54.237952Z",
     "shell.execute_reply.started": "2025-02-27T14:38:54.232526Z"
    }
   },
   "outputs": [
    {
     "data": {
      "text/plain": [
       "array([-0.01493518,  0.02493956, -0.01642812, ..., -0.00148642,\n",
       "       -0.01115633, -0.02175757], dtype=float32)"
      ]
     },
     "execution_count": 31,
     "metadata": {},
     "output_type": "execute_result"
    }
   ],
   "source": [
    "late_embeddings[0][0]"
   ]
  },
  {
   "cell_type": "code",
   "execution_count": 32,
   "id": "2b8dbc18-cc95-42da-b97e-482f11577a7f",
   "metadata": {
    "execution": {
     "iopub.execute_input": "2025-02-27T14:38:54.726855Z",
     "iopub.status.busy": "2025-02-27T14:38:54.726079Z",
     "iopub.status.idle": "2025-02-27T14:38:54.732831Z",
     "shell.execute_reply": "2025-02-27T14:38:54.732383Z",
     "shell.execute_reply.started": "2025-02-27T14:38:54.726786Z"
    }
   },
   "outputs": [
    {
     "data": {
      "text/plain": [
       "[array([-0.01493518,  0.02493956, -0.01642812, ..., -0.00148642,\n",
       "        -0.01115633, -0.02175757], dtype=float32)]"
      ]
     },
     "execution_count": 32,
     "metadata": {},
     "output_type": "execute_result"
    }
   ],
   "source": [
    "cust_emb_fn.embed_documents([chunks[0]])"
   ]
  },
  {
   "cell_type": "code",
   "execution_count": 33,
   "id": "edd539fb-aa86-4364-ac27-30d3493bb52e",
   "metadata": {
    "execution": {
     "iopub.execute_input": "2025-02-27T14:38:55.959015Z",
     "iopub.status.busy": "2025-02-27T14:38:55.958845Z",
     "iopub.status.idle": "2025-02-27T14:38:56.045319Z",
     "shell.execute_reply": "2025-02-27T14:38:56.044802Z",
     "shell.execute_reply.started": "2025-02-27T14:38:55.959002Z"
    }
   },
   "outputs": [
    {
     "data": {
      "text/plain": [
       "array([-0.01151318,  0.02350147, -0.01801374, ...,  0.01589576,\n",
       "       -0.00841782, -0.01799052], dtype=float32)"
      ]
     },
     "execution_count": 33,
     "metadata": {},
     "output_type": "execute_result"
    }
   ],
   "source": [
    "cust_emb_fn.embed_query(chunks[0])"
   ]
  },
  {
   "cell_type": "code",
   "execution_count": 34,
   "id": "b181264b-1ba0-4149-9111-c68dd2592f0c",
   "metadata": {
    "execution": {
     "iopub.execute_input": "2025-02-27T14:38:56.254509Z",
     "iopub.status.busy": "2025-02-27T14:38:56.253703Z",
     "iopub.status.idle": "2025-02-27T14:38:56.317169Z",
     "shell.execute_reply": "2025-02-27T14:38:56.316583Z",
     "shell.execute_reply.started": "2025-02-27T14:38:56.254441Z"
    }
   },
   "outputs": [
    {
     "data": {
      "text/plain": [
       "0.97216177"
      ]
     },
     "execution_count": 34,
     "metadata": {},
     "output_type": "execute_result"
    }
   ],
   "source": [
    "np.dot(late_embeddings[0][0], cust_emb_fn.embed_query(chunks[0]).T)"
   ]
  },
  {
   "cell_type": "code",
   "execution_count": 35,
   "id": "d36af462-e3bf-4312-baa8-e025e9883fd2",
   "metadata": {
    "execution": {
     "iopub.execute_input": "2025-02-27T14:39:12.302840Z",
     "iopub.status.busy": "2025-02-27T14:39:12.302625Z",
     "iopub.status.idle": "2025-02-27T14:39:26.795657Z",
     "shell.execute_reply": "2025-02-27T14:39:26.793227Z",
     "shell.execute_reply.started": "2025-02-27T14:39:12.302827Z"
    }
   },
   "outputs": [],
   "source": [
    "from langchain.vectorstores import Chroma\n",
    "import shutil\n",
    "\n",
    "persist_directory = os.path.join(expr_dir, 'chroma', 'late_chunking')\n",
    "shutil.rmtree(persist_directory, ignore_errors=True)\n",
    "os.makedirs(persist_directory, exist_ok=True)\n",
    "\n",
    "vector_db = Chroma.from_texts(\n",
    "    chunks,\n",
    "    embedding=CustomEmbeddingFn(),\n",
    "    persist_directory=persist_directory\n",
    ")"
   ]
  },
  {
   "cell_type": "markdown",
   "id": "7925564a-7d30-4914-baaf-4a00abb7686d",
   "metadata": {
    "papermill": {
     "duration": 0.109216,
     "end_time": "2024-11-23T14:35:26.464009",
     "exception": false,
     "start_time": "2024-11-23T14:35:26.354793",
     "status": "completed"
    },
    "tags": []
   },
   "source": [
    "# 生成答案"
   ]
  },
  {
   "cell_type": "code",
   "execution_count": 36,
   "id": "27132c3b-0051-4df6-bf57-fd804acb8d17",
   "metadata": {
    "execution": {
     "iopub.execute_input": "2025-02-27T14:40:46.258920Z",
     "iopub.status.busy": "2025-02-27T14:40:46.258128Z",
     "iopub.status.idle": "2025-02-27T14:40:46.350987Z",
     "shell.execute_reply": "2025-02-27T14:40:46.350474Z",
     "shell.execute_reply.started": "2025-02-27T14:40:46.258851Z"
    },
    "papermill": {
     "duration": 0.199165,
     "end_time": "2024-11-23T14:35:27.323500",
     "exception": false,
     "start_time": "2024-11-23T14:35:27.124335",
     "status": "completed"
    },
    "tags": []
   },
   "outputs": [
    {
     "name": "stderr",
     "output_type": "stream",
     "text": [
      "/tmp/ipykernel_2513129/3342461511.py:3: LangChainDeprecationWarning: The class `Ollama` was deprecated in LangChain 0.3.1 and will be removed in 1.0.0. An updated version of the class exists in the :class:`~langchain-ollama package and should be used instead. To use it run `pip install -U :class:`~langchain-ollama` and import as `from :class:`~langchain_ollama import OllamaLLM``.\n",
      "  ollama_llm = Ollama(\n"
     ]
    }
   ],
   "source": [
    "from langchain.llms import Ollama\n",
    "\n",
    "ollama_llm = Ollama(\n",
    "    model='qwen2:7b-instruct',\n",
    "    base_url='http://localhost:11434',\n",
    "    top_k=1\n",
    ")"
   ]
  },
  {
   "cell_type": "code",
   "execution_count": 37,
   "id": "50404beb-3be0-4aaa-b124-8c7a52b84531",
   "metadata": {
    "editable": true,
    "execution": {
     "iopub.execute_input": "2025-02-27T14:40:47.168459Z",
     "iopub.status.busy": "2025-02-27T14:40:47.167210Z",
     "iopub.status.idle": "2025-02-27T14:40:47.174412Z",
     "shell.execute_reply": "2025-02-27T14:40:47.173866Z",
     "shell.execute_reply.started": "2025-02-27T14:40:47.168383Z"
    },
    "papermill": {
     "duration": 0.159318,
     "end_time": "2024-11-23T14:35:26.768506",
     "exception": false,
     "start_time": "2024-11-23T14:35:26.609188",
     "status": "completed"
    },
    "slideshow": {
     "slide_type": ""
    },
    "tags": []
   },
   "outputs": [],
   "source": [
    "import time\n",
    "\n",
    "def rag(vector_db, llm, query, n_chunks=4):\n",
    "    prompt_tmpl = \"\"\"\n",
    "你是一个金融分析师，擅长根据所获取的信息片段，对问题进行分析和推理。\n",
    "你的任务是根据所获取的信息片段（<<<<context>>><<<</context>>>之间的内容）回答问题。\n",
    "回答保持简洁，不必重复问题，不要添加描述性解释和与答案无关的任何内容。\n",
    "已知信息：\n",
    "<<<<context>>>\n",
    "{{knowledge}}\n",
    "<<<</context>>>\n",
    "\n",
    "问题：{{query}}\n",
    "请回答：\n",
    "\"\"\".strip()\n",
    "    chunks = vector_db.similarity_search(query, k=n_chunks)\n",
    "    prompt = prompt_tmpl.replace('{{knowledge}}', '\\n\\n'.join([doc.page_content for doc in chunks])).replace('{{query}}', query)\n",
    "    retry_count = 3\n",
    "\n",
    "    resp = ''\n",
    "    while retry_count > 0:\n",
    "        try:\n",
    "            resp = llm.invoke(prompt)\n",
    "            break\n",
    "        except Exception as e:\n",
    "            retry_count -= 1\n",
    "            sleeping_seconds = 2 ** (4 - retry_count)\n",
    "            print(f\"query={query}, error={e}, sleeping={sleeping_seconds}, remaining retry count={retry_count}\")\n",
    "            \n",
    "            time.sleep(sleeping_seconds)\n",
    "    \n",
    "    return resp, chunks"
   ]
  },
  {
   "cell_type": "code",
   "execution_count": 38,
   "id": "166392d8-f801-4372-b8ad-3e79aef0b350",
   "metadata": {
    "execution": {
     "iopub.execute_input": "2025-02-27T14:40:51.653791Z",
     "iopub.status.busy": "2025-02-27T14:40:51.653623Z",
     "iopub.status.idle": "2025-02-27T14:40:51.665699Z",
     "shell.execute_reply": "2025-02-27T14:40:51.665373Z",
     "shell.execute_reply.started": "2025-02-27T14:40:51.653778Z"
    },
    "papermill": {
     "duration": 0.141864,
     "end_time": "2024-11-23T14:35:27.564409",
     "exception": false,
     "start_time": "2024-11-23T14:35:27.422545",
     "status": "completed"
    },
    "tags": []
   },
   "outputs": [],
   "source": [
    "prediction_df = qa_df[qa_df['dataset'] == 'test'][['uuid', 'question', 'qa_type', 'answer']].rename(columns={'answer': 'ref_answer'})\n",
    "\n",
    "def predict(vector_db, llm, prediction_df, n_chunks):\n",
    "    prediction_df = prediction_df.copy()\n",
    "    answer_dict = {}\n",
    "\n",
    "    for idx, row in tqdm(prediction_df.iterrows(), total=len(prediction_df)):\n",
    "        uuid = row['uuid']\n",
    "        question = row['question']\n",
    "        answer, chunks = rag(vector_db, llm, question, n_chunks=n_chunks)\n",
    "        assert len(chunks) <= n_chunks\n",
    "        answer_dict[question] = {\n",
    "            'uuid': uuid,\n",
    "            'ref_answer': row['ref_answer'],\n",
    "            'gen_answer': answer,\n",
    "            'chunks': chunks\n",
    "        }\n",
    "\n",
    "    prediction_df.loc[:, 'gen_answer'] = prediction_df['question'].apply(lambda q: answer_dict[q]['gen_answer'])\n",
    "    prediction_df.loc[:, 'chunks'] = prediction_df['question'].apply(lambda q: answer_dict[q]['chunks'])\n",
    "\n",
    "    return prediction_df"
   ]
  },
  {
   "cell_type": "code",
   "execution_count": 39,
   "id": "13ed3ce6-460d-496e-8bca-1f733f57cfde",
   "metadata": {
    "execution": {
     "iopub.execute_input": "2025-02-27T14:40:52.047345Z",
     "iopub.status.busy": "2025-02-27T14:40:52.047139Z",
     "iopub.status.idle": "2025-02-27T14:40:52.049906Z",
     "shell.execute_reply": "2025-02-27T14:40:52.049568Z",
     "shell.execute_reply.started": "2025-02-27T14:40:52.047332Z"
    }
   },
   "outputs": [],
   "source": [
    "save_path = os.path.join(expr_dir, 'pred_df.pkl')"
   ]
  },
  {
   "cell_type": "code",
   "execution_count": 40,
   "id": "5b3dff59-03e8-4343-b12f-66c16b4bfa33",
   "metadata": {
    "execution": {
     "iopub.execute_input": "2025-02-27T14:40:52.313883Z",
     "iopub.status.busy": "2025-02-27T14:40:52.313322Z",
     "iopub.status.idle": "2025-02-27T14:45:14.857787Z",
     "shell.execute_reply": "2025-02-27T14:45:14.855386Z",
     "shell.execute_reply.started": "2025-02-27T14:40:52.313834Z"
    }
   },
   "outputs": [
    {
     "data": {
      "application/vnd.jupyter.widget-view+json": {
       "model_id": "37146ef5b13c45f3a0edb27b4f7cecc5",
       "version_major": 2,
       "version_minor": 0
      },
      "text/plain": [
       "  0%|          | 0/100 [00:00<?, ?it/s]"
      ]
     },
     "metadata": {},
     "output_type": "display_data"
    }
   ],
   "source": [
    "from tqdm.auto import tqdm\n",
    "\n",
    "pred_df = predict(vector_db, ollama_llm, prediction_df, n_chunks=3)\n",
    "pickle.dump(pred_df, open(save_path, 'wb'))"
   ]
  },
  {
   "cell_type": "markdown",
   "id": "7d79e974-089f-4c08-ba5e-804f6542e06a",
   "metadata": {
    "papermill": {
     "duration": 0.14423,
     "end_time": "2024-11-23T14:44:03.513124",
     "exception": false,
     "start_time": "2024-11-23T14:44:03.368894",
     "status": "completed"
    },
    "tags": []
   },
   "source": [
    "# 评估"
   ]
  },
  {
   "cell_type": "code",
   "execution_count": 41,
   "id": "217568fe-c0e4-49eb-9a7c-9fdfbc033d8a",
   "metadata": {
    "execution": {
     "iopub.execute_input": "2025-02-27T14:45:19.212309Z",
     "iopub.status.busy": "2025-02-27T14:45:19.211523Z",
     "iopub.status.idle": "2025-02-27T14:45:19.465507Z",
     "shell.execute_reply": "2025-02-27T14:45:19.464993Z",
     "shell.execute_reply.started": "2025-02-27T14:45:19.212238Z"
    },
    "papermill": {
     "duration": 0.369729,
     "end_time": "2024-11-23T14:44:04.017198",
     "exception": false,
     "start_time": "2024-11-23T14:44:03.647469",
     "status": "completed"
    },
    "tags": []
   },
   "outputs": [],
   "source": [
    "from langchain_openai import ChatOpenAI\n",
    "import time\n",
    "\n",
    "judge_llm = ChatOpenAI(\n",
    "    api_key=os.environ['LLM_API_KEY'],\n",
    "    base_url=os.environ['LLM_BASE_URL'],\n",
    "    model_name='qwen2-72b-instruct',\n",
    "    temperature=0\n",
    ")\n",
    "\n",
    "def evaluate(prediction_df):\n",
    "    \"\"\"\n",
    "    对预测结果进行打分\n",
    "    :param prediction_df: 预测结果，需要包含问题，参考答案，生成的答案，列名分别为question, ref_answer, gen_answer\n",
    "    :return 打分模型原始返回结果\n",
    "    \"\"\"\n",
    "    prompt_tmpl = \"\"\"\n",
    "你是一个经济学博士，现在我有一系列问题，有一个助手已经对这些问题进行了回答，你需要参照参考答案，评价这个助手的回答是否正确，仅回复“是”或“否”即可，不要带其他描述性内容或无关信息。\n",
    "问题：\n",
    "<question>\n",
    "{{question}}\n",
    "</question>\n",
    "\n",
    "参考答案：\n",
    "<ref_answer>\n",
    "{{ref_answer}}\n",
    "</ref_answer>\n",
    "\n",
    "助手回答：\n",
    "<gen_answer>\n",
    "{{gen_answer}}\n",
    "</gen_answer>\n",
    "请评价：\n",
    "    \"\"\"\n",
    "    results = []\n",
    "\n",
    "    for _, row in tqdm(prediction_df.iterrows(), total=len(prediction_df)):\n",
    "        question = row['question']\n",
    "        ref_answer = row['ref_answer']\n",
    "        gen_answer = row['gen_answer']\n",
    "\n",
    "        prompt = prompt_tmpl.replace('{{question}}', question).replace('{{ref_answer}}', str(ref_answer)).replace('{{gen_answer}}', gen_answer).strip()\n",
    "        \n",
    "        retry_count = 3\n",
    "        result = ''\n",
    "        \n",
    "        while retry_count > 0:\n",
    "            try:\n",
    "                result = judge_llm.invoke(prompt).content\n",
    "                break\n",
    "            except Exception as e:\n",
    "                retry_count -= 1\n",
    "                sleeping_seconds = 2 ** (4 - retry_count)\n",
    "                print(f\"query={question}, error={e}, sleeping={sleeping_seconds}, remaining retry count={retry_count}\")\n",
    "                \n",
    "                time.sleep(sleeping_seconds)\n",
    "        \n",
    "        results.append(result)\n",
    "\n",
    "        time.sleep(1)\n",
    "    return results"
   ]
  },
  {
   "cell_type": "code",
   "execution_count": 42,
   "id": "fa6420f8-2d67-43bd-8ec6-2f136701e943",
   "metadata": {
    "execution": {
     "iopub.execute_input": "2025-02-27T14:45:20.149476Z",
     "iopub.status.busy": "2025-02-27T14:45:20.148682Z",
     "iopub.status.idle": "2025-02-27T14:45:20.158652Z",
     "shell.execute_reply": "2025-02-27T14:45:20.156461Z",
     "shell.execute_reply.started": "2025-02-27T14:45:20.149406Z"
    }
   },
   "outputs": [],
   "source": [
    "eval_save_path = os.path.join(expr_dir, 'eval.pkl')"
   ]
  },
  {
   "cell_type": "code",
   "execution_count": 43,
   "id": "d1e2d6c9-c45f-442b-8181-66c30437a308",
   "metadata": {
    "execution": {
     "iopub.execute_input": "2025-02-27T14:45:22.445854Z",
     "iopub.status.busy": "2025-02-27T14:45:22.445483Z",
     "iopub.status.idle": "2025-02-27T14:47:54.505745Z",
     "shell.execute_reply": "2025-02-27T14:47:54.503324Z",
     "shell.execute_reply.started": "2025-02-27T14:45:22.445821Z"
    }
   },
   "outputs": [
    {
     "data": {
      "application/vnd.jupyter.widget-view+json": {
       "model_id": "079bebe0c4ae414d8bbc2d025ad53d61",
       "version_major": 2,
       "version_minor": 0
      },
      "text/plain": [
       "  0%|          | 0/100 [00:00<?, ?it/s]"
      ]
     },
     "metadata": {},
     "output_type": "display_data"
    }
   ],
   "source": [
    "pred_df['raw_score'] = evaluate(pred_df)\n",
    "pred_df['score'] = (pred_df['raw_score'] == '是').astype(int)\n",
    "pickle.dump(pred_df, open(eval_save_path, 'wb'))"
   ]
  },
  {
   "cell_type": "code",
   "execution_count": 44,
   "id": "9fc0c11c-be15-47dc-88bf-31b0192b4622",
   "metadata": {
    "execution": {
     "iopub.execute_input": "2025-02-27T14:47:54.510310Z",
     "iopub.status.busy": "2025-02-27T14:47:54.509389Z",
     "iopub.status.idle": "2025-02-27T14:47:54.525093Z",
     "shell.execute_reply": "2025-02-27T14:47:54.522759Z",
     "shell.execute_reply.started": "2025-02-27T14:47:54.510237Z"
    }
   },
   "outputs": [
    {
     "data": {
      "text/plain": [
       "0.36"
      ]
     },
     "execution_count": 44,
     "metadata": {},
     "output_type": "execute_result"
    }
   ],
   "source": [
    "pred_df['score'].mean()"
   ]
  },
  {
   "cell_type": "markdown",
   "id": "7bb5ae82-df27-4efc-bcbf-8d67b2f67bbb",
   "metadata": {},
   "source": [
    "# 结果分析"
   ]
  },
  {
   "cell_type": "markdown",
   "id": "0c862885-9a39-4bff-ae9e-fa45ede5060e",
   "metadata": {},
   "source": [
    "## 首先检查一下预测结果"
   ]
  },
  {
   "cell_type": "markdown",
   "id": "21302c46-b284-489c-a7c2-0b2b4254ad7e",
   "metadata": {
    "execution": {
     "iopub.execute_input": "2025-02-27T14:52:37.416782Z",
     "iopub.status.busy": "2025-02-27T14:52:37.416572Z",
     "iopub.status.idle": "2025-02-27T14:52:37.420095Z",
     "shell.execute_reply": "2025-02-27T14:52:37.419430Z",
     "shell.execute_reply.started": "2025-02-27T14:52:37.416765Z"
    }
   },
   "source": [
    "可以看出，大部分问题似乎都检索到了相同的知识片段"
   ]
  },
  {
   "cell_type": "code",
   "execution_count": 45,
   "id": "d98a4617-0aae-47f9-a953-0676b1081e34",
   "metadata": {
    "execution": {
     "iopub.execute_input": "2025-02-27T14:49:04.055864Z",
     "iopub.status.busy": "2025-02-27T14:49:04.055435Z",
     "iopub.status.idle": "2025-02-27T14:49:04.070919Z",
     "shell.execute_reply": "2025-02-27T14:49:04.070587Z",
     "shell.execute_reply.started": "2025-02-27T14:49:04.055828Z"
    }
   },
   "outputs": [
    {
     "data": {
      "text/html": [
       "<div>\n",
       "<style scoped>\n",
       "    .dataframe tbody tr th:only-of-type {\n",
       "        vertical-align: middle;\n",
       "    }\n",
       "\n",
       "    .dataframe tbody tr th {\n",
       "        vertical-align: top;\n",
       "    }\n",
       "\n",
       "    .dataframe thead th {\n",
       "        text-align: right;\n",
       "    }\n",
       "</style>\n",
       "<table border=\"1\" class=\"dataframe\">\n",
       "  <thead>\n",
       "    <tr style=\"text-align: right;\">\n",
       "      <th></th>\n",
       "      <th>uuid</th>\n",
       "      <th>question</th>\n",
       "      <th>qa_type</th>\n",
       "      <th>ref_answer</th>\n",
       "      <th>gen_answer</th>\n",
       "      <th>chunks</th>\n",
       "      <th>raw_score</th>\n",
       "      <th>score</th>\n",
       "    </tr>\n",
       "  </thead>\n",
       "  <tbody>\n",
       "    <tr>\n",
       "      <th>0</th>\n",
       "      <td>e73a0c9d-d42b-4350-a4c3-b38bf67c68a5</td>\n",
       "      <td>报告的发布机构是什么？</td>\n",
       "      <td>detailed</td>\n",
       "      <td>中国银行研究院</td>\n",
       "      <td>报告的发布机构是中国银行研究院。</td>\n",
       "      <td>[page_content='本研究报告内容及观点仅供参考,不构成任何投资建议。对于本报告所...</td>\n",
       "      <td>是</td>\n",
       "      <td>1</td>\n",
       "    </tr>\n",
       "    <tr>\n",
       "      <th>1</th>\n",
       "      <td>e73a0c9d-d42b-4350-a4c3-b38bf67c68a5</td>\n",
       "      <td>报告的发布日期是什么时候？</td>\n",
       "      <td>detailed</td>\n",
       "      <td>2023年12月12日</td>\n",
       "      <td>报告的发布日期是2023年12月12日。</td>\n",
       "      <td>[page_content='# 全球经济金融展望报告 2024年年报(总第57期) 报告日...</td>\n",
       "      <td>是</td>\n",
       "      <td>1</td>\n",
       "    </tr>\n",
       "    <tr>\n",
       "      <th>2</th>\n",
       "      <td>e73a0c9d-d42b-4350-a4c3-b38bf67c68a5</td>\n",
       "      <td>2023年全球经济增长有什么特点？</td>\n",
       "      <td>detailed</td>\n",
       "      <td>全球经济增长动力持续回落，各国复苏分化，发达经济体增速放缓，新兴经济体表现稳定。</td>\n",
       "      <td>2023年全球经济增长动力持续回落，各国复苏存在较大差异。发达经济体增速明显放缓，新兴经济体...</td>\n",
       "      <td>[page_content='# 全球经济金融展望报告 2024年年报(总第57期) 报告日...</td>\n",
       "      <td>是</td>\n",
       "      <td>1</td>\n",
       "    </tr>\n",
       "    <tr>\n",
       "      <th>3</th>\n",
       "      <td>e73a0c9d-d42b-4350-a4c3-b38bf67c68a5</td>\n",
       "      <td>全球贸易增长情况如何？</td>\n",
       "      <td>detailed</td>\n",
       "      <td>全球贸易增长乏力。</td>\n",
       "      <td>全球贸易增长乏力，各国生产景气度逐渐回落，内需对经济的拉动作用减弱。</td>\n",
       "      <td>[page_content='# 全球经济金融展望报告 2024年年报(总第57期) 报告日...</td>\n",
       "      <td>是</td>\n",
       "      <td>1</td>\n",
       "    </tr>\n",
       "    <tr>\n",
       "      <th>5</th>\n",
       "      <td>e73a0c9d-d42b-4350-a4c3-b38bf67c68a5</td>\n",
       "      <td>展望2024年，全球经济复苏的预期如何？</td>\n",
       "      <td>detailed</td>\n",
       "      <td>全球经济复苏预计将依旧疲软。</td>\n",
       "      <td>预计2024年全球经济复苏将依旧疲软，主要经济体增长态势和货币政策将进一步分化。欧美央行大概...</td>\n",
       "      <td>[page_content='# 全球经济金融展望报告 2024年年报(总第57期) 报告日...</td>\n",
       "      <td>是</td>\n",
       "      <td>1</td>\n",
       "    </tr>\n",
       "    <tr>\n",
       "      <th>...</th>\n",
       "      <td>...</td>\n",
       "      <td>...</td>\n",
       "      <td>...</td>\n",
       "      <td>...</td>\n",
       "      <td>...</td>\n",
       "      <td>...</td>\n",
       "      <td>...</td>\n",
       "      <td>...</td>\n",
       "    </tr>\n",
       "    <tr>\n",
       "      <th>356</th>\n",
       "      <td>584ef542-c5b3-4336-8eae-c30d6f600b5f</td>\n",
       "      <td>2023年全球发展中国家在哪些重要的国际会议上展露出活跃的表现？</td>\n",
       "      <td>large_context</td>\n",
       "      <td>2023年，全球发展中国家在国际政经舞台上表现突出，参与的重要会议包括上海合作组织成员国元首...</td>\n",
       "      <td>根据提供的信息片段，没有直接提到2023年全球发展中国家在特定国际会议上的表现。信息主要关注...</td>\n",
       "      <td>[page_content='# 全球经济金融展望报告 2024年年报(总第57期) 报告日...</td>\n",
       "      <td>否</td>\n",
       "      <td>0</td>\n",
       "    </tr>\n",
       "    <tr>\n",
       "      <th>360</th>\n",
       "      <td>d4683862-fed6-4867-a255-29db66011c2a</td>\n",
       "      <td>2024年美联储的货币政策预期如何？</td>\n",
       "      <td>large_context</td>\n",
       "      <td>2024年美联储预计将暂停加息，但是利率水平将较长时间维持在高位，预计会维持每月950亿美元...</td>\n",
       "      <td>2024年，预计美联储将结束本轮紧缩货币周期，其货币政策路线尚不清晰。市场共识认为，当前的货...</td>\n",
       "      <td>[page_content='# 全球经济金融展望报告 2024年年报(总第57期) 报告日...</td>\n",
       "      <td>否</td>\n",
       "      <td>0</td>\n",
       "    </tr>\n",
       "    <tr>\n",
       "      <th>365</th>\n",
       "      <td>2accb7dd-1bd7-42c9-89ad-a32b6725c95a</td>\n",
       "      <td>2024年全球资金状况和货币市场基金的前景如何？</td>\n",
       "      <td>large_context</td>\n",
       "      <td>2024年，主要经济体将结束加息周期，资金流动性会呈现“紧平衡”状态，可能导致货币市场脆弱性...</td>\n",
       "      <td>2024年，预计全球经济复苏将保持疲软态势，主要经济体的增长和货币政策将进一步分化。在这一背...</td>\n",
       "      <td>[page_content='# 全球经济金融展望报告 2024年年报(总第57期) 报告日...</td>\n",
       "      <td>否</td>\n",
       "      <td>0</td>\n",
       "    </tr>\n",
       "    <tr>\n",
       "      <th>377</th>\n",
       "      <td>61c25726-912a-4bd4-981c-01e9cfa81951</td>\n",
       "      <td>面对经济增长放缓和全球经济挑战，海湾国家采取了什么措施？</td>\n",
       "      <td>large_context</td>\n",
       "      <td>为了应对经济增长放缓和全球经济挑战，沙特、阿联酋等国政府大力推动绿色经济转型和经济多元化改革...</td>\n",
       "      <td>报告中未直接提及海湾六国针对经济增长放缓和全球经济挑战的具体应对措施。不过，考虑到海湾国家通...</td>\n",
       "      <td>[page_content='# 全球经济金融展望报告 2024年年报(总第57期) 报告日...</td>\n",
       "      <td>否</td>\n",
       "      <td>0</td>\n",
       "    </tr>\n",
       "    <tr>\n",
       "      <th>385</th>\n",
       "      <td>ddfb44a5-ffa5-4973-a79b-662a0bfeb491</td>\n",
       "      <td>浮动利率房贷在新增房贷中的占比有何变化，为什么会有这种变化？</td>\n",
       "      <td>large_context</td>\n",
       "      <td>浮动利率房贷在新增房贷中的占比上升，这是因为它们通常比固定利率低100个基点以上，这能帮助债...</td>\n",
       "      <td>报告中未直接提及浮动利率房贷在新增房贷中的具体占比变化。但根据内容可以推测，在美联储激进加息...</td>\n",
       "      <td>[page_content='本研究报告内容及观点仅供参考,不构成任何投资建议。对于本报告所...</td>\n",
       "      <td>否</td>\n",
       "      <td>0</td>\n",
       "    </tr>\n",
       "  </tbody>\n",
       "</table>\n",
       "<p>100 rows × 8 columns</p>\n",
       "</div>"
      ],
      "text/plain": [
       "                                     uuid                          question  \\\n",
       "0    e73a0c9d-d42b-4350-a4c3-b38bf67c68a5                       报告的发布机构是什么？   \n",
       "1    e73a0c9d-d42b-4350-a4c3-b38bf67c68a5                     报告的发布日期是什么时候？   \n",
       "2    e73a0c9d-d42b-4350-a4c3-b38bf67c68a5                 2023年全球经济增长有什么特点？   \n",
       "3    e73a0c9d-d42b-4350-a4c3-b38bf67c68a5                       全球贸易增长情况如何？   \n",
       "5    e73a0c9d-d42b-4350-a4c3-b38bf67c68a5              展望2024年，全球经济复苏的预期如何？   \n",
       "..                                    ...                               ...   \n",
       "356  584ef542-c5b3-4336-8eae-c30d6f600b5f  2023年全球发展中国家在哪些重要的国际会议上展露出活跃的表现？   \n",
       "360  d4683862-fed6-4867-a255-29db66011c2a                2024年美联储的货币政策预期如何？   \n",
       "365  2accb7dd-1bd7-42c9-89ad-a32b6725c95a          2024年全球资金状况和货币市场基金的前景如何？   \n",
       "377  61c25726-912a-4bd4-981c-01e9cfa81951      面对经济增长放缓和全球经济挑战，海湾国家采取了什么措施？   \n",
       "385  ddfb44a5-ffa5-4973-a79b-662a0bfeb491    浮动利率房贷在新增房贷中的占比有何变化，为什么会有这种变化？   \n",
       "\n",
       "           qa_type                                         ref_answer  \\\n",
       "0         detailed                                            中国银行研究院   \n",
       "1         detailed                                        2023年12月12日   \n",
       "2         detailed           全球经济增长动力持续回落，各国复苏分化，发达经济体增速放缓，新兴经济体表现稳定。   \n",
       "3         detailed                                          全球贸易增长乏力。   \n",
       "5         detailed                                     全球经济复苏预计将依旧疲软。   \n",
       "..             ...                                                ...   \n",
       "356  large_context  2023年，全球发展中国家在国际政经舞台上表现突出，参与的重要会议包括上海合作组织成员国元首...   \n",
       "360  large_context  2024年美联储预计将暂停加息，但是利率水平将较长时间维持在高位，预计会维持每月950亿美元...   \n",
       "365  large_context  2024年，主要经济体将结束加息周期，资金流动性会呈现“紧平衡”状态，可能导致货币市场脆弱性...   \n",
       "377  large_context  为了应对经济增长放缓和全球经济挑战，沙特、阿联酋等国政府大力推动绿色经济转型和经济多元化改革...   \n",
       "385  large_context  浮动利率房贷在新增房贷中的占比上升，这是因为它们通常比固定利率低100个基点以上，这能帮助债...   \n",
       "\n",
       "                                            gen_answer  \\\n",
       "0                                     报告的发布机构是中国银行研究院。   \n",
       "1                                 报告的发布日期是2023年12月12日。   \n",
       "2    2023年全球经济增长动力持续回落，各国复苏存在较大差异。发达经济体增速明显放缓，新兴经济体...   \n",
       "3                   全球贸易增长乏力，各国生产景气度逐渐回落，内需对经济的拉动作用减弱。   \n",
       "5    预计2024年全球经济复苏将依旧疲软，主要经济体增长态势和货币政策将进一步分化。欧美央行大概...   \n",
       "..                                                 ...   \n",
       "356  根据提供的信息片段，没有直接提到2023年全球发展中国家在特定国际会议上的表现。信息主要关注...   \n",
       "360  2024年，预计美联储将结束本轮紧缩货币周期，其货币政策路线尚不清晰。市场共识认为，当前的货...   \n",
       "365  2024年，预计全球经济复苏将保持疲软态势，主要经济体的增长和货币政策将进一步分化。在这一背...   \n",
       "377  报告中未直接提及海湾六国针对经济增长放缓和全球经济挑战的具体应对措施。不过，考虑到海湾国家通...   \n",
       "385  报告中未直接提及浮动利率房贷在新增房贷中的具体占比变化。但根据内容可以推测，在美联储激进加息...   \n",
       "\n",
       "                                                chunks raw_score  score  \n",
       "0    [page_content='本研究报告内容及观点仅供参考,不构成任何投资建议。对于本报告所...         是      1  \n",
       "1    [page_content='# 全球经济金融展望报告 2024年年报(总第57期) 报告日...         是      1  \n",
       "2    [page_content='# 全球经济金融展望报告 2024年年报(总第57期) 报告日...         是      1  \n",
       "3    [page_content='# 全球经济金融展望报告 2024年年报(总第57期) 报告日...         是      1  \n",
       "5    [page_content='# 全球经济金融展望报告 2024年年报(总第57期) 报告日...         是      1  \n",
       "..                                                 ...       ...    ...  \n",
       "356  [page_content='# 全球经济金融展望报告 2024年年报(总第57期) 报告日...         否      0  \n",
       "360  [page_content='# 全球经济金融展望报告 2024年年报(总第57期) 报告日...         否      0  \n",
       "365  [page_content='# 全球经济金融展望报告 2024年年报(总第57期) 报告日...         否      0  \n",
       "377  [page_content='# 全球经济金融展望报告 2024年年报(总第57期) 报告日...         否      0  \n",
       "385  [page_content='本研究报告内容及观点仅供参考,不构成任何投资建议。对于本报告所...         否      0  \n",
       "\n",
       "[100 rows x 8 columns]"
      ]
     },
     "execution_count": 45,
     "metadata": {},
     "output_type": "execute_result"
    }
   ],
   "source": [
    "pred_df"
   ]
  },
  {
   "cell_type": "markdown",
   "id": "3c71308b-a161-4c4c-aaef-9982b1916abe",
   "metadata": {},
   "source": [
    "## 检查以chunk作为Query来检索，看能否召回自己"
   ]
  },
  {
   "cell_type": "code",
   "execution_count": 46,
   "id": "80d8aa3b-c41d-409a-b1c9-d82cb47c37b4",
   "metadata": {
    "execution": {
     "iopub.execute_input": "2025-02-27T14:50:20.313283Z",
     "iopub.status.busy": "2025-02-27T14:50:20.312704Z",
     "iopub.status.idle": "2025-02-27T14:50:23.049514Z",
     "shell.execute_reply": "2025-02-27T14:50:23.049006Z",
     "shell.execute_reply.started": "2025-02-27T14:50:20.313231Z"
    }
   },
   "outputs": [],
   "source": [
    "embedding_fn = CustomEmbeddingFn()\n",
    "\n",
    "chunk_retrieve_data = []\n",
    "for chunk in chunks:\n",
    "    retrieved_docs = vector_db.similarity_search_with_relevance_scores(chunk, k=1)\n",
    "    chunk_retrieve_data.append({\n",
    "        'orig': chunk,\n",
    "        'retrieved': retrieved_docs[0][0].page_content,\n",
    "        'similarity': retrieved_docs[0][1]\n",
    "    })"
   ]
  },
  {
   "cell_type": "code",
   "execution_count": 47,
   "id": "b4ff2060-88fd-40f7-9818-73d7d42bc87b",
   "metadata": {
    "execution": {
     "iopub.execute_input": "2025-02-27T14:50:23.050345Z",
     "iopub.status.busy": "2025-02-27T14:50:23.050209Z",
     "iopub.status.idle": "2025-02-27T14:50:23.052935Z",
     "shell.execute_reply": "2025-02-27T14:50:23.052618Z",
     "shell.execute_reply.started": "2025-02-27T14:50:23.050332Z"
    }
   },
   "outputs": [],
   "source": [
    "retrieved_dbg_df = pd.DataFrame(chunk_retrieve_data)"
   ]
  },
  {
   "cell_type": "code",
   "execution_count": 48,
   "id": "277d1ecd-156f-4e3b-bf87-8daa296bb354",
   "metadata": {
    "execution": {
     "iopub.execute_input": "2025-02-27T14:50:23.053459Z",
     "iopub.status.busy": "2025-02-27T14:50:23.053337Z",
     "iopub.status.idle": "2025-02-27T14:50:23.069768Z",
     "shell.execute_reply": "2025-02-27T14:50:23.069444Z",
     "shell.execute_reply.started": "2025-02-27T14:50:23.053447Z"
    }
   },
   "outputs": [
    {
     "data": {
      "text/html": [
       "<div>\n",
       "<style scoped>\n",
       "    .dataframe tbody tr th:only-of-type {\n",
       "        vertical-align: middle;\n",
       "    }\n",
       "\n",
       "    .dataframe tbody tr th {\n",
       "        vertical-align: top;\n",
       "    }\n",
       "\n",
       "    .dataframe thead th {\n",
       "        text-align: right;\n",
       "    }\n",
       "</style>\n",
       "<table border=\"1\" class=\"dataframe\">\n",
       "  <thead>\n",
       "    <tr style=\"text-align: right;\">\n",
       "      <th></th>\n",
       "      <th>orig</th>\n",
       "      <th>retrieved</th>\n",
       "      <th>similarity</th>\n",
       "    </tr>\n",
       "  </thead>\n",
       "  <tbody>\n",
       "    <tr>\n",
       "      <th>0</th>\n",
       "      <td># 全球经济金融展望报告 2024年年报(总第57期) 报告日期:2023年12月12日 #...</td>\n",
       "      <td># 全球经济金融展望报告 2024年年报(总第57期) 报告日期:2023年12月12日 #...</td>\n",
       "      <td>0.960631</td>\n",
       "    </tr>\n",
       "    <tr>\n",
       "      <th>1</th>\n",
       "      <td>2023年,全球经济增长动力持续回落。分区域看,各国复苏存在较大差异,发达经济体增速明显放缓...</td>\n",
       "      <td># 全球经济金融展望报告 2024年年报(总第57期) 报告日期:2023年12月12日 #...</td>\n",
       "      <td>0.937026</td>\n",
       "    </tr>\n",
       "    <tr>\n",
       "      <th>6</th>\n",
       "      <td>二是各国经济走势将进一步分化。相较于新兴市场和发展中经济体,发达经济体面临更大的经济增长压力...</td>\n",
       "      <td># 全球经济金融展望报告 2024年年报(总第57期) 报告日期:2023年12月12日 #...</td>\n",
       "      <td>0.914196</td>\n",
       "    </tr>\n",
       "    <tr>\n",
       "      <th>2</th>\n",
       "      <td>分区域看,全球经济复苏不均衡,各国存在较大差异。发达经济体增速明显放缓,预计2023年增速较...</td>\n",
       "      <td># 全球经济金融展望报告 2024年年报(总第57期) 报告日期:2023年12月12日 #...</td>\n",
       "      <td>0.902108</td>\n",
       "    </tr>\n",
       "    <tr>\n",
       "      <th>15</th>\n",
       "      <td>2023年,新兴经济体表现整体偏弱。全球贸易增长乏力,亚太新兴经济体出口呈大幅下滑态势,自2...</td>\n",
       "      <td># 全球经济金融展望报告 2024年年报(总第57期) 报告日期:2023年12月12日 #...</td>\n",
       "      <td>0.893071</td>\n",
       "    </tr>\n",
       "    <tr>\n",
       "      <th>38</th>\n",
       "      <td>第二,金融资产质量开始下降。银行业商业房地产贷款拖欠率季度平均值从2022年三季度的 $0....</td>\n",
       "      <td>第二,金融资产质量开始下降。银行业商业房地产贷款拖欠率季度平均值从2022年三季度的 $0....</td>\n",
       "      <td>0.888912</td>\n",
       "    </tr>\n",
       "    <tr>\n",
       "      <th>18</th>\n",
       "      <td># 二、国际金融回顾与展望 2023年以来,跨境资本回流美国速度放缓,美元指数从高位回落,国...</td>\n",
       "      <td># 二、国际金融回顾与展望 2023年以来,跨境资本回流美国速度放缓,美元指数从高位回落,国...</td>\n",
       "      <td>0.882260</td>\n",
       "    </tr>\n",
       "    <tr>\n",
       "      <th>37</th>\n",
       "      <td>过去两年,美国居住房地产价格经历了两位数增长。美联储可能在2024年开始降息,房贷利率随之下...</td>\n",
       "      <td>过去两年,美国居住房地产价格经历了两位数增长。美联储可能在2024年开始降息,房贷利率随之下...</td>\n",
       "      <td>0.879990</td>\n",
       "    </tr>\n",
       "    <tr>\n",
       "      <th>21</th>\n",
       "      <td>2023年,主要经济体货币市场利率与本地区政策利率走势基本保持同步。截至2023年11月15...</td>\n",
       "      <td>2024年,跨境资本流动可能将发生趋势性变化,跨境资本回流美国态势会进一步放缓。惠誉、穆迪下...</td>\n",
       "      <td>0.879512</td>\n",
       "    </tr>\n",
       "    <tr>\n",
       "      <th>9</th>\n",
       "      <td>对于私人消费来说,高利率对消费的负面影响将逐渐显现。2023年利率上升增加了美国家庭债务负担...</td>\n",
       "      <td>2023年四季度美国经济增长动力明显回落,更多领域的负面因素开始凸显,不同部门表现分化。一是...</td>\n",
       "      <td>0.876309</td>\n",
       "    </tr>\n",
       "  </tbody>\n",
       "</table>\n",
       "</div>"
      ],
      "text/plain": [
       "                                                 orig  \\\n",
       "0   # 全球经济金融展望报告 2024年年报(总第57期) 报告日期:2023年12月12日 #...   \n",
       "1   2023年,全球经济增长动力持续回落。分区域看,各国复苏存在较大差异,发达经济体增速明显放缓...   \n",
       "6   二是各国经济走势将进一步分化。相较于新兴市场和发展中经济体,发达经济体面临更大的经济增长压力...   \n",
       "2   分区域看,全球经济复苏不均衡,各国存在较大差异。发达经济体增速明显放缓,预计2023年增速较...   \n",
       "15  2023年,新兴经济体表现整体偏弱。全球贸易增长乏力,亚太新兴经济体出口呈大幅下滑态势,自2...   \n",
       "38  第二,金融资产质量开始下降。银行业商业房地产贷款拖欠率季度平均值从2022年三季度的 $0....   \n",
       "18  # 二、国际金融回顾与展望 2023年以来,跨境资本回流美国速度放缓,美元指数从高位回落,国...   \n",
       "37  过去两年,美国居住房地产价格经历了两位数增长。美联储可能在2024年开始降息,房贷利率随之下...   \n",
       "21  2023年,主要经济体货币市场利率与本地区政策利率走势基本保持同步。截至2023年11月15...   \n",
       "9   对于私人消费来说,高利率对消费的负面影响将逐渐显现。2023年利率上升增加了美国家庭债务负担...   \n",
       "\n",
       "                                            retrieved  similarity  \n",
       "0   # 全球经济金融展望报告 2024年年报(总第57期) 报告日期:2023年12月12日 #...    0.960631  \n",
       "1   # 全球经济金融展望报告 2024年年报(总第57期) 报告日期:2023年12月12日 #...    0.937026  \n",
       "6   # 全球经济金融展望报告 2024年年报(总第57期) 报告日期:2023年12月12日 #...    0.914196  \n",
       "2   # 全球经济金融展望报告 2024年年报(总第57期) 报告日期:2023年12月12日 #...    0.902108  \n",
       "15  # 全球经济金融展望报告 2024年年报(总第57期) 报告日期:2023年12月12日 #...    0.893071  \n",
       "38  第二,金融资产质量开始下降。银行业商业房地产贷款拖欠率季度平均值从2022年三季度的 $0....    0.888912  \n",
       "18  # 二、国际金融回顾与展望 2023年以来,跨境资本回流美国速度放缓,美元指数从高位回落,国...    0.882260  \n",
       "37  过去两年,美国居住房地产价格经历了两位数增长。美联储可能在2024年开始降息,房贷利率随之下...    0.879990  \n",
       "21  2024年,跨境资本流动可能将发生趋势性变化,跨境资本回流美国态势会进一步放缓。惠誉、穆迪下...    0.879512  \n",
       "9   2023年四季度美国经济增长动力明显回落,更多领域的负面因素开始凸显,不同部门表现分化。一是...    0.876309  "
      ]
     },
     "execution_count": 48,
     "metadata": {},
     "output_type": "execute_result"
    }
   ],
   "source": [
    "retrieved_dbg_df.sort_values('similarity', ascending=False).head(10)"
   ]
  },
  {
   "cell_type": "code",
   "execution_count": 49,
   "id": "f3b09758-9abd-4016-8de0-4a152cc97c4e",
   "metadata": {
    "execution": {
     "iopub.execute_input": "2025-02-27T14:50:57.309033Z",
     "iopub.status.busy": "2025-02-27T14:50:57.308823Z",
     "iopub.status.idle": "2025-02-27T14:50:57.312141Z",
     "shell.execute_reply": "2025-02-27T14:50:57.311779Z",
     "shell.execute_reply.started": "2025-02-27T14:50:57.309020Z"
    }
   },
   "outputs": [
    {
     "data": {
      "text/plain": [
       "0.8548113634612008"
      ]
     },
     "execution_count": 49,
     "metadata": {},
     "output_type": "execute_result"
    }
   ],
   "source": [
    "retrieved_dbg_df['similarity'].mean()"
   ]
  },
  {
   "cell_type": "markdown",
   "id": "6acb63e6-ba8d-4a96-9a6e-90365635137c",
   "metadata": {},
   "source": [
    "平均而言，每个chunk自己和自己的相似度只有0.854，这个指标就很低了。为什么自己和自己的相似度不是1，因为作为Query的chunk，是不考虑上下文做的Embedding，而作为知识库片段的chunk，是使用Late Chunking聚合整篇文档信息的Embedding。"
   ]
  },
  {
   "cell_type": "code",
   "execution_count": 50,
   "id": "54c14163-035e-46ee-9f52-6461695718df",
   "metadata": {
    "execution": {
     "iopub.execute_input": "2025-02-27T14:51:06.965026Z",
     "iopub.status.busy": "2025-02-27T14:51:06.964247Z",
     "iopub.status.idle": "2025-02-27T14:51:06.976415Z",
     "shell.execute_reply": "2025-02-27T14:51:06.975946Z",
     "shell.execute_reply.started": "2025-02-27T14:51:06.964956Z"
    }
   },
   "outputs": [],
   "source": [
    "unique_retrieve_docs = retrieved_dbg_df['retrieved'].unique().tolist()"
   ]
  },
  {
   "cell_type": "code",
   "execution_count": 51,
   "id": "738abc0c-a6f7-4980-8fb6-53757a84b313",
   "metadata": {
    "execution": {
     "iopub.execute_input": "2025-02-27T14:51:07.259735Z",
     "iopub.status.busy": "2025-02-27T14:51:07.258967Z",
     "iopub.status.idle": "2025-02-27T14:51:07.270981Z",
     "shell.execute_reply": "2025-02-27T14:51:07.269825Z",
     "shell.execute_reply.started": "2025-02-27T14:51:07.259666Z"
    }
   },
   "outputs": [
    {
     "data": {
      "text/plain": [
       "20"
      ]
     },
     "execution_count": 51,
     "metadata": {},
     "output_type": "execute_result"
    }
   ],
   "source": [
    "len(unique_retrieve_docs)"
   ]
  },
  {
   "cell_type": "code",
   "execution_count": 52,
   "id": "9a099ca8-c7f5-418f-a590-0291a617438f",
   "metadata": {
    "execution": {
     "iopub.execute_input": "2025-02-27T14:51:15.107257Z",
     "iopub.status.busy": "2025-02-27T14:51:15.107083Z",
     "iopub.status.idle": "2025-02-27T14:51:15.110276Z",
     "shell.execute_reply": "2025-02-27T14:51:15.109820Z",
     "shell.execute_reply.started": "2025-02-27T14:51:15.107243Z"
    }
   },
   "outputs": [
    {
     "data": {
      "text/plain": [
       "40"
      ]
     },
     "execution_count": 52,
     "metadata": {},
     "output_type": "execute_result"
    }
   ],
   "source": [
    "len(chunks)"
   ]
  },
  {
   "cell_type": "markdown",
   "id": "1057776e-e6a6-4ee2-a871-a745472e78f5",
   "metadata": {},
   "source": [
    "共计有40个知识库片段，但是以自己作为Query来进行检索，能检索会来的所有最相似片段只有20个，说明大量chunk作为Query时，连它自己都无法召回"
   ]
  },
  {
   "cell_type": "markdown",
   "id": "a2785915-655b-4a76-8fcb-6c2a90f07b74",
   "metadata": {},
   "source": [
    "## 检查chunks之间的两两相似度"
   ]
  },
  {
   "cell_type": "code",
   "execution_count": 61,
   "id": "3c74a606-2138-45db-a1ea-c916795aa5da",
   "metadata": {
    "execution": {
     "iopub.execute_input": "2025-02-27T14:56:23.278072Z",
     "iopub.status.busy": "2025-02-27T14:56:23.277240Z",
     "iopub.status.idle": "2025-02-27T14:56:25.570729Z",
     "shell.execute_reply": "2025-02-27T14:56:25.570235Z",
     "shell.execute_reply.started": "2025-02-27T14:56:23.278000Z"
    }
   },
   "outputs": [],
   "source": [
    "chunk_in_query_embeddings = np.array([vector_db.embeddings.embed_query(chunk) for chunk in chunks])\n",
    "chunk_in_late_embeddings = np.array(late_embeddings[0])"
   ]
  },
  {
   "cell_type": "markdown",
   "id": "90269fbe-d26a-4f61-81b4-3ed1c8e7494e",
   "metadata": {},
   "source": [
    "chunk_in_query_embeddings是把每个知识库片段作为Query时的Embedding，chunk_in_late_embeddings是每个片段作为知识库片段时，使用late chunking获得的Embedding"
   ]
  },
  {
   "cell_type": "code",
   "execution_count": 62,
   "id": "d7d7ea19-af9f-42f1-9b4f-e1a2c871227b",
   "metadata": {
    "execution": {
     "iopub.execute_input": "2025-02-27T14:56:26.122676Z",
     "iopub.status.busy": "2025-02-27T14:56:26.121860Z",
     "iopub.status.idle": "2025-02-27T14:56:26.135834Z",
     "shell.execute_reply": "2025-02-27T14:56:26.133481Z",
     "shell.execute_reply.started": "2025-02-27T14:56:26.122606Z"
    }
   },
   "outputs": [
    {
     "data": {
      "text/plain": [
       "((40, 1024), (40, 1024))"
      ]
     },
     "execution_count": 62,
     "metadata": {},
     "output_type": "execute_result"
    }
   ],
   "source": [
    "chunk_in_query_embeddings.shape, chunk_in_late_embeddings.shape"
   ]
  },
  {
   "cell_type": "code",
   "execution_count": 65,
   "id": "f5a9beae-0287-4085-942a-2c8d4d900ca7",
   "metadata": {
    "execution": {
     "iopub.execute_input": "2025-02-27T14:57:11.977148Z",
     "iopub.status.busy": "2025-02-27T14:57:11.976927Z",
     "iopub.status.idle": "2025-02-27T14:57:11.986116Z",
     "shell.execute_reply": "2025-02-27T14:57:11.985730Z",
     "shell.execute_reply.started": "2025-02-27T14:57:11.977129Z"
    }
   },
   "outputs": [],
   "source": [
    "from sklearn.metrics.pairwise import cosine_similarity\n",
    "\n",
    "cos_sim = cosine_similarity(chunk_in_query_embeddings, chunk_in_late_embeddings)"
   ]
  },
  {
   "cell_type": "code",
   "execution_count": 66,
   "id": "60c1dbd8-fcea-4696-a68b-30d9044fae2f",
   "metadata": {
    "execution": {
     "iopub.execute_input": "2025-02-27T14:58:05.062447Z",
     "iopub.status.busy": "2025-02-27T14:58:05.061930Z",
     "iopub.status.idle": "2025-02-27T14:58:05.329360Z",
     "shell.execute_reply": "2025-02-27T14:58:05.328925Z",
     "shell.execute_reply.started": "2025-02-27T14:58:05.062403Z"
    }
   },
   "outputs": [],
   "source": [
    "import seaborn as sns\n",
    "import matplotlib.pyplot as plt"
   ]
  },
  {
   "cell_type": "code",
   "execution_count": 67,
   "id": "a5c49074-3271-4103-bbf7-80eaf9fa0676",
   "metadata": {
    "execution": {
     "iopub.execute_input": "2025-02-27T14:58:05.801409Z",
     "iopub.status.busy": "2025-02-27T14:58:05.799811Z",
     "iopub.status.idle": "2025-02-27T14:58:06.110584Z",
     "shell.execute_reply": "2025-02-27T14:58:06.110080Z",
     "shell.execute_reply.started": "2025-02-27T14:58:05.801332Z"
    }
   },
   "outputs": [
    {
     "data": {
      "text/plain": [
       "<Axes: >"
      ]
     },
     "execution_count": 67,
     "metadata": {},
     "output_type": "execute_result"
    },
    {
     "data": {
      "image/png": "[encoded data removed]",
      "text/plain": [
       "<Figure size 800x800 with 2 Axes>"
      ]
     },
     "metadata": {},
     "output_type": "display_data"
    }
   ],
   "source": [
    "plt.figure(figsize=(8, 8))\n",
    "\n",
    "sns.heatmap(cos_sim, square=True, cmap='coolwarm')"
   ]
  },
  {
   "cell_type": "markdown",
   "id": "4f1162c4-e20b-43a6-a06b-4b1e8609146a",
   "metadata": {},
   "source": [
    "从这个图可以看出，并不是对角线是最相似的，有不少片段，都跟开头的两句相似度比较高"
   ]
  }
 ],
 "metadata": {
  "kernelspec": {
   "display_name": "Python 3 (ipykernel)",
   "language": "python",
   "name": "python3"
  },
  "language_info": {
   "codemirror_mode": {
    "name": "ipython",
    "version": 3
   },
   "file_extension": ".py",
   "mimetype": "text/x-python",
   "name": "python",
   "nbconvert_exporter": "python",
   "pygments_lexer": "ipython3",
   "version": "3.10.9"
  },
  "papermill": {
   "default_parameters": {},
   "duration": 1058.563616,
   "end_time": "2024-11-23T14:46:37.625874",
   "environment_variables": {},
   "exception": null,
   "input_path": "13_contextual_embeddings.ipynb",
   "output_path": "run_13_contextual_embeddings.ipynb",
   "parameters": {},
   "start_time": "2024-11-23T14:28:59.062258",
   "version": "2.6.0"
  },
  "widgets": {
   "application/vnd.jupyter.widget-state+json": {
    "state": {
     "0cd8c168767249f2a5fa412173f6e751": {
      "model_module": "@jupyter-widgets/controls",
      "model_module_version": "2.0.0",
      "model_name": "FloatProgressModel",
      "state": {
       "_dom_classes": [],
       "_model_module": "@jupyter-widgets/controls",
       "_model_module_version": "2.0.0",
       "_model_name": "FloatProgressModel",
       "_view_count": null,
       "_view_module": "@jupyter-widgets/controls",
       "_view_module_version": "2.0.0",
       "_view_name": "ProgressView",
       "bar_style": "success",
       "description": "",
       "description_allow_html": false,
       "layout": "IPY_MODEL_5ce1d1d9d86c40d9839877ff95734491",
       "max": 100,
       "min": 0,
       "orientation": "horizontal",
       "style": "IPY_MODEL_231702cf4d79477f9d5548665a1b18fe",
       "tabbable": null,
       "tooltip": null,
       "value": 100
      }
     },
     "2133bb8d85d34b8db112b4408ad60320": {
      "model_module": "@jupyter-widgets/controls",
      "model_module_version": "2.0.0",
      "model_name": "HTMLStyleModel",
      "state": {
       "_model_module": "@jupyter-widgets/controls",
       "_model_module_version": "2.0.0",
       "_model_name": "HTMLStyleModel",
       "_view_count": null,
       "_view_module": "@jupyter-widgets/base",
       "_view_module_version": "2.0.0",
       "_view_name": "StyleView",
       "background": null,
       "description_width": "",
       "font_size": null,
       "text_color": null
      }
     },
     "231702cf4d79477f9d5548665a1b18fe": {
      "model_module": "@jupyter-widgets/controls",
      "model_module_version": "2.0.0",
      "model_name": "ProgressStyleModel",
      "state": {
       "_model_module": "@jupyter-widgets/controls",
       "_model_module_version": "2.0.0",
       "_model_name": "ProgressStyleModel",
       "_view_count": null,
       "_view_module": "@jupyter-widgets/base",
       "_view_module_version": "2.0.0",
       "_view_name": "StyleView",
       "bar_color": null,
       "description_width": ""
      }
     },
     "23b1ad9c0f9c46c888da66e85c90eb84": {
      "model_module": "@jupyter-widgets/base",
      "model_module_version": "2.0.0",
      "model_name": "LayoutModel",
      "state": {
       "_model_module": "@jupyter-widgets/base",
       "_model_module_version": "2.0.0",
       "_model_name": "LayoutModel",
       "_view_count": null,
       "_view_module": "@jupyter-widgets/base",
       "_view_module_version": "2.0.0",
       "_view_name": "LayoutView",
       "align_content": null,
       "align_items": null,
       "align_self": null,
       "border_bottom": null,
       "border_left": null,
       "border_right": null,
       "border_top": null,
       "bottom": null,
       "display": null,
       "flex": null,
       "flex_flow": null,
       "grid_area": null,
       "grid_auto_columns": null,
       "grid_auto_flow": null,
       "grid_auto_rows": null,
       "grid_column": null,
       "grid_gap": null,
       "grid_row": null,
       "grid_template_areas": null,
       "grid_template_columns": null,
       "grid_template_rows": null,
       "height": null,
       "justify_content": null,
       "justify_items": null,
       "left": null,
       "margin": null,
       "max_height": null,
       "max_width": null,
       "min_height": null,
       "min_width": null,
       "object_fit": null,
       "object_position": null,
       "order": null,
       "overflow": null,
       "padding": null,
       "right": null,
       "top": null,
       "visibility": null,
       "width": null
      }
     },
     "24e6eadc3dc940ecabf30dd1a3c6d1f3": {
      "model_module": "@jupyter-widgets/controls",
      "model_module_version": "2.0.0",
      "model_name": "FloatProgressModel",
      "state": {
       "_dom_classes": [],
       "_model_module": "@jupyter-widgets/controls",
       "_model_module_version": "2.0.0",
       "_model_name": "FloatProgressModel",
       "_view_count": null,
       "_view_module": "@jupyter-widgets/controls",
       "_view_module_version": "2.0.0",
       "_view_name": "ProgressView",
       "bar_style": "success",
       "description": "",
       "description_allow_html": false,
       "layout": "IPY_MODEL_fa4bddf2c33241b5bf918054518f128f",
       "max": 52,
       "min": 0,
       "orientation": "horizontal",
       "style": "IPY_MODEL_edc33e82be8f41eba6a18a0ef074ab7a",
       "tabbable": null,
       "tooltip": null,
       "value": 52
      }
     },
     "2f60367b1c8941e2bf71661c33969ae8": {
      "model_module": "@jupyter-widgets/base",
      "model_module_version": "2.0.0",
      "model_name": "LayoutModel",
      "state": {
       "_model_module": "@jupyter-widgets/base",
       "_model_module_version": "2.0.0",
       "_model_name": "LayoutModel",
       "_view_count": null,
       "_view_module": "@jupyter-widgets/base",
       "_view_module_version": "2.0.0",
       "_view_name": "LayoutView",
       "align_content": null,
       "align_items": null,
       "align_self": null,
       "border_bottom": null,
       "border_left": null,
       "border_right": null,
       "border_top": null,
       "bottom": null,
       "display": null,
       "flex": null,
       "flex_flow": null,
       "grid_area": null,
       "grid_auto_columns": null,
       "grid_auto_flow": null,
       "grid_auto_rows": null,
       "grid_column": null,
       "grid_gap": null,
       "grid_row": null,
       "grid_template_areas": null,
       "grid_template_columns": null,
       "grid_template_rows": null,
       "height": null,
       "justify_content": null,
       "justify_items": null,
       "left": null,
       "margin": null,
       "max_height": null,
       "max_width": null,
       "min_height": null,
       "min_width": null,
       "object_fit": null,
       "object_position": null,
       "order": null,
       "overflow": null,
       "padding": null,
       "right": null,
       "top": null,
       "visibility": null,
       "width": null
      }
     },
     "3865f25c78aa46f29a25d807205281c3": {
      "model_module": "@jupyter-widgets/base",
      "model_module_version": "2.0.0",
      "model_name": "LayoutModel",
      "state": {
       "_model_module": "@jupyter-widgets/base",
       "_model_module_version": "2.0.0",
       "_model_name": "LayoutModel",
       "_view_count": null,
       "_view_module": "@jupyter-widgets/base",
       "_view_module_version": "2.0.0",
       "_view_name": "LayoutView",
       "align_content": null,
       "align_items": null,
       "align_self": null,
       "border_bottom": null,
       "border_left": null,
       "border_right": null,
       "border_top": null,
       "bottom": null,
       "display": null,
       "flex": null,
       "flex_flow": null,
       "grid_area": null,
       "grid_auto_columns": null,
       "grid_auto_flow": null,
       "grid_auto_rows": null,
       "grid_column": null,
       "grid_gap": null,
       "grid_row": null,
       "grid_template_areas": null,
       "grid_template_columns": null,
       "grid_template_rows": null,
       "height": null,
       "justify_content": null,
       "justify_items": null,
       "left": null,
       "margin": null,
       "max_height": null,
       "max_width": null,
       "min_height": null,
       "min_width": null,
       "object_fit": null,
       "object_position": null,
       "order": null,
       "overflow": null,
       "padding": null,
       "right": null,
       "top": null,
       "visibility": null,
       "width": null
      }
     },
     "3d0b06deaa654b989eece8cde06fa0f8": {
      "model_module": "@jupyter-widgets/controls",
      "model_module_version": "2.0.0",
      "model_name": "HTMLStyleModel",
      "state": {
       "_model_module": "@jupyter-widgets/controls",
       "_model_module_version": "2.0.0",
       "_model_name": "HTMLStyleModel",
       "_view_count": null,
       "_view_module": "@jupyter-widgets/base",
       "_view_module_version": "2.0.0",
       "_view_name": "StyleView",
       "background": null,
       "description_width": "",
       "font_size": null,
       "text_color": null
      }
     },
     "3f8ceda83287475b97608e42f5f6782f": {
      "model_module": "@jupyter-widgets/base",
      "model_module_version": "2.0.0",
      "model_name": "LayoutModel",
      "state": {
       "_model_module": "@jupyter-widgets/base",
       "_model_module_version": "2.0.0",
       "_model_name": "LayoutModel",
       "_view_count": null,
       "_view_module": "@jupyter-widgets/base",
       "_view_module_version": "2.0.0",
       "_view_name": "LayoutView",
       "align_content": null,
       "align_items": null,
       "align_self": null,
       "border_bottom": null,
       "border_left": null,
       "border_right": null,
       "border_top": null,
       "bottom": null,
       "display": null,
       "flex": null,
       "flex_flow": null,
       "grid_area": null,
       "grid_auto_columns": null,
       "grid_auto_flow": null,
       "grid_auto_rows": null,
       "grid_column": null,
       "grid_gap": null,
       "grid_row": null,
       "grid_template_areas": null,
       "grid_template_columns": null,
       "grid_template_rows": null,
       "height": null,
       "justify_content": null,
       "justify_items": null,
       "left": null,
       "margin": null,
       "max_height": null,
       "max_width": null,
       "min_height": null,
       "min_width": null,
       "object_fit": null,
       "object_position": null,
       "order": null,
       "overflow": null,
       "padding": null,
       "right": null,
       "top": null,
       "visibility": null,
       "width": null
      }
     },
     "4881e496f1c84fe29ce9ebebaddfb3c2": {
      "model_module": "@jupyter-widgets/controls",
      "model_module_version": "2.0.0",
      "model_name": "HBoxModel",
      "state": {
       "_dom_classes": [],
       "_model_module": "@jupyter-widgets/controls",
       "_model_module_version": "2.0.0",
       "_model_name": "HBoxModel",
       "_view_count": null,
       "_view_module": "@jupyter-widgets/controls",
       "_view_module_version": "2.0.0",
       "_view_name": "HBoxView",
       "box_style": "",
       "children": [
        "IPY_MODEL_bd096d5d219a467786a85cfe1613fedd",
        "IPY_MODEL_24e6eadc3dc940ecabf30dd1a3c6d1f3",
        "IPY_MODEL_bc2b8104b4244d8cacedeb95e800d91c"
       ],
       "layout": "IPY_MODEL_6b9a8e43c1c342dba500a14e7149b600",
       "tabbable": null,
       "tooltip": null
      }
     },
     "5ce1d1d9d86c40d9839877ff95734491": {
      "model_module": "@jupyter-widgets/base",
      "model_module_version": "2.0.0",
      "model_name": "LayoutModel",
      "state": {
       "_model_module": "@jupyter-widgets/base",
       "_model_module_version": "2.0.0",
       "_model_name": "LayoutModel",
       "_view_count": null,
       "_view_module": "@jupyter-widgets/base",
       "_view_module_version": "2.0.0",
       "_view_name": "LayoutView",
       "align_content": null,
       "align_items": null,
       "align_self": null,
       "border_bottom": null,
       "border_left": null,
       "border_right": null,
       "border_top": null,
       "bottom": null,
       "display": null,
       "flex": null,
       "flex_flow": null,
       "grid_area": null,
       "grid_auto_columns": null,
       "grid_auto_flow": null,
       "grid_auto_rows": null,
       "grid_column": null,
       "grid_gap": null,
       "grid_row": null,
       "grid_template_areas": null,
       "grid_template_columns": null,
       "grid_template_rows": null,
       "height": null,
       "justify_content": null,
       "justify_items": null,
       "left": null,
       "margin": null,
       "max_height": null,
       "max_width": null,
       "min_height": null,
       "min_width": null,
       "object_fit": null,
       "object_position": null,
       "order": null,
       "overflow": null,
       "padding": null,
       "right": null,
       "top": null,
       "visibility": null,
       "width": null
      }
     },
     "5ddb08be5cc64c9ab40a1d62a21763a5": {
      "model_module": "@jupyter-widgets/controls",
      "model_module_version": "2.0.0",
      "model_name": "HTMLModel",
      "state": {
       "_dom_classes": [],
       "_model_module": "@jupyter-widgets/controls",
       "_model_module_version": "2.0.0",
       "_model_name": "HTMLModel",
       "_view_count": null,
       "_view_module": "@jupyter-widgets/controls",
       "_view_module_version": "2.0.0",
       "_view_name": "HTMLView",
       "description": "",
       "description_allow_html": false,
       "layout": "IPY_MODEL_86283159049d48b1adcfb2de2d404d4d",
       "placeholder": "​",
       "style": "IPY_MODEL_2133bb8d85d34b8db112b4408ad60320",
       "tabbable": null,
       "tooltip": null,
       "value": " 100/100 [08:34&lt;00:00, 10.01s/it]"
      }
     },
     "5ef9d83ccad1471f85335900a24a8553": {
      "model_module": "@jupyter-widgets/base",
      "model_module_version": "2.0.0",
      "model_name": "LayoutModel",
      "state": {
       "_model_module": "@jupyter-widgets/base",
       "_model_module_version": "2.0.0",
       "_model_name": "LayoutModel",
       "_view_count": null,
       "_view_module": "@jupyter-widgets/base",
       "_view_module_version": "2.0.0",
       "_view_name": "LayoutView",
       "align_content": null,
       "align_items": null,
       "align_self": null,
       "border_bottom": null,
       "border_left": null,
       "border_right": null,
       "border_top": null,
       "bottom": null,
       "display": null,
       "flex": null,
       "flex_flow": null,
       "grid_area": null,
       "grid_auto_columns": null,
       "grid_auto_flow": null,
       "grid_auto_rows": null,
       "grid_column": null,
       "grid_gap": null,
       "grid_row": null,
       "grid_template_areas": null,
       "grid_template_columns": null,
       "grid_template_rows": null,
       "height": null,
       "justify_content": null,
       "justify_items": null,
       "left": null,
       "margin": null,
       "max_height": null,
       "max_width": null,
       "min_height": null,
       "min_width": null,
       "object_fit": null,
       "object_position": null,
       "order": null,
       "overflow": null,
       "padding": null,
       "right": null,
       "top": null,
       "visibility": null,
       "width": null
      }
     },
     "6b9a8e43c1c342dba500a14e7149b600": {
      "model_module": "@jupyter-widgets/base",
      "model_module_version": "2.0.0",
      "model_name": "LayoutModel",
      "state": {
       "_model_module": "@jupyter-widgets/base",
       "_model_module_version": "2.0.0",
       "_model_name": "LayoutModel",
       "_view_count": null,
       "_view_module": "@jupyter-widgets/base",
       "_view_module_version": "2.0.0",
       "_view_name": "LayoutView",
       "align_content": null,
       "align_items": null,
       "align_self": null,
       "border_bottom": null,
       "border_left": null,
       "border_right": null,
       "border_top": null,
       "bottom": null,
       "display": null,
       "flex": null,
       "flex_flow": null,
       "grid_area": null,
       "grid_auto_columns": null,
       "grid_auto_flow": null,
       "grid_auto_rows": null,
       "grid_column": null,
       "grid_gap": null,
       "grid_row": null,
       "grid_template_areas": null,
       "grid_template_columns": null,
       "grid_template_rows": null,
       "height": null,
       "justify_content": null,
       "justify_items": null,
       "left": null,
       "margin": null,
       "max_height": null,
       "max_width": null,
       "min_height": null,
       "min_width": null,
       "object_fit": null,
       "object_position": null,
       "order": null,
       "overflow": null,
       "padding": null,
       "right": null,
       "top": null,
       "visibility": null,
       "width": null
      }
     },
     "816a079a8c804fbfa9b9a74f941abea8": {
      "model_module": "@jupyter-widgets/controls",
      "model_module_version": "2.0.0",
      "model_name": "HBoxModel",
      "state": {
       "_dom_classes": [],
       "_model_module": "@jupyter-widgets/controls",
       "_model_module_version": "2.0.0",
       "_model_name": "HBoxModel",
       "_view_count": null,
       "_view_module": "@jupyter-widgets/controls",
       "_view_module_version": "2.0.0",
       "_view_name": "HBoxView",
       "box_style": "",
       "children": [
        "IPY_MODEL_bcc69ec5db1b4aab977807284c9290e7",
        "IPY_MODEL_0cd8c168767249f2a5fa412173f6e751",
        "IPY_MODEL_5ddb08be5cc64c9ab40a1d62a21763a5"
       ],
       "layout": "IPY_MODEL_d1178c6858284f788a80b5f2a14fd0b7",
       "tabbable": null,
       "tooltip": null
      }
     },
     "86283159049d48b1adcfb2de2d404d4d": {
      "model_module": "@jupyter-widgets/base",
      "model_module_version": "2.0.0",
      "model_name": "LayoutModel",
      "state": {
       "_model_module": "@jupyter-widgets/base",
       "_model_module_version": "2.0.0",
       "_model_name": "LayoutModel",
       "_view_count": null,
       "_view_module": "@jupyter-widgets/base",
       "_view_module_version": "2.0.0",
       "_view_name": "LayoutView",
       "align_content": null,
       "align_items": null,
       "align_self": null,
       "border_bottom": null,
       "border_left": null,
       "border_right": null,
       "border_top": null,
       "bottom": null,
       "display": null,
       "flex": null,
       "flex_flow": null,
       "grid_area": null,
       "grid_auto_columns": null,
       "grid_auto_flow": null,
       "grid_auto_rows": null,
       "grid_column": null,
       "grid_gap": null,
       "grid_row": null,
       "grid_template_areas": null,
       "grid_template_columns": null,
       "grid_template_rows": null,
       "height": null,
       "justify_content": null,
       "justify_items": null,
       "left": null,
       "margin": null,
       "max_height": null,
       "max_width": null,
       "min_height": null,
       "min_width": null,
       "object_fit": null,
       "object_position": null,
       "order": null,
       "overflow": null,
       "padding": null,
       "right": null,
       "top": null,
       "visibility": null,
       "width": null
      }
     },
     "8ff8262c56604119883f4a5f13bb74ab": {
      "model_module": "@jupyter-widgets/controls",
      "model_module_version": "2.0.0",
      "model_name": "HTMLModel",
      "state": {
       "_dom_classes": [],
       "_model_module": "@jupyter-widgets/controls",
       "_model_module_version": "2.0.0",
       "_model_name": "HTMLModel",
       "_view_count": null,
       "_view_module": "@jupyter-widgets/controls",
       "_view_module_version": "2.0.0",
       "_view_name": "HTMLView",
       "description": "",
       "description_allow_html": false,
       "layout": "IPY_MODEL_5ef9d83ccad1471f85335900a24a8553",
       "placeholder": "​",
       "style": "IPY_MODEL_e89e77133c344fc48c1d62f5a607ec93",
       "tabbable": null,
       "tooltip": null,
       "value": " 8/8 [00:18&lt;00:00,  2.27s/it]"
      }
     },
     "9189a076554543aaa6f5ee04e40dbe1b": {
      "model_module": "@jupyter-widgets/controls",
      "model_module_version": "2.0.0",
      "model_name": "HTMLStyleModel",
      "state": {
       "_model_module": "@jupyter-widgets/controls",
       "_model_module_version": "2.0.0",
       "_model_name": "HTMLStyleModel",
       "_view_count": null,
       "_view_module": "@jupyter-widgets/base",
       "_view_module_version": "2.0.0",
       "_view_name": "StyleView",
       "background": null,
       "description_width": "",
       "font_size": null,
       "text_color": null
      }
     },
     "988e6697a2af486fadeaf0b84347b565": {
      "model_module": "@jupyter-widgets/controls",
      "model_module_version": "2.0.0",
      "model_name": "HBoxModel",
      "state": {
       "_dom_classes": [],
       "_model_module": "@jupyter-widgets/controls",
       "_model_module_version": "2.0.0",
       "_model_name": "HBoxModel",
       "_view_count": null,
       "_view_module": "@jupyter-widgets/controls",
       "_view_module_version": "2.0.0",
       "_view_name": "HBoxView",
       "box_style": "",
       "children": [
        "IPY_MODEL_e1aae4c55cb64f379e74f15357275628",
        "IPY_MODEL_fd9e23198ca1489a9773fda3510bf857",
        "IPY_MODEL_8ff8262c56604119883f4a5f13bb74ab"
       ],
       "layout": "IPY_MODEL_d2ee15001d2244529f7e47d3333c0f8e",
       "tabbable": null,
       "tooltip": null
      }
     },
     "9fc7d91f94a94933bde5ba80e64587de": {
      "model_module": "@jupyter-widgets/controls",
      "model_module_version": "2.0.0",
      "model_name": "HTMLStyleModel",
      "state": {
       "_model_module": "@jupyter-widgets/controls",
       "_model_module_version": "2.0.0",
       "_model_name": "HTMLStyleModel",
       "_view_count": null,
       "_view_module": "@jupyter-widgets/base",
       "_view_module_version": "2.0.0",
       "_view_name": "StyleView",
       "background": null,
       "description_width": "",
       "font_size": null,
       "text_color": null
      }
     },
     "a7d240a289084bdfba4724c0efd5ab07": {
      "model_module": "@jupyter-widgets/controls",
      "model_module_version": "2.0.0",
      "model_name": "ProgressStyleModel",
      "state": {
       "_model_module": "@jupyter-widgets/controls",
       "_model_module_version": "2.0.0",
       "_model_name": "ProgressStyleModel",
       "_view_count": null,
       "_view_module": "@jupyter-widgets/base",
       "_view_module_version": "2.0.0",
       "_view_name": "StyleView",
       "bar_color": null,
       "description_width": ""
      }
     },
     "bc2b8104b4244d8cacedeb95e800d91c": {
      "model_module": "@jupyter-widgets/controls",
      "model_module_version": "2.0.0",
      "model_name": "HTMLModel",
      "state": {
       "_dom_classes": [],
       "_model_module": "@jupyter-widgets/controls",
       "_model_module_version": "2.0.0",
       "_model_name": "HTMLModel",
       "_view_count": null,
       "_view_module": "@jupyter-widgets/controls",
       "_view_module_version": "2.0.0",
       "_view_name": "HTMLView",
       "description": "",
       "description_allow_html": false,
       "layout": "IPY_MODEL_2f60367b1c8941e2bf71661c33969ae8",
       "placeholder": "​",
       "style": "IPY_MODEL_9fc7d91f94a94933bde5ba80e64587de",
       "tabbable": null,
       "tooltip": null,
       "value": " 52/52 [04:26&lt;00:00,  4.22s/it]"
      }
     },
     "bcc69ec5db1b4aab977807284c9290e7": {
      "model_module": "@jupyter-widgets/controls",
      "model_module_version": "2.0.0",
      "model_name": "HTMLModel",
      "state": {
       "_dom_classes": [],
       "_model_module": "@jupyter-widgets/controls",
       "_model_module_version": "2.0.0",
       "_model_name": "HTMLModel",
       "_view_count": null,
       "_view_module": "@jupyter-widgets/controls",
       "_view_module_version": "2.0.0",
       "_view_name": "HTMLView",
       "description": "",
       "description_allow_html": false,
       "layout": "IPY_MODEL_3f8ceda83287475b97608e42f5f6782f",
       "placeholder": "​",
       "style": "IPY_MODEL_3d0b06deaa654b989eece8cde06fa0f8",
       "tabbable": null,
       "tooltip": null,
       "value": "100%"
      }
     },
     "bd096d5d219a467786a85cfe1613fedd": {
      "model_module": "@jupyter-widgets/controls",
      "model_module_version": "2.0.0",
      "model_name": "HTMLModel",
      "state": {
       "_dom_classes": [],
       "_model_module": "@jupyter-widgets/controls",
       "_model_module_version": "2.0.0",
       "_model_name": "HTMLModel",
       "_view_count": null,
       "_view_module": "@jupyter-widgets/controls",
       "_view_module_version": "2.0.0",
       "_view_name": "HTMLView",
       "description": "",
       "description_allow_html": false,
       "layout": "IPY_MODEL_3865f25c78aa46f29a25d807205281c3",
       "placeholder": "​",
       "style": "IPY_MODEL_9189a076554543aaa6f5ee04e40dbe1b",
       "tabbable": null,
       "tooltip": null,
       "value": "100%"
      }
     },
     "cc3ed8dc4a5c43aca7b62d904865b2fa": {
      "model_module": "@jupyter-widgets/base",
      "model_module_version": "2.0.0",
      "model_name": "LayoutModel",
      "state": {
       "_model_module": "@jupyter-widgets/base",
       "_model_module_version": "2.0.0",
       "_model_name": "LayoutModel",
       "_view_count": null,
       "_view_module": "@jupyter-widgets/base",
       "_view_module_version": "2.0.0",
       "_view_name": "LayoutView",
       "align_content": null,
       "align_items": null,
       "align_self": null,
       "border_bottom": null,
       "border_left": null,
       "border_right": null,
       "border_top": null,
       "bottom": null,
       "display": null,
       "flex": null,
       "flex_flow": null,
       "grid_area": null,
       "grid_auto_columns": null,
       "grid_auto_flow": null,
       "grid_auto_rows": null,
       "grid_column": null,
       "grid_gap": null,
       "grid_row": null,
       "grid_template_areas": null,
       "grid_template_columns": null,
       "grid_template_rows": null,
       "height": null,
       "justify_content": null,
       "justify_items": null,
       "left": null,
       "margin": null,
       "max_height": null,
       "max_width": null,
       "min_height": null,
       "min_width": null,
       "object_fit": null,
       "object_position": null,
       "order": null,
       "overflow": null,
       "padding": null,
       "right": null,
       "top": null,
       "visibility": null,
       "width": null
      }
     },
     "cf68b6fe24964ce792aa63827489cb97": {
      "model_module": "@jupyter-widgets/controls",
      "model_module_version": "2.0.0",
      "model_name": "HTMLStyleModel",
      "state": {
       "_model_module": "@jupyter-widgets/controls",
       "_model_module_version": "2.0.0",
       "_model_name": "HTMLStyleModel",
       "_view_count": null,
       "_view_module": "@jupyter-widgets/base",
       "_view_module_version": "2.0.0",
       "_view_name": "StyleView",
       "background": null,
       "description_width": "",
       "font_size": null,
       "text_color": null
      }
     },
     "d1178c6858284f788a80b5f2a14fd0b7": {
      "model_module": "@jupyter-widgets/base",
      "model_module_version": "2.0.0",
      "model_name": "LayoutModel",
      "state": {
       "_model_module": "@jupyter-widgets/base",
       "_model_module_version": "2.0.0",
       "_model_name": "LayoutModel",
       "_view_count": null,
       "_view_module": "@jupyter-widgets/base",
       "_view_module_version": "2.0.0",
       "_view_name": "LayoutView",
       "align_content": null,
       "align_items": null,
       "align_self": null,
       "border_bottom": null,
       "border_left": null,
       "border_right": null,
       "border_top": null,
       "bottom": null,
       "display": null,
       "flex": null,
       "flex_flow": null,
       "grid_area": null,
       "grid_auto_columns": null,
       "grid_auto_flow": null,
       "grid_auto_rows": null,
       "grid_column": null,
       "grid_gap": null,
       "grid_row": null,
       "grid_template_areas": null,
       "grid_template_columns": null,
       "grid_template_rows": null,
       "height": null,
       "justify_content": null,
       "justify_items": null,
       "left": null,
       "margin": null,
       "max_height": null,
       "max_width": null,
       "min_height": null,
       "min_width": null,
       "object_fit": null,
       "object_position": null,
       "order": null,
       "overflow": null,
       "padding": null,
       "right": null,
       "top": null,
       "visibility": null,
       "width": null
      }
     },
     "d2ee15001d2244529f7e47d3333c0f8e": {
      "model_module": "@jupyter-widgets/base",
      "model_module_version": "2.0.0",
      "model_name": "LayoutModel",
      "state": {
       "_model_module": "@jupyter-widgets/base",
       "_model_module_version": "2.0.0",
       "_model_name": "LayoutModel",
       "_view_count": null,
       "_view_module": "@jupyter-widgets/base",
       "_view_module_version": "2.0.0",
       "_view_name": "LayoutView",
       "align_content": null,
       "align_items": null,
       "align_self": null,
       "border_bottom": null,
       "border_left": null,
       "border_right": null,
       "border_top": null,
       "bottom": null,
       "display": null,
       "flex": null,
       "flex_flow": null,
       "grid_area": null,
       "grid_auto_columns": null,
       "grid_auto_flow": null,
       "grid_auto_rows": null,
       "grid_column": null,
       "grid_gap": null,
       "grid_row": null,
       "grid_template_areas": null,
       "grid_template_columns": null,
       "grid_template_rows": null,
       "height": null,
       "justify_content": null,
       "justify_items": null,
       "left": null,
       "margin": null,
       "max_height": null,
       "max_width": null,
       "min_height": null,
       "min_width": null,
       "object_fit": null,
       "object_position": null,
       "order": null,
       "overflow": null,
       "padding": null,
       "right": null,
       "top": null,
       "visibility": null,
       "width": null
      }
     },
     "e1aae4c55cb64f379e74f15357275628": {
      "model_module": "@jupyter-widgets/controls",
      "model_module_version": "2.0.0",
      "model_name": "HTMLModel",
      "state": {
       "_dom_classes": [],
       "_model_module": "@jupyter-widgets/controls",
       "_model_module_version": "2.0.0",
       "_model_name": "HTMLModel",
       "_view_count": null,
       "_view_module": "@jupyter-widgets/controls",
       "_view_module_version": "2.0.0",
       "_view_name": "HTMLView",
       "description": "",
       "description_allow_html": false,
       "layout": "IPY_MODEL_23b1ad9c0f9c46c888da66e85c90eb84",
       "placeholder": "​",
       "style": "IPY_MODEL_cf68b6fe24964ce792aa63827489cb97",
       "tabbable": null,
       "tooltip": null,
       "value": "100%"
      }
     },
     "e89e77133c344fc48c1d62f5a607ec93": {
      "model_module": "@jupyter-widgets/controls",
      "model_module_version": "2.0.0",
      "model_name": "HTMLStyleModel",
      "state": {
       "_model_module": "@jupyter-widgets/controls",
       "_model_module_version": "2.0.0",
       "_model_name": "HTMLStyleModel",
       "_view_count": null,
       "_view_module": "@jupyter-widgets/base",
       "_view_module_version": "2.0.0",
       "_view_name": "StyleView",
       "background": null,
       "description_width": "",
       "font_size": null,
       "text_color": null
      }
     },
     "edc33e82be8f41eba6a18a0ef074ab7a": {
      "model_module": "@jupyter-widgets/controls",
      "model_module_version": "2.0.0",
      "model_name": "ProgressStyleModel",
      "state": {
       "_model_module": "@jupyter-widgets/controls",
       "_model_module_version": "2.0.0",
       "_model_name": "ProgressStyleModel",
       "_view_count": null,
       "_view_module": "@jupyter-widgets/base",
       "_view_module_version": "2.0.0",
       "_view_name": "StyleView",
       "bar_color": null,
       "description_width": ""
      }
     },
     "fa4bddf2c33241b5bf918054518f128f": {
      "model_module": "@jupyter-widgets/base",
      "model_module_version": "2.0.0",
      "model_name": "LayoutModel",
      "state": {
       "_model_module": "@jupyter-widgets/base",
       "_model_module_version": "2.0.0",
       "_model_name": "LayoutModel",
       "_view_count": null,
       "_view_module": "@jupyter-widgets/base",
       "_view_module_version": "2.0.0",
       "_view_name": "LayoutView",
       "align_content": null,
       "align_items": null,
       "align_self": null,
       "border_bottom": null,
       "border_left": null,
       "border_right": null,
       "border_top": null,
       "bottom": null,
       "display": null,
       "flex": null,
       "flex_flow": null,
       "grid_area": null,
       "grid_auto_columns": null,
       "grid_auto_flow": null,
       "grid_auto_rows": null,
       "grid_column": null,
       "grid_gap": null,
       "grid_row": null,
       "grid_template_areas": null,
       "grid_template_columns": null,
       "grid_template_rows": null,
       "height": null,
       "justify_content": null,
       "justify_items": null,
       "left": null,
       "margin": null,
       "max_height": null,
       "max_width": null,
       "min_height": null,
       "min_width": null,
       "object_fit": null,
       "object_position": null,
       "order": null,
       "overflow": null,
       "padding": null,
       "right": null,
       "top": null,
       "visibility": null,
       "width": null
      }
     },
     "fd9e23198ca1489a9773fda3510bf857": {
      "model_module": "@jupyter-widgets/controls",
      "model_module_version": "2.0.0",
      "model_name": "FloatProgressModel",
      "state": {
       "_dom_classes": [],
       "_model_module": "@jupyter-widgets/controls",
       "_model_module_version": "2.0.0",
       "_model_name": "FloatProgressModel",
       "_view_count": null,
       "_view_module": "@jupyter-widgets/controls",
       "_view_module_version": "2.0.0",
       "_view_name": "ProgressView",
       "bar_style": "success",
       "description": "",
       "description_allow_html": false,
       "layout": "IPY_MODEL_cc3ed8dc4a5c43aca7b62d904865b2fa",
       "max": 8,
       "min": 0,
       "orientation": "horizontal",
       "style": "IPY_MODEL_a7d240a289084bdfba4724c0efd5ab07",
       "tabbable": null,
       "tooltip": null,
       "value": 8
      }
     }
    },
    "version_major": 2,
    "version_minor": 0
   }
  }
 },
 "nbformat": 4,
 "nbformat_minor": 5
}
